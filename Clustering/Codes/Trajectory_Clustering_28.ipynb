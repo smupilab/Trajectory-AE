{
  "nbformat": 4,
  "nbformat_minor": 5,
  "metadata": {
    "kernelspec": {
      "display_name": "Python 3",
      "language": "python",
      "name": "python3"
    },
    "language_info": {
      "codemirror_mode": {
        "name": "ipython",
        "version": 3
      },
      "file_extension": ".py",
      "mimetype": "text/x-python",
      "name": "python",
      "nbconvert_exporter": "python",
      "pygments_lexer": "ipython3",
      "version": "3.8.8"
    },
    "colab": {
      "name": "Trajectory_Clustering_28.ipynb",
      "provenance": [],
      "collapsed_sections": [],
      "include_colab_link": true
    }
  },
  "cells": [
    {
      "cell_type": "markdown",
      "metadata": {
        "id": "view-in-github",
        "colab_type": "text"
      },
      "source": [
        "<a href=\"https://colab.research.google.com/github/Taejin1221/Lab_Experiment/blob/main/Trajectory_Clustering/Trajectory_Clustering_28.ipynb\" target=\"_parent\"><img src=\"https://colab.research.google.com/assets/colab-badge.svg\" alt=\"Open In Colab\"/></a>"
      ]
    },
    {
      "cell_type": "markdown",
      "metadata": {
        "id": "4f560faa-4956-4fba-b929-add66c5750b6"
      },
      "source": [
        "# Load modules and Set constants"
      ],
      "id": "4f560faa-4956-4fba-b929-add66c5750b6"
    },
    {
      "cell_type": "code",
      "metadata": {
        "id": "535ff0e4-903d-42fd-a578-a189fda5fc73"
      },
      "source": [
        "import os, cv2, glob\n",
        "import numpy as np\n",
        "\n",
        "import matplotlib.pyplot as plt"
      ],
      "id": "535ff0e4-903d-42fd-a578-a189fda5fc73",
      "execution_count": null,
      "outputs": []
    },
    {
      "cell_type": "code",
      "metadata": {
        "colab": {
          "base_uri": "https://localhost:8080/"
        },
        "id": "BQZbg-TyjyRw",
        "outputId": "d4fded39-8705-41f0-ca02-a70e8236f882"
      },
      "source": [
        "from google.colab import drive\n",
        "drive.mount('/content/drive')"
      ],
      "id": "BQZbg-TyjyRw",
      "execution_count": null,
      "outputs": [
        {
          "output_type": "stream",
          "text": [
            "Mounted at /content/drive\n"
          ],
          "name": "stdout"
        }
      ]
    },
    {
      "cell_type": "code",
      "metadata": {
        "id": "af6c1e33-ae07-4cde-b5ee-6d28ed48821c",
        "colab": {
          "base_uri": "https://localhost:8080/"
        },
        "outputId": "cf9fcbfe-a5df-49eb-8746-b3abdda49f7c"
      },
      "source": [
        "WIDTH, HEIGHT = 8, 8\n",
        "CONCAT_WIDTH, CONCAT_HEIGHT = WIDTH + WIDTH, HEIGHT\n",
        "\n",
        "EXPERIMENT_DATA = {\n",
        "    'name' : 'Trajectory_Clusetring',\n",
        "    'number' : '28',\n",
        "    'date' : '07-08-2021',\n",
        "    'description' : 'Clustering with DNN\\n' + 'Last layer\\'s activation is None\\n'\n",
        "    }\n",
        "\n",
        "ROOT_DIR = os.path.join('/content')\n",
        "\n",
        "DATA_DIR = os.path.join(ROOT_DIR, 'Bitmap')\n",
        "\n",
        "EXPERIMENT_DIR = os.path.join(ROOT_DIR, 'drive', 'MyDrive', 'University', 'PiLab', 'Experiment')\n",
        "RESULT_DIR = os.path.join(EXPERIMENT_DIR, 'Results')\n",
        "\n",
        "os.chdir(RESULT_DIR)\n",
        "curr_result_name = f\"{EXPERIMENT_DATA['name']}_{EXPERIMENT_DATA['number']}_{EXPERIMENT_DATA['date']}_Data\"\n",
        "if (curr_result_name not in os.listdir()):\n",
        "    os.mkdir(curr_result_name)\n",
        "\n",
        "CURR_RESULT_DIR = os.path.join(RESULT_DIR, curr_result_name)\n",
        "os.chdir(CURR_RESULT_DIR)\n",
        "\n",
        "with open('Description.txt', 'w') as f:\n",
        "    f.write(EXPERIMENT_DATA['description'])\n",
        "\n",
        "print(f'ROOT_DIR:        {ROOT_DIR}')\n",
        "print(f'DATA_DIR:        {DATA_DIR}')\n",
        "print(f'EXPERIMENT_DIR:  {EXPERIMENT_DIR}')\n",
        "print(f'RESULT_DIR:      {RESULT_DIR}')\n",
        "print(f'CURR_RESULT_DIR: {CURR_RESULT_DIR}')"
      ],
      "id": "af6c1e33-ae07-4cde-b5ee-6d28ed48821c",
      "execution_count": null,
      "outputs": [
        {
          "output_type": "stream",
          "text": [
            "ROOT_DIR:        /content\n",
            "DATA_DIR:        /content/Bitmap\n",
            "EXPERIMENT_DIR:  /content/drive/MyDrive/University/PiLab/Experiment\n",
            "RESULT_DIR:      /content/drive/MyDrive/University/PiLab/Experiment/Results\n",
            "CURR_RESULT_DIR: /content/drive/MyDrive/University/PiLab/Experiment/Results/Trajectory_Clusetring_28_07-08-2021_Data\n"
          ],
          "name": "stdout"
        }
      ]
    },
    {
      "cell_type": "markdown",
      "metadata": {
        "id": "9da2c293-b65e-4f92-85b1-20da8e7e7c2b"
      },
      "source": [
        "# Load Bitmaps"
      ],
      "id": "9da2c293-b65e-4f92-85b1-20da8e7e7c2b"
    },
    {
      "cell_type": "code",
      "metadata": {
        "id": "pxrGnHDkn9sn"
      },
      "source": [
        "import zipfile\n",
        "\n",
        "os.chdir(ROOT_DIR)\n",
        "zipfile.ZipFile(\"Bitmap.zip\").extractall()"
      ],
      "id": "pxrGnHDkn9sn",
      "execution_count": null,
      "outputs": []
    },
    {
      "cell_type": "code",
      "metadata": {
        "id": "ad5a5d37-02c4-4f56-aeb8-9a2de7c98f46",
        "colab": {
          "base_uri": "https://localhost:8080/"
        },
        "outputId": "28b1d638-257e-4f24-e386-248cfd4076b2"
      },
      "source": [
        "os.chdir(DATA_DIR)\n",
        "print(sorted(glob.glob('*png'))[:10])"
      ],
      "id": "ad5a5d37-02c4-4f56-aeb8-9a2de7c98f46",
      "execution_count": null,
      "outputs": [
        {
          "output_type": "stream",
          "text": [
            "['0th data.png', '1000000th data.png', '1000064th data.png', '1000128th data.png', '1000192th data.png', '1000256th data.png', '1000320th data.png', '100032th data.png', '1000384th data.png', '1000448th data.png']\n"
          ],
          "name": "stdout"
        }
      ]
    },
    {
      "cell_type": "code",
      "metadata": {
        "id": "90fe9270-3fd7-4c09-ac85-1dcf9120a4dd",
        "colab": {
          "base_uri": "https://localhost:8080/",
          "height": 114
        },
        "outputId": "9fc84384-605b-48e6-8ad4-44943eadc994"
      },
      "source": [
        "os.chdir(DATA_DIR)\n",
        "\n",
        "file_names = list(sorted(glob.glob('*png')))\n",
        "\n",
        "bitmap_data = [ ]\n",
        "for file in file_names:\n",
        "    bitmap_data.append(cv2.imread(file, cv2.IMREAD_GRAYSCALE))\n",
        "\n",
        "plt.gray()\n",
        "fig, ax = plt.subplots(1, 4, sharex = True, sharey = True, figsize = (8, 64))\n",
        "ax[0].imshow(bitmap_data[0])\n",
        "ax[1].imshow(bitmap_data[1])\n",
        "ax[2].imshow(bitmap_data[2])\n",
        "ax[3].imshow(cv2.hconcat([bitmap_data[0], bitmap_data[1]]))\n",
        "\n",
        "plt.show()"
      ],
      "id": "90fe9270-3fd7-4c09-ac85-1dcf9120a4dd",
      "execution_count": null,
      "outputs": [
        {
          "output_type": "display_data",
          "data": {
            "text/plain": [
              "<Figure size 432x288 with 0 Axes>"
            ]
          },
          "metadata": {
            "tags": []
          }
        },
        {
          "output_type": "display_data",
          "data": {
            "image/png": "[encoded data removed]",
            "text/plain": [
              "<Figure size 576x4608 with 4 Axes>"
            ]
          },
          "metadata": {
            "tags": [],
            "needs_background": "light"
          }
        }
      ]
    },
    {
      "cell_type": "code",
      "metadata": {
        "colab": {
          "base_uri": "https://localhost:8080/"
        },
        "id": "fwaoQMoFxTGA",
        "outputId": "9f25551b-243e-4a49-debb-5d98ad1f6b1d"
      },
      "source": [
        "len(bitmap_data)"
      ],
      "id": "fwaoQMoFxTGA",
      "execution_count": null,
      "outputs": [
        {
          "output_type": "execute_result",
          "data": {
            "text/plain": [
              "18670"
            ]
          },
          "metadata": {
            "tags": []
          },
          "execution_count": 7
        }
      ]
    },
    {
      "cell_type": "markdown",
      "metadata": {
        "id": "UjNWvJlp0b37"
      },
      "source": [
        "# Create Dataset"
      ],
      "id": "UjNWvJlp0b37"
    },
    {
      "cell_type": "code",
      "metadata": {
        "id": "4MZa_foE0bT5"
      },
      "source": [
        "X_TRAIN_SIZE = 100\n",
        "X_TEST_SIZE = 10\n",
        "\n",
        "X_train, Y_train = [ ], [ ]\n",
        "for i in range(X_TRAIN_SIZE):\n",
        "    for j in range(X_TRAIN_SIZE):\n",
        "        X_train.append(cv2.hconcat([bitmap_data[i], bitmap_data[j]]))\n",
        "        if (i == j):\n",
        "            Y_train.append(1)\n",
        "        else:\n",
        "            Y_train.append(0)\n",
        "\n",
        "for i in range(X_TRAIN_SIZE + X_TEST_SIZE, X_TRAIN_SIZE + X_TEST_SIZE + 10_000):\n",
        "    X_train.append(cv2.hconcat([bitmap_data[i], bitmap_data[i]]))\n",
        "    Y_train.append(1)\n",
        "\n",
        "X_test, Y_test = [ ], [ ]\n",
        "for i in range(X_TRAIN_SIZE, X_TRAIN_SIZE + X_TEST_SIZE):\n",
        "    for j in range(X_TRAIN_SIZE, X_TRAIN_SIZE + X_TEST_SIZE):\n",
        "        X_test.append(cv2.hconcat([bitmap_data[i], bitmap_data[j]]))\n",
        "        if (i == j):\n",
        "            Y_test.append(1)\n",
        "        else:\n",
        "            Y_test.append(0)\n",
        "\n",
        "for i in range(X_TRAIN_SIZE + X_TEST_SIZE + 10_000, X_TRAIN_SIZE + X_TEST_SIZE + 10_000 + 100):\n",
        "    X_test.append(cv2.hconcat([bitmap_data[i], bitmap_data[i]]))\n",
        "    Y_test.append(1)"
      ],
      "id": "4MZa_foE0bT5",
      "execution_count": null,
      "outputs": []
    },
    {
      "cell_type": "code",
      "metadata": {
        "id": "Kqx7Xyai2bSt"
      },
      "source": [
        "X_train = np.array(X_train).astype('float32') / 255.\n",
        "X_train = np.reshape(X_train, (-1, CONCAT_HEIGHT * CONCAT_WIDTH))\n",
        "\n",
        "X_test = np.array(X_test).astype('float32') / 255\n",
        "X_test = np.reshape(X_test, (-1, CONCAT_HEIGHT * CONCAT_WIDTH))\n",
        "\n",
        "Y_train = np.array(Y_train)\n",
        "Y_test = np.array(Y_test)"
      ],
      "id": "Kqx7Xyai2bSt",
      "execution_count": null,
      "outputs": []
    },
    {
      "cell_type": "code",
      "metadata": {
        "colab": {
          "base_uri": "https://localhost:8080/"
        },
        "id": "E0OvKvnG4Y3p",
        "outputId": "ba2087d4-89e1-42c6-c05f-db761e6eb9c3"
      },
      "source": [
        "print(X_train.shape, Y_train.shape)\n",
        "print(X_test.shape, Y_test.shape)"
      ],
      "id": "E0OvKvnG4Y3p",
      "execution_count": null,
      "outputs": [
        {
          "output_type": "stream",
          "text": [
            "(20000, 128) (20000,)\n",
            "(200, 128) (200,)\n"
          ],
          "name": "stdout"
        }
      ]
    },
    {
      "cell_type": "markdown",
      "metadata": {
        "id": "863539bc-56b1-4575-a382-5dbd0aef863b"
      },
      "source": [
        "# Construct Network"
      ],
      "id": "863539bc-56b1-4575-a382-5dbd0aef863b"
    },
    {
      "cell_type": "code",
      "metadata": {
        "id": "473f7c0f-66e0-4fcb-aa94-6d5cc0f582bf"
      },
      "source": [
        "import tensorflow as tf\n",
        "from tensorflow import keras\n",
        "from tensorflow.keras import layers"
      ],
      "id": "473f7c0f-66e0-4fcb-aa94-6d5cc0f582bf",
      "execution_count": null,
      "outputs": []
    },
    {
      "cell_type": "code",
      "metadata": {
        "id": "44rYOpdSu_12"
      },
      "source": [
        "NEURON_NUMBER = 64"
      ],
      "id": "44rYOpdSu_12",
      "execution_count": null,
      "outputs": []
    },
    {
      "cell_type": "code",
      "metadata": {
        "id": "Q_PW1lf63eOu"
      },
      "source": [
        "model = keras.Sequential()\n",
        "model.add(layers.Dense(NEURON_NUMBER, 'relu', input_shape = (128, )))\n",
        "model.add(layers.Dropout(0.3))\n",
        "\n",
        "model.add(layers.Dense(NEURON_NUMBER, 'relu'))\n",
        "model.add(layers.Dropout(0.3))\n",
        "\n",
        "model.add(layers.Dense(NEURON_NUMBER, 'relu'))\n",
        "model.add(layers.Dropout(0.3))\n",
        "\n",
        "model.add(layers.Dense(NEURON_NUMBER, 'relu'))\n",
        "model.add(layers.Dropout(0.5))\n",
        "\n",
        "model.add(layers.Dense(1))"
      ],
      "id": "Q_PW1lf63eOu",
      "execution_count": null,
      "outputs": []
    },
    {
      "cell_type": "code",
      "metadata": {
        "colab": {
          "base_uri": "https://localhost:8080/"
        },
        "id": "E6rNEEgZ6fi7",
        "outputId": "55d319db-a97a-4d44-c28f-f6122c0b3d14"
      },
      "source": [
        "model.summary()"
      ],
      "id": "E6rNEEgZ6fi7",
      "execution_count": null,
      "outputs": [
        {
          "output_type": "stream",
          "text": [
            "Model: \"sequential\"\n",
            "_________________________________________________________________\n",
            "Layer (type)                 Output Shape              Param #   \n",
            "=================================================================\n",
            "dense (Dense)                (None, 64)                8256      \n",
            "_________________________________________________________________\n",
            "dropout (Dropout)            (None, 64)                0         \n",
            "_________________________________________________________________\n",
            "dense_1 (Dense)              (None, 64)                4160      \n",
            "_________________________________________________________________\n",
            "dropout_1 (Dropout)          (None, 64)                0         \n",
            "_________________________________________________________________\n",
            "dense_2 (Dense)              (None, 64)                4160      \n",
            "_________________________________________________________________\n",
            "dropout_2 (Dropout)          (None, 64)                0         \n",
            "_________________________________________________________________\n",
            "dense_3 (Dense)              (None, 64)                4160      \n",
            "_________________________________________________________________\n",
            "dropout_3 (Dropout)          (None, 64)                0         \n",
            "_________________________________________________________________\n",
            "dense_4 (Dense)              (None, 1)                 65        \n",
            "=================================================================\n",
            "Total params: 20,801\n",
            "Trainable params: 20,801\n",
            "Non-trainable params: 0\n",
            "_________________________________________________________________\n"
          ],
          "name": "stdout"
        }
      ]
    },
    {
      "cell_type": "code",
      "metadata": {
        "id": "MoLMKaB_7G6x"
      },
      "source": [
        "model.compile(optimizer = 'rmsprop', loss = 'binary_crossentropy', metrics=['acc'])"
      ],
      "id": "MoLMKaB_7G6x",
      "execution_count": null,
      "outputs": []
    },
    {
      "cell_type": "code",
      "metadata": {
        "colab": {
          "base_uri": "https://localhost:8080/"
        },
        "id": "nOcAL4xX-BhC",
        "outputId": "6ceaae78-25c1-4f0b-f72a-7dd400f9a696"
      },
      "source": [
        "history = model.fit(X_train, Y_train, epochs = 50, batch_size = 128)"
      ],
      "id": "nOcAL4xX-BhC",
      "execution_count": null,
      "outputs": [
        {
          "output_type": "stream",
          "text": [
            "Epoch 1/50\n",
            "157/157 [==============================] - 1s 2ms/step - loss: 0.5642 - acc: 0.6849\n",
            "Epoch 2/50\n",
            "157/157 [==============================] - 0s 2ms/step - loss: 0.1881 - acc: 0.9258\n",
            "Epoch 3/50\n",
            "157/157 [==============================] - 0s 3ms/step - loss: 0.0682 - acc: 0.9765\n",
            "Epoch 4/50\n",
            "157/157 [==============================] - 0s 2ms/step - loss: 0.0360 - acc: 0.9884\n",
            "Epoch 5/50\n",
            "157/157 [==============================] - 0s 2ms/step - loss: 0.0233 - acc: 0.9926\n",
            "Epoch 6/50\n",
            "157/157 [==============================] - 0s 3ms/step - loss: 0.0196 - acc: 0.9945\n",
            "Epoch 7/50\n",
            "157/157 [==============================] - 0s 2ms/step - loss: 0.0165 - acc: 0.9948\n",
            "Epoch 8/50\n",
            "157/157 [==============================] - 0s 2ms/step - loss: 0.0136 - acc: 0.9963\n",
            "Epoch 9/50\n",
            "157/157 [==============================] - 0s 2ms/step - loss: 0.0126 - acc: 0.9968\n",
            "Epoch 10/50\n",
            "157/157 [==============================] - 0s 2ms/step - loss: 0.0118 - acc: 0.9974\n",
            "Epoch 11/50\n",
            "157/157 [==============================] - 0s 3ms/step - loss: 0.0114 - acc: 0.9972\n",
            "Epoch 12/50\n",
            "157/157 [==============================] - 0s 2ms/step - loss: 0.0117 - acc: 0.9973\n",
            "Epoch 13/50\n",
            "157/157 [==============================] - 0s 3ms/step - loss: 0.0083 - acc: 0.9980\n",
            "Epoch 14/50\n",
            "157/157 [==============================] - 0s 3ms/step - loss: 0.0078 - acc: 0.9980\n",
            "Epoch 15/50\n",
            "157/157 [==============================] - 0s 2ms/step - loss: 0.0103 - acc: 0.9977\n",
            "Epoch 16/50\n",
            "157/157 [==============================] - 0s 2ms/step - loss: 0.0088 - acc: 0.9980\n",
            "Epoch 17/50\n",
            "157/157 [==============================] - 0s 2ms/step - loss: 0.0080 - acc: 0.9983\n",
            "Epoch 18/50\n",
            "157/157 [==============================] - 0s 2ms/step - loss: 0.0069 - acc: 0.9988\n",
            "Epoch 19/50\n",
            "157/157 [==============================] - 0s 3ms/step - loss: 0.0103 - acc: 0.9984\n",
            "Epoch 20/50\n",
            "157/157 [==============================] - 0s 2ms/step - loss: 0.0083 - acc: 0.9988\n",
            "Epoch 21/50\n",
            "157/157 [==============================] - 0s 3ms/step - loss: 0.0076 - acc: 0.9987\n",
            "Epoch 22/50\n",
            "157/157 [==============================] - 0s 2ms/step - loss: 0.0068 - acc: 0.9983\n",
            "Epoch 23/50\n",
            "157/157 [==============================] - 0s 2ms/step - loss: 0.0074 - acc: 0.9989\n",
            "Epoch 24/50\n",
            "157/157 [==============================] - 0s 3ms/step - loss: 0.0103 - acc: 0.9985\n",
            "Epoch 25/50\n",
            "157/157 [==============================] - 0s 2ms/step - loss: 0.0072 - acc: 0.9990\n",
            "Epoch 26/50\n",
            "157/157 [==============================] - 0s 3ms/step - loss: 0.0069 - acc: 0.9984\n",
            "Epoch 27/50\n",
            "157/157 [==============================] - 0s 2ms/step - loss: 0.0083 - acc: 0.9990\n",
            "Epoch 28/50\n",
            "157/157 [==============================] - 0s 2ms/step - loss: 0.0059 - acc: 0.9992\n",
            "Epoch 29/50\n",
            "157/157 [==============================] - 0s 3ms/step - loss: 0.0077 - acc: 0.9991\n",
            "Epoch 30/50\n",
            "157/157 [==============================] - 0s 3ms/step - loss: 0.0070 - acc: 0.9987\n",
            "Epoch 31/50\n",
            "157/157 [==============================] - 0s 3ms/step - loss: 0.0060 - acc: 0.9994\n",
            "Epoch 32/50\n",
            "157/157 [==============================] - 0s 2ms/step - loss: 0.0046 - acc: 0.9993\n",
            "Epoch 33/50\n",
            "157/157 [==============================] - 0s 2ms/step - loss: 0.0080 - acc: 0.9991\n",
            "Epoch 34/50\n",
            "157/157 [==============================] - 0s 2ms/step - loss: 0.0061 - acc: 0.9991\n",
            "Epoch 35/50\n",
            "157/157 [==============================] - 0s 2ms/step - loss: 0.0093 - acc: 0.9988\n",
            "Epoch 36/50\n",
            "157/157 [==============================] - 0s 3ms/step - loss: 0.0071 - acc: 0.9990\n",
            "Epoch 37/50\n",
            "157/157 [==============================] - 0s 2ms/step - loss: 0.0103 - acc: 0.9988\n",
            "Epoch 38/50\n",
            "157/157 [==============================] - 0s 2ms/step - loss: 0.0066 - acc: 0.9993\n",
            "Epoch 39/50\n",
            "157/157 [==============================] - 0s 2ms/step - loss: 0.0089 - acc: 0.9991\n",
            "Epoch 40/50\n",
            "157/157 [==============================] - 0s 2ms/step - loss: 0.0067 - acc: 0.9993\n",
            "Epoch 41/50\n",
            "157/157 [==============================] - 0s 3ms/step - loss: 0.0097 - acc: 0.9988\n",
            "Epoch 42/50\n",
            "157/157 [==============================] - 0s 3ms/step - loss: 0.0050 - acc: 0.9994\n",
            "Epoch 43/50\n",
            "157/157 [==============================] - 0s 3ms/step - loss: 0.0082 - acc: 0.9994\n",
            "Epoch 44/50\n",
            "157/157 [==============================] - 0s 3ms/step - loss: 0.0057 - acc: 0.9994\n",
            "Epoch 45/50\n",
            "157/157 [==============================] - 0s 3ms/step - loss: 0.0071 - acc: 0.9995\n",
            "Epoch 46/50\n",
            "157/157 [==============================] - 0s 2ms/step - loss: 0.0107 - acc: 0.9991\n",
            "Epoch 47/50\n",
            "157/157 [==============================] - 0s 3ms/step - loss: 0.0055 - acc: 0.9995\n",
            "Epoch 48/50\n",
            "157/157 [==============================] - 0s 2ms/step - loss: 0.0092 - acc: 0.9987\n",
            "Epoch 49/50\n",
            "157/157 [==============================] - 0s 2ms/step - loss: 0.0090 - acc: 0.9992\n",
            "Epoch 50/50\n",
            "157/157 [==============================] - 0s 3ms/step - loss: 0.0067 - acc: 0.9993\n"
          ],
          "name": "stdout"
        }
      ]
    },
    {
      "cell_type": "code",
      "metadata": {
        "colab": {
          "base_uri": "https://localhost:8080/"
        },
        "id": "t6QF05Vn-It6",
        "outputId": "a222502b-889d-40bf-b4a6-b30385cb4573"
      },
      "source": [
        "score = model.evaluate(X_test, Y_test)\n",
        "print(score)"
      ],
      "id": "t6QF05Vn-It6",
      "execution_count": null,
      "outputs": [
        {
          "output_type": "stream",
          "text": [
            "7/7 [==============================] - 0s 2ms/step - loss: 3.4120e-04 - acc: 1.0000\n",
            "[0.00034119506017304957, 1.0]\n"
          ],
          "name": "stdout"
        }
      ]
    },
    {
      "cell_type": "code",
      "metadata": {
        "colab": {
          "base_uri": "https://localhost:8080/",
          "height": 232
        },
        "id": "ZHNNStVyB7BO",
        "outputId": "2a758219-cb1c-4f68-a7b5-f5db01aefcf8"
      },
      "source": [
        "print(model(X_test[0:1]))\n",
        "plt.imshow(np.reshape(X_test[0:1], (8, 16)))\n",
        "plt.show()"
      ],
      "id": "ZHNNStVyB7BO",
      "execution_count": null,
      "outputs": [
        {
          "output_type": "stream",
          "text": [
            "tf.Tensor([[1.]], shape=(1, 1), dtype=float32)\n"
          ],
          "name": "stdout"
        },
        {
          "output_type": "display_data",
          "data": {
            "image/png": "[encoded data removed]",
            "text/plain": [
              "<Figure size 432x288 with 1 Axes>"
            ]
          },
          "metadata": {
            "tags": [],
            "needs_background": "light"
          }
        }
      ]
    },
    {
      "cell_type": "code",
      "metadata": {
        "colab": {
          "base_uri": "https://localhost:8080/",
          "height": 232
        },
        "id": "x7M9_UmkCDuI",
        "outputId": "bfd1c9ba-8e74-4496-daf9-b726a5bc0b05"
      },
      "source": [
        "print(model(X_test[1:2]))\n",
        "plt.imshow(np.reshape(X_test[1:2], (8, 16)))\n",
        "plt.show()"
      ],
      "id": "x7M9_UmkCDuI",
      "execution_count": null,
      "outputs": [
        {
          "output_type": "stream",
          "text": [
            "tf.Tensor([[0.]], shape=(1, 1), dtype=float32)\n"
          ],
          "name": "stdout"
        },
        {
          "output_type": "display_data",
          "data": {
            "image/png": "[encoded data removed]",
            "text/plain": [
              "<Figure size 432x288 with 1 Axes>"
            ]
          },
          "metadata": {
            "tags": [],
            "needs_background": "light"
          }
        }
      ]
    },
    {
      "cell_type": "code",
      "metadata": {
        "colab": {
          "base_uri": "https://localhost:8080/",
          "height": 232
        },
        "id": "d4huR4XPmYWE",
        "outputId": "877c0212-5b9d-4d6f-d31a-dc6c0c830d57"
      },
      "source": [
        "test = X_test[5:6]\n",
        "print(model(test))\n",
        "plt.imshow(np.reshape(test, (8, 16)))\n",
        "plt.show()"
      ],
      "id": "d4huR4XPmYWE",
      "execution_count": null,
      "outputs": [
        {
          "output_type": "stream",
          "text": [
            "tf.Tensor([[1.0444672e-22]], shape=(1, 1), dtype=float32)\n"
          ],
          "name": "stdout"
        },
        {
          "output_type": "display_data",
          "data": {
            "image/png": "[encoded data removed]",
            "text/plain": [
              "<Figure size 432x288 with 1 Axes>"
            ]
          },
          "metadata": {
            "tags": [],
            "needs_background": "light"
          }
        }
      ]
    },
    {
      "cell_type": "code",
      "metadata": {
        "colab": {
          "base_uri": "https://localhost:8080/",
          "height": 281
        },
        "id": "fnmE3l6i-PCX",
        "outputId": "c5a80650-71b2-4cf8-f9d1-e29b408b5d9f"
      },
      "source": [
        "os.chdir(CURR_RESULT_DIR)\n",
        "\n",
        "model.save('model.h5')\n",
        "\n",
        "fig, ax = plt.subplots(2, 1)\n",
        "ax[0].plot(history.history['loss'])\n",
        "ax[0].set_title('Loss')\n",
        "\n",
        "ax[1].plot(history.history['acc'])\n",
        "ax[1].set_title('Acc')\n",
        "\n",
        "plt.savefig('result' + '.png')\n",
        "plt.show()"
      ],
      "id": "fnmE3l6i-PCX",
      "execution_count": null,
      "outputs": [
        {
          "output_type": "display_data",
          "data": {
            "image/png": "[encoded data removed]",
            "text/plain": [
              "<Figure size 432x288 with 2 Axes>"
            ]
          },
          "metadata": {
            "tags": [],
            "needs_background": "light"
          }
        }
      ]
    }
  ]
}