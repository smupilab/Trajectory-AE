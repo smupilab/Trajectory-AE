{
 "cells": [
  {
   "cell_type": "markdown",
   "metadata": {
    "colab_type": "text",
    "id": "view-in-github"
   },
   "source": [
    "<a href=\"https://colab.research.google.com/github/Taejin1221/Lab_Experiment/blob/main/Trajectory_Clustering/Trajectory_Clustering_16.ipynb\" target=\"_parent\"><img src=\"https://colab.research.google.com/assets/colab-badge.svg\" alt=\"Open In Colab\"/></a>"
   ]
  },
  {
   "cell_type": "markdown",
   "metadata": {
    "id": "cKU6FnEmY7fH"
   },
   "source": [
    "# Import modules"
   ]
  },
  {
   "cell_type": "code",
   "execution_count": 1,
   "metadata": {
    "id": "CtN6Kze-_XI0"
   },
   "outputs": [],
   "source": [
    "import os, cv2, glob, time\n",
    "import numpy as np\n",
    "import pickle as pkl\n",
    "\n",
    "import matplotlib.pyplot as plt"
   ]
  },
  {
   "cell_type": "markdown",
   "metadata": {
    "id": "o50o01S-ltzx"
   },
   "source": [
    "# Set Constants"
   ]
  },
  {
   "cell_type": "code",
   "execution_count": 2,
   "metadata": {
    "colab": {
     "base_uri": "https://localhost:8080/",
     "height": 51
    },
    "id": "Rmyk0hcfBIl8",
    "outputId": "22d2633f-4d58-4a68-c04c-562fd9247a79"
   },
   "outputs": [
    {
     "name": "stdout",
     "output_type": "stream",
     "text": [
      "Crop image number: 64\n",
      "Root dir: c:\\GitHub\\Lab_Experiment\\Trajectory_Clustering\n"
     ]
    }
   ],
   "source": [
    "# Constants\n",
    "WIDTH, HEIGHT = 256, 256\n",
    "CROP_WIDTH, CROP_HEIGHT = 32, 32\n",
    "CROP_IMAGE_NUMBER = (WIDTH // CROP_WIDTH) * (HEIGHT // CROP_HEIGHT)\n",
    "MAX_ROW, MAX_COL = HEIGHT // CROP_HEIGHT, WIDTH // CROP_WIDTH\n",
    "print( 'Crop image number:', CROP_IMAGE_NUMBER )\n",
    "\n",
    "EXPERIMENT_DATA = {\n",
    "    'name' : 'Trajectory_Clusetring',\n",
    "    'number' : '22',\n",
    "    'date' : '06-20-2021',\n",
    "    'description' : 'bitmap 파일로 변경\\n'\n",
    "    }\n",
    "\n",
    "ROOT_DIR = os.getcwd()\n",
    "os.chdir(ROOT_DIR)\n",
    "print('Root dir:', os.getcwd())\n",
    "\n",
    "GEOLIFE_DIR = os.path.join('C:\\\\', 'Dataset', 'Geolife')\n",
    "IMAGE_DIR = os.path.join(GEOLIFE_DIR, 'Image_Files')\n",
    "LOW_DIR = os.path.join(GEOLIFE_DIR, 'Low_Dimension')\n",
    "BITMAP_DIR = os.path.join(GEOLIFE_DIR, 'Bitmap')\n",
    "\n",
    "RESULT_DIR = os.path.join( 'C:\\\\', 'GitHub', 'Lab_Experiment', 'Results')"
   ]
  },
  {
   "cell_type": "code",
   "execution_count": 3,
   "metadata": {},
   "outputs": [],
   "source": [
    "os.chdir(RESULT_DIR)\n",
    "\n",
    "new_result_dir = f\"{EXPERIMENT_DATA['name']}_{EXPERIMENT_DATA['number']}_{EXPERIMENT_DATA['date']}_Data\"\n",
    "if (new_result_dir not in os.listdir()):\n",
    "    os.mkdir( new_result_dir )\n",
    "os.chdir( new_result_dir )\n",
    "\n",
    "with open( 'Description.txt', 'w' ) as f:\n",
    "    f.write( EXPERIMENT_DATA['description'] )"
   ]
  },
  {
   "cell_type": "markdown",
   "metadata": {
    "id": "RIZdFM_NZEkP"
   },
   "source": [
    "# Check pickle data"
   ]
  },
  {
   "cell_type": "markdown",
   "metadata": {},
   "source": [
    "## Check all black is same"
   ]
  },
  {
   "cell_type": "code",
   "execution_count": 6,
   "metadata": {},
   "outputs": [],
   "source": [
    "pkl_load_data1 = []\n",
    "os.chdir(os.path.join(LOW_DIR,'0th data'))\n",
    "for data in sorted(glob.glob('*data')):\n",
    "    with open(data, 'rb') as f:\n",
    "         pkl_load_data1.append(pkl.load(f))\n",
    "\n",
    "pkl_load_data2 = []\n",
    "os.chdir(os.path.join(LOW_DIR, '64th data'))\n",
    "for data in sorted(glob.glob('*data')):\n",
    "    with open(data, 'rb') as f:\n",
    "         pkl_load_data2.append(pkl.load(f))"
   ]
  },
  {
   "cell_type": "code",
   "execution_count": 7,
   "metadata": {},
   "outputs": [
    {
     "name": "stdout",
     "output_type": "stream",
     "text": [
      "0 1 1 1 0 1 1 1 \n",
      "0 1 0 0 0 0 0 0 \n",
      "0 1 0 1 1 1 0 1 \n",
      "0 0 0 0 1 1 1 1 \n",
      "0 1 1 0 1 1 1 1 \n",
      "0 0 0 0 1 1 1 1 \n",
      "0 0 0 0 0 0 1 0 \n",
      "1 0 1 0 0 0 0 0 \n"
     ]
    }
   ],
   "source": [
    "idx = 0\n",
    "for i in range(8):\n",
    "    for j in range(8):\n",
    "        unique, counts = np.unique((pkl_load_data1[idx] == pkl_load_data2[idx]), return_counts = True)\n",
    "        print((1 if unique[0] else 0), end = ' ')\n",
    "        idx += 1\n",
    "    print('')\n",
    "# All black is same value!"
   ]
  },
  {
   "cell_type": "code",
   "execution_count": 8,
   "metadata": {},
   "outputs": [],
   "source": [
    "os.chdir(os.path.join(LOW_DIR, '0th data'))\n",
    "with open('00th data', 'rb') as f:\n",
    "    black_value = pkl.load(f)"
   ]
  },
  {
   "cell_type": "code",
   "execution_count": 9,
   "metadata": {},
   "outputs": [],
   "source": [
    "pkl_load_data3 = []\n",
    "os.chdir(os.path.join(LOW_DIR, '128th data'))\n",
    "for data in sorted(glob.glob('*data')):\n",
    "    with open(data, 'rb') as f:\n",
    "         pkl_load_data3.append(pkl.load(f))"
   ]
  },
  {
   "cell_type": "code",
   "execution_count": 10,
   "metadata": {},
   "outputs": [
    {
     "name": "stdout",
     "output_type": "stream",
     "text": [
      "0 1 1 1 1 1 1 1 \n",
      "0 0 1 1 1 1 1 1 \n",
      "0 0 0 0 1 1 1 1 \n",
      "1 0 0 0 0 0 0 1 \n",
      "1 1 0 0 0 0 0 1 \n",
      "1 1 0 0 0 0 0 0 \n",
      "1 1 0 0 0 1 1 1 \n",
      "1 1 1 1 0 0 1 1 \n"
     ]
    }
   ],
   "source": [
    "idx = 0\n",
    "for i in range(8):\n",
    "    for j in range(8):\n",
    "        unique, counts = np.unique((black_value == pkl_load_data3[idx]), return_counts = True)\n",
    "        print((1 if unique[0] else 0), end = ' ')\n",
    "        idx += 1\n",
    "    print('')\n",
    "# # All black is same value!"
   ]
  },
  {
   "cell_type": "markdown",
   "metadata": {},
   "source": [
    "# Binarization"
   ]
  },
  {
   "cell_type": "markdown",
   "metadata": {},
   "source": [
    "## Test"
   ]
  },
  {
   "cell_type": "code",
   "execution_count": null,
   "metadata": {},
   "outputs": [],
   "source": [
    "os.chdir(LOW_DIR)\n",
    "\n",
    "dir_name = '0th data'\n",
    "bitmap = [[0 for _ in range(MAX_ROW)] for _ in range(MAX_COL)]\n",
    "\n",
    "os.chdir(os.path.join(LOW_DIR, dir_name))\n",
    "for idx, file_name in enumerate(sorted(glob.glob('*data'))):\n",
    "    with open(file_name, 'rb') as f:\n",
    "        data = pkl.load(f)\n",
    "\n",
    "    unique, counts = np.unique((black_value == data), return_counts = True)\n",
    "    bitmap[idx // 8][idx % 8] = ((0 if unique[0] else 255))\n",
    "\n",
    "os.chdir(BITMAP_DIR)\n",
    "cv2.imwrite(f'{dir_name}.png', np.array(bitmap))"
   ]
  },
  {
   "cell_type": "code",
   "execution_count": 13,
   "metadata": {},
   "outputs": [
    {
     "data": {
      "text/plain": [
       "<matplotlib.image.AxesImage at 0x2819761c670>"
      ]
     },
     "execution_count": 13,
     "metadata": {},
     "output_type": "execute_result"
    },
    {
     "data": {
      "image/png": "[encoded data removed]",
      "text/plain": [
       "<Figure size 432x288 with 1 Axes>"
      ]
     },
     "metadata": {
      "needs_background": "light"
     },
     "output_type": "display_data"
    }
   ],
   "source": [
    "plt.gray()\n",
    "plt.imshow(cv2.imread(dir_name+'.png', cv2.IMREAD_GRAYSCALE))"
   ]
  },
  {
   "cell_type": "markdown",
   "metadata": {},
   "source": [
    "## Real Binarization"
   ]
  },
  {
   "cell_type": "code",
   "execution_count": null,
   "metadata": {
    "id": "oK4XSbxHQdCy"
   },
   "outputs": [],
   "source": [
    "os.chdir(LOW_DIR)\n",
    "for dir_name in sorted(glob.glob('*data')):\n",
    "    bitmap = [[0 for _ in range(MAX_ROW)] for _ in range(MAX_COL)]\n",
    "\n",
    "    os.chdir(os.path.join(LOW_DIR, dir_name))\n",
    "    for idx, file_name in enumerate(sorted(glob.glob('*data'))):\n",
    "        with open(file_name, 'rb') as f:\n",
    "            data = pkl.load(f)\n",
    "\n",
    "        unique, counts = np.unique((black_value == data), return_counts = True)\n",
    "        bitmap[idx // 8][idx % 8] = ((0 if unique[0] else 255))\n",
    "    \n",
    "    os.chdir(BITMAP_DIR)\n",
    "    cv2.imwrite(f'{dir_name}.png', np.array(bitmap))"
   ]
  }
 ],
 "metadata": {
  "accelerator": "GPU",
  "colab": {
   "authorship_tag": "ABX9TyO5xGngAUpHeRi8s/W7TW7e",
   "collapsed_sections": [],
   "include_colab_link": true,
   "mount_file_id": "1-NXO5VFyOpZpe4_IfU-y1nyC8H5ezAYj",
   "name": "Trajectory_Clustering_16.ipynb",
   "provenance": [],
   "toc_visible": true
  },
  "kernelspec": {
   "display_name": "Python 3",
   "language": "python",
   "name": "python3"
  },
  "language_info": {
   "codemirror_mode": {
    "name": "ipython",
    "version": 3
   },
   "file_extension": ".py",
   "mimetype": "text/x-python",
   "name": "python",
   "nbconvert_exporter": "python",
   "pygments_lexer": "ipython3",
   "version": "3.8.8"
  }
 },
 "nbformat": 4,
 "nbformat_minor": 4
}
