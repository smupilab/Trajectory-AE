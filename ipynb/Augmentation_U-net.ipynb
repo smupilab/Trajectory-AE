{
  "nbformat": 4,
  "nbformat_minor": 0,
  "metadata": {
    "colab": {
      "name": "Augmentation_U-net.ipynb",
      "provenance": [],
      "collapsed_sections": [
        "jMx_5oTgUpax"
      ],
      "include_colab_link": true
    },
    "kernelspec": {
      "name": "python3",
      "display_name": "Python 3"
    },
    "accelerator": "GPU"
  },
  "cells": [
    {
      "cell_type": "markdown",
      "metadata": {
        "id": "view-in-github",
        "colab_type": "text"
      },
      "source": [
        "<a href=\"https://colab.research.google.com/github/Taejin1221/MachineLearning/blob/master/TrajectoryAugmentation/Augmentation_U-net.ipynb\" target=\"_parent\"><img src=\"https://colab.research.google.com/assets/colab-badge.svg\" alt=\"Open In Colab\"/></a>"
      ]
    },
    {
      "cell_type": "code",
      "metadata": {
        "colab": {
          "base_uri": "https://localhost:8080/"
        },
        "id": "_ouXXLsUSCzz",
        "outputId": "1258389d-4781-4781-84b6-a13c9346c914"
      },
      "source": [
        "from google.colab import drive\n",
        "drive.mount('/content/drive')"
      ],
      "execution_count": 1,
      "outputs": [
        {
          "output_type": "stream",
          "text": [
            "Drive already mounted at /content/drive; to attempt to forcibly remount, call drive.mount(\"/content/drive\", force_remount=True).\n"
          ],
          "name": "stdout"
        }
      ]
    },
    {
      "cell_type": "code",
      "metadata": {
        "id": "8_SQQfcF1ip3"
      },
      "source": [
        "import cv2, os, glob, random\n",
        "import numpy as np\n",
        "import pandas as pd"
      ],
      "execution_count": 2,
      "outputs": []
    },
    {
      "cell_type": "markdown",
      "metadata": {
        "id": "jMx_5oTgUpax"
      },
      "source": [
        "# Convet raw data to Image"
      ]
    },
    {
      "cell_type": "code",
      "metadata": {
        "id": "hTFEUhLfSqCF"
      },
      "source": [
        "# 빈 캔버스 만들기\n",
        "def init() -> np.array: \n",
        "    blank = np.zeros([512,512],dtype=np.uint8)\n",
        "    blank.fill(255)\n",
        "    blank = cv2.resize(blank,(512,512))\n",
        "  \n",
        "    return blank\n",
        "\n",
        "# Convert 0-1 Images into 0-255 Image\n",
        "def drawNp(img: np.array) -> np.array:\n",
        "    blank = init()\n",
        "    for i in range(0,img.shape[0]):\n",
        "        for j in range(0,img.shape[1]):\n",
        "            if img[i][j] == 1 :\n",
        "                blank[i][j] = 0\n",
        "\n",
        "    return blank\n",
        "\n",
        "\n",
        "# Convert csv File to Image\n",
        "def map2Image(minX: float, minY: float, maxX: float, maxY: float, csv_file: pd.DataFrame) -> np.array:\n",
        "    inputImage = np.zeros([512,512], dtype=np.uint8)\n",
        "\n",
        "    for i in range(0,csv_file.shape[0]):\n",
        "        x = csv_file.loc[i][0]\n",
        "        y = csv_file.loc[i][1]\n",
        "\n",
        "        # Print Dot\n",
        "        mapX = int(round(np.interp(x,[minX,maxX],[0,500])))\n",
        "        mapY = int(round(np.interp(y,[minY,maxY],[0,500])))\n",
        "        inputImage[mapX][mapY] = 1\n",
        "\n",
        "    outputImage = drawNp(inputImage)\n",
        "\n",
        "    rotImage = np.rot90(outputImage)\n",
        "\n",
        "    return rotImage\n",
        "\n",
        "\n",
        "def map2Image_remove(minX: float, minY: float, maxX: float, maxY: float, csv_file: pd.DataFrame) -> np.array:\n",
        "    inputImage = np.zeros([512,512], dtype=np.uint8)\n",
        "\n",
        "    removeList = [ ]\n",
        "    fileNum = csv_file.shape[0]\n",
        "    for _ in range( int( fileNum * 0.5 ) ):\n",
        "        idx = random.randint( 0, fileNum )\n",
        "        while ( idx in removeList ):\n",
        "            idx = random.randint( 0, fileNum )\n",
        "\n",
        "        removeList.append( idx )\n",
        "\n",
        "    for i in range(0, fileNum):\n",
        "        if ( i in removeList ):\n",
        "            continue\n",
        "\n",
        "        x = csv_file.loc[i][0]\n",
        "        y = csv_file.loc[i][1]\n",
        "\n",
        "        # Print Dot\n",
        "        mapX = int(round(np.interp(x,[minX,maxX],[0,500])))\n",
        "        mapY = int(round(np.interp(y,[minY,maxY],[0,500])))\n",
        "        inputImage[mapX][mapY] = 1\n",
        "\n",
        "    outputImage = drawNp(inputImage)\n",
        "\n",
        "    rotImage = np.rot90(outputImage)\n",
        "\n",
        "    return rotImage\n",
        "\n",
        "\n",
        "# Return Max and Min X,Y Coordinate Value of file\n",
        "def coorMaxMin(file: pd.DataFrame) -> (float, float, float, float):\n",
        "    minX, minY = (file.loc[0][0], file.loc[0][1])\n",
        "    maxX, maxY = (file.loc[0][0], file.loc[0][1])\n",
        "    for i in range(0,file.shape[0]):\n",
        "        x = file.loc[i][0]\n",
        "        y = file.loc[i][1]\n",
        "        if x > maxX :\n",
        "            maxX = x\n",
        "        if x < minX :\n",
        "            minX = x\n",
        "        if y > maxY :\n",
        "            maxY = y\n",
        "        if y < minY :\n",
        "            minY = y\n",
        "    return minX, minY, maxX, maxY\n"
      ],
      "execution_count": 3,
      "outputs": []
    },
    {
      "cell_type": "markdown",
      "metadata": {
        "id": "DFQ6cclGU7Yr"
      },
      "source": [
        "# Load Image"
      ]
    },
    {
      "cell_type": "code",
      "metadata": {
        "id": "m0nZb6kK0PlK"
      },
      "source": [
        "############################\n",
        "######## Image Load ########\n",
        "############################\n",
        "\n",
        "dataDir = \"/content/drive/My Drive/Data/VirtualData\""
      ],
      "execution_count": 4,
      "outputs": []
    },
    {
      "cell_type": "code",
      "metadata": {
        "id": "-27cQD6F09tn"
      },
      "source": [
        "SIZE = 512\n",
        "\n",
        "os.chdir( dataDir )\n",
        "files = glob.glob( '*csv' )\n",
        "\n",
        "trainSize = int( len( files ) * 0.8 )\n",
        "trainFiles, testFiles = files[ : trainSize], files[trainSize : ]"
      ],
      "execution_count": 5,
      "outputs": []
    },
    {
      "cell_type": "code",
      "metadata": {
        "colab": {
          "base_uri": "https://localhost:8080/"
        },
        "id": "tJZV1FRLYDey",
        "outputId": "541f1133-2989-4244-e159-c1798320fe7a"
      },
      "source": [
        "print( len( files ) )"
      ],
      "execution_count": 6,
      "outputs": [
        {
          "output_type": "stream",
          "text": [
            "66\n"
          ],
          "name": "stdout"
        }
      ]
    },
    {
      "cell_type": "code",
      "metadata": {
        "id": "HUFGfRiSVLrQ"
      },
      "source": [
        "X_train, Y_train = [ ], [ ]\n",
        "for file in trainFiles:\n",
        "\tcsv_file = pd.read_csv( file, names = [ 'lat', 'long', 'num' ], header = None )\n",
        "\tmaxmin = coorMaxMin( csv_file )\n",
        "\tX_train.append( map2Image_remove( *maxmin, csv_file ) )\n",
        "\tY_train.append( map2Image( *maxmin, csv_file ) )\n",
        "\n",
        "X_test = [ ]\n",
        "for file in testFiles:\n",
        "\tcsv_file = pd.read_csv( file, names = [ 'lat', 'long', 'num' ], header = None )\n",
        "\tmaxmin = coorMaxMin( csv_file )\n",
        "\tX_test.append( map2Image_remove( *maxmin, csv_file ) )"
      ],
      "execution_count": 7,
      "outputs": []
    },
    {
      "cell_type": "code",
      "metadata": {
        "id": "BqPbB1oD2WDP",
        "colab": {
          "base_uri": "https://localhost:8080/"
        },
        "outputId": "7724c09f-79be-4888-b47f-566945b912e6"
      },
      "source": [
        "print(np.shape(X_train))\n",
        "print(np.shape(Y_train))\n",
        "print(np.shape(X_test))"
      ],
      "execution_count": 8,
      "outputs": [
        {
          "output_type": "stream",
          "text": [
            "(52, 512, 512)\n",
            "(52, 512, 512)\n",
            "(14, 512, 512)\n"
          ],
          "name": "stdout"
        }
      ]
    },
    {
      "cell_type": "code",
      "metadata": {
        "colab": {
          "base_uri": "https://localhost:8080/",
          "height": 1000
        },
        "id": "oyrXSyixcWoE",
        "outputId": "fd97d2b5-7cd8-4601-def0-294dd52da7d8"
      },
      "source": [
        "from google.colab.patches import cv2_imshow\n",
        "\n",
        "cv2_imshow( X_train[0] )\n",
        "cv2_imshow( Y_train[0] )"
      ],
      "execution_count": 9,
      "outputs": [
        {
          "output_type": "display_data",
          "data": {
            "image/png": "[encoded data removed]",
            "text/plain": [
              "<PIL.Image.Image image mode=L size=512x512 at 0x7F728C917A90>"
            ]
          },
          "metadata": {
            "tags": []
          }
        },
        {
          "output_type": "display_data",
          "data": {
            "image/png": "[encoded data removed]",
            "text/plain": [
              "<PIL.Image.Image image mode=L size=512x512 at 0x7F728C8917B8>"
            ]
          },
          "metadata": {
            "tags": []
          }
        }
      ]
    },
    {
      "cell_type": "code",
      "metadata": {
        "id": "q4wgWP2k18C0",
        "colab": {
          "base_uri": "https://localhost:8080/"
        },
        "outputId": "c32fc2d8-2c24-4589-863f-223c7b49188d"
      },
      "source": [
        "## Resize Images for CNN ##\n",
        "X_train, Y_train = np.array( X_train ), np.array( Y_train )\n",
        "X_test = np.array( X_test )\n",
        "\n",
        "X_train = X_train.astype( 'float32' ) / 255.\n",
        "Y_train = Y_train.astype( 'float32' ) / 255.\n",
        "X_test = X_test.astype( 'float32' ) / 255.\n",
        "\n",
        "print( X_train.shape, Y_train.shape, X_test.shape )\n",
        "\n",
        "X_train = np.reshape( X_train, ( len( X_train ), SIZE, SIZE, 1 ) )\n",
        "Y_train = np.reshape( Y_train, ( len( Y_train ), SIZE, SIZE, 1 ) )\n",
        "X_test = np.reshape( X_test, ( len( X_test ), SIZE, SIZE, 1 ) )\n",
        "\n",
        "print( 'train shape (X, Y): ({},{})'.format( X_train.shape, Y_train.shape ) )\n",
        "print( 'test shape (X): ({})'.format( X_test.shape ) )"
      ],
      "execution_count": 10,
      "outputs": [
        {
          "output_type": "stream",
          "text": [
            "(52, 512, 512) (52, 512, 512) (14, 512, 512)\n",
            "train shape (X, Y): ((52, 512, 512, 1),(52, 512, 512, 1))\n",
            "test shape (X): ((14, 512, 512, 1))\n"
          ],
          "name": "stdout"
        }
      ]
    },
    {
      "cell_type": "markdown",
      "metadata": {
        "id": "wyEZta-aVel3"
      },
      "source": [
        "# Constructing Model"
      ]
    },
    {
      "cell_type": "code",
      "metadata": {
        "id": "y6phmNBJVjer"
      },
      "source": [
        "import tensorflow as tf\n",
        "from tensorflow import keras\n",
        "from tensorflow.keras import layers"
      ],
      "execution_count": 11,
      "outputs": []
    },
    {
      "cell_type": "code",
      "metadata": {
        "id": "q3Gu0XeM4bJw"
      },
      "source": [
        " ## Hyper Parameter ##\n",
        "acti, pad = 'relu', 'same'\n",
        "\n",
        "## Input Image ##\n",
        "input_img = layers.Input(shape=(512, 512, 1))\n",
        "\n",
        "# Encoding #\n",
        "conv1 = layers.Conv2D( 128, ( 3, 3 ), activation = 'relu', padding = 'same' )( input_img )\n",
        "pool1 = layers.MaxPooling2D( ( 2, 2 ), padding = 'same' )( conv1 )\n",
        "\n",
        "conv2 = layers.Conv2D( 64, ( 3, 3 ),  activation = 'relu', padding = 'same' )( pool1 )\n",
        "pool2 = layers.MaxPooling2D( ( 2, 2 ), padding = 'same' )( conv2 )\n",
        "\n",
        "conv3 = layers.Conv2D( 32, ( 3, 3 ), activation = 'relu', padding = 'same' )( pool2 )\n",
        "pool3 = layers.MaxPooling2D( ( 2, 2 ), padding = 'same' )( conv3 )\n",
        "\n",
        "\n",
        "# Decoding #\n",
        "conv4 = layers.Conv2D( 32, ( 3, 3 ), activation = 'relu', padding = 'same' )( pool3 )\n",
        "up1 = layers.UpSampling2D( ( 2, 2 ) )( conv4 )\n",
        "\n",
        "merge1 = layers.concatenate([conv3,up1])\n",
        "conv5 = layers.Conv2D( 64, ( 3, 3 ), activation = 'relu', padding = 'same' )( merge1 )\n",
        "up2 = layers.UpSampling2D( ( 2, 2 ) )( conv5 )\n",
        "\n",
        "#merge2 = concatenate([conv2,up2])\n",
        "conv6 = layers.Conv2D( 128, ( 3, 3 ), activation = 'relu', padding = 'same' )( up2 )\n",
        "up3 = layers.UpSampling2D( ( 2, 2 ) )( conv6 )\n",
        "\n",
        "\n",
        "decoded = layers.Conv2D( 1, ( 3, 3 ), activation = 'sigmoid', padding = 'same' )( up3 )"
      ],
      "execution_count": 12,
      "outputs": []
    },
    {
      "cell_type": "code",
      "metadata": {
        "id": "APBl4yDl4q2c",
        "colab": {
          "base_uri": "https://localhost:8080/"
        },
        "outputId": "ba1a9243-9987-4878-b739-0d8ed66a3919"
      },
      "source": [
        "## Compile\n",
        "Unet = keras.Model(input_img, decoded)\n",
        "Unet.summary()\n",
        "\n",
        "Unet.compile( optimizer = 'adam', loss = 'binary_crossentropy' )\n"
      ],
      "execution_count": 13,
      "outputs": [
        {
          "output_type": "stream",
          "text": [
            "Model: \"functional_1\"\n",
            "__________________________________________________________________________________________________\n",
            "Layer (type)                    Output Shape         Param #     Connected to                     \n",
            "==================================================================================================\n",
            "input_1 (InputLayer)            [(None, 512, 512, 1) 0                                            \n",
            "__________________________________________________________________________________________________\n",
            "conv2d (Conv2D)                 (None, 512, 512, 128 1280        input_1[0][0]                    \n",
            "__________________________________________________________________________________________________\n",
            "max_pooling2d (MaxPooling2D)    (None, 256, 256, 128 0           conv2d[0][0]                     \n",
            "__________________________________________________________________________________________________\n",
            "conv2d_1 (Conv2D)               (None, 256, 256, 64) 73792       max_pooling2d[0][0]              \n",
            "__________________________________________________________________________________________________\n",
            "max_pooling2d_1 (MaxPooling2D)  (None, 128, 128, 64) 0           conv2d_1[0][0]                   \n",
            "__________________________________________________________________________________________________\n",
            "conv2d_2 (Conv2D)               (None, 128, 128, 32) 18464       max_pooling2d_1[0][0]            \n",
            "__________________________________________________________________________________________________\n",
            "max_pooling2d_2 (MaxPooling2D)  (None, 64, 64, 32)   0           conv2d_2[0][0]                   \n",
            "__________________________________________________________________________________________________\n",
            "conv2d_3 (Conv2D)               (None, 64, 64, 32)   9248        max_pooling2d_2[0][0]            \n",
            "__________________________________________________________________________________________________\n",
            "up_sampling2d (UpSampling2D)    (None, 128, 128, 32) 0           conv2d_3[0][0]                   \n",
            "__________________________________________________________________________________________________\n",
            "concatenate (Concatenate)       (None, 128, 128, 64) 0           conv2d_2[0][0]                   \n",
            "                                                                 up_sampling2d[0][0]              \n",
            "__________________________________________________________________________________________________\n",
            "conv2d_4 (Conv2D)               (None, 128, 128, 64) 36928       concatenate[0][0]                \n",
            "__________________________________________________________________________________________________\n",
            "up_sampling2d_1 (UpSampling2D)  (None, 256, 256, 64) 0           conv2d_4[0][0]                   \n",
            "__________________________________________________________________________________________________\n",
            "conv2d_5 (Conv2D)               (None, 256, 256, 128 73856       up_sampling2d_1[0][0]            \n",
            "__________________________________________________________________________________________________\n",
            "up_sampling2d_2 (UpSampling2D)  (None, 512, 512, 128 0           conv2d_5[0][0]                   \n",
            "__________________________________________________________________________________________________\n",
            "conv2d_6 (Conv2D)               (None, 512, 512, 1)  1153        up_sampling2d_2[0][0]            \n",
            "==================================================================================================\n",
            "Total params: 214,721\n",
            "Trainable params: 214,721\n",
            "Non-trainable params: 0\n",
            "__________________________________________________________________________________________________\n"
          ],
          "name": "stdout"
        }
      ]
    },
    {
      "cell_type": "code",
      "metadata": {
        "id": "9_vm7-n1406I",
        "colab": {
          "base_uri": "https://localhost:8080/"
        },
        "outputId": "ab231f43-4628-4371-9b26-6921668460c7"
      },
      "source": [
        "EPOCH = 30\n",
        "BATCH = 10\n",
        "SHUFFLE = True\n",
        "\n",
        "history = Unet.fit( Y_train, X_train, epochs = EPOCH, batch_size = BATCH, shuffle = SHUFFLE )\n"
      ],
      "execution_count": 14,
      "outputs": [
        {
          "output_type": "stream",
          "text": [
            "Epoch 1/30\n",
            "6/6 [==============================] - 1s 225ms/step - loss: 0.4052\n",
            "Epoch 2/30\n",
            "6/6 [==============================] - 1s 167ms/step - loss: 0.0161\n",
            "Epoch 3/30\n",
            "6/6 [==============================] - 1s 167ms/step - loss: 0.0401\n",
            "Epoch 4/30\n",
            "6/6 [==============================] - 1s 168ms/step - loss: 0.0347\n",
            "Epoch 5/30\n",
            "6/6 [==============================] - 1s 168ms/step - loss: 0.0159\n",
            "Epoch 6/30\n",
            "6/6 [==============================] - 1s 167ms/step - loss: 0.0069\n",
            "Epoch 7/30\n",
            "6/6 [==============================] - 1s 167ms/step - loss: 0.0052\n",
            "Epoch 8/30\n",
            "6/6 [==============================] - 1s 167ms/step - loss: 0.0051\n",
            "Epoch 9/30\n",
            "6/6 [==============================] - 1s 167ms/step - loss: 0.0046\n",
            "Epoch 10/30\n",
            "6/6 [==============================] - 1s 169ms/step - loss: 0.0043\n",
            "Epoch 11/30\n",
            "6/6 [==============================] - 1s 168ms/step - loss: 0.0042\n",
            "Epoch 12/30\n",
            "6/6 [==============================] - 1s 167ms/step - loss: 0.0041\n",
            "Epoch 13/30\n",
            "6/6 [==============================] - 1s 168ms/step - loss: 0.0040\n",
            "Epoch 14/30\n",
            "6/6 [==============================] - 1s 169ms/step - loss: 0.0040\n",
            "Epoch 15/30\n",
            "6/6 [==============================] - 1s 168ms/step - loss: 0.0039\n",
            "Epoch 16/30\n",
            "6/6 [==============================] - 1s 168ms/step - loss: 0.0036\n",
            "Epoch 17/30\n",
            "6/6 [==============================] - 1s 165ms/step - loss: 0.0035\n",
            "Epoch 18/30\n",
            "6/6 [==============================] - 1s 168ms/step - loss: 0.0033\n",
            "Epoch 19/30\n",
            "6/6 [==============================] - 1s 168ms/step - loss: 0.0030\n",
            "Epoch 20/30\n",
            "6/6 [==============================] - 1s 168ms/step - loss: 0.0027\n",
            "Epoch 21/30\n",
            "6/6 [==============================] - 1s 169ms/step - loss: 0.0026\n",
            "Epoch 22/30\n",
            "6/6 [==============================] - 1s 168ms/step - loss: 0.0025\n",
            "Epoch 23/30\n",
            "6/6 [==============================] - 1s 168ms/step - loss: 0.0025\n",
            "Epoch 24/30\n",
            "6/6 [==============================] - 1s 169ms/step - loss: 0.0026\n",
            "Epoch 25/30\n",
            "6/6 [==============================] - 1s 167ms/step - loss: 0.0024\n",
            "Epoch 26/30\n",
            "6/6 [==============================] - 1s 169ms/step - loss: 0.0024\n",
            "Epoch 27/30\n",
            "6/6 [==============================] - 1s 168ms/step - loss: 0.0023\n",
            "Epoch 28/30\n",
            "6/6 [==============================] - 1s 168ms/step - loss: 0.0023\n",
            "Epoch 29/30\n",
            "6/6 [==============================] - 1s 167ms/step - loss: 0.0023\n",
            "Epoch 30/30\n",
            "6/6 [==============================] - 1s 166ms/step - loss: 0.0023\n"
          ],
          "name": "stdout"
        }
      ]
    },
    {
      "cell_type": "code",
      "metadata": {
        "id": "pNBCURHV5aQ6"
      },
      "source": [
        "decoded_img = Unet.predict( X_test )"
      ],
      "execution_count": 15,
      "outputs": []
    },
    {
      "cell_type": "code",
      "metadata": {
        "id": "tmJ5u-WxWlaM",
        "colab": {
          "base_uri": "https://localhost:8080/"
        },
        "outputId": "26489926-f96f-4330-bdc9-5bcbec93d114"
      },
      "source": [
        "print(np.shape(decoded_img))"
      ],
      "execution_count": 16,
      "outputs": [
        {
          "output_type": "stream",
          "text": [
            "(14, 512, 512, 1)\n"
          ],
          "name": "stdout"
        }
      ]
    },
    {
      "cell_type": "code",
      "metadata": {
        "id": "psGePCCd5SCc",
        "colab": {
          "base_uri": "https://localhost:8080/",
          "height": 248
        },
        "outputId": "32d1267d-8524-4ba8-fc26-aceabe087238"
      },
      "source": [
        "import matplotlib.pyplot as plt\n",
        "\n",
        "n = 10\n",
        "plt.figure( figsize = ( 20, 4 ) )\n",
        "for i in range( n ):\n",
        "\tax = plt.subplot( 2, n, i + 1 )\n",
        "\tplt.imshow( X_test[i].reshape( SIZE, SIZE) )\n",
        "\tplt.gray()\n",
        "\n",
        "\tax.get_xaxis().set_visible( False )\n",
        "\tax.get_yaxis().set_visible( False )\n",
        "\n",
        "\tax = plt.subplot( 2, n, n + i + 1 )\n",
        "\tplt.imshow( decoded_img[i].reshape( SIZE, SIZE))\n",
        "\tplt.gray()\n",
        "\n",
        "\tax.get_xaxis().set_visible( False )\n",
        "\tax.get_yaxis().set_visible( False )\n",
        "\n",
        "plt.savefig( 'Result.png', dpi = 300 )\n",
        "plt.show()"
      ],
      "execution_count": 17,
      "outputs": [
        {
          "output_type": "display_data",
          "data": {
            "image/png": "[encoded data removed]",
            "text/plain": [
              "<Figure size 1440x288 with 20 Axes>"
            ]
          },
          "metadata": {
            "tags": [],
            "needs_background": "light"
          }
        }
      ]
    },
    {
      "cell_type": "code",
      "metadata": {
        "id": "tXynDydOO13R",
        "colab": {
          "base_uri": "https://localhost:8080/",
          "height": 1000
        },
        "outputId": "7b94290f-c81a-4653-e704-320794207948"
      },
      "source": [
        "blank_test = np.zeros([SIZE,SIZE],dtype=np.uint8)\n",
        "blank_test.fill(255)\n",
        "blank_test = cv2.resize(blank_test,(SIZE,SIZE),1)\n",
        "\n",
        "blank_predict = np.zeros([SIZE,SIZE],dtype=np.uint8)\n",
        "blank_predict.fill(255)\n",
        "blank_predict = cv2.resize(blank_predict,(SIZE,SIZE),1)\n",
        "\n",
        "n = 3\n",
        "for i in range( n ):\n",
        "  resized_test = X_test[i].reshape(SIZE, SIZE)\n",
        "  resized_predict = decoded_img[i].reshape( SIZE, SIZE )\n",
        "  \n",
        "  for x in range(0,SIZE):\n",
        "    for y in range(0,SIZE):\n",
        "      blank_test[x][y] = resized_test[x][y] * 255\n",
        "      blank_predict[x][y] = resized_predict[x][y] * 255\n",
        "\n",
        "  cv2_imshow(blank_test)\n",
        "  cv2_imshow(blank_predict)"
      ],
      "execution_count": 18,
      "outputs": [
        {
          "output_type": "display_data",
          "data": {
            "image/png": "[encoded data removed]",
            "text/plain": [
              "<PIL.Image.Image image mode=L size=512x512 at 0x7F71FC1E6710>"
            ]
          },
          "metadata": {
            "tags": []
          }
        },
        {
          "output_type": "display_data",
          "data": {
            "image/png": "[encoded data removed]",
            "text/plain": [
              "<PIL.Image.Image image mode=L size=512x512 at 0x7F71FC12A2E8>"
            ]
          },
          "metadata": {
            "tags": []
          }
        },
        {
          "output_type": "display_data",
          "data": {
            "image/png": "[encoded data removed]",
            "text/plain": [
              "<PIL.Image.Image image mode=L size=512x512 at 0x7F71FC1E6710>"
            ]
          },
          "metadata": {
            "tags": []
          }
        },
        {
          "output_type": "display_data",
          "data": {
            "image/png": "[encoded data removed]",
            "text/plain": [
              "<PIL.Image.Image image mode=L size=512x512 at 0x7F71FC1E69E8>"
            ]
          },
          "metadata": {
            "tags": []
          }
        },
        {
          "output_type": "display_data",
          "data": {
            "image/png": "[encoded data removed]",
            "text/plain": [
              "<PIL.Image.Image image mode=L size=512x512 at 0x7F71FC1E6710>"
            ]
          },
          "metadata": {
            "tags": []
          }
        },
        {
          "output_type": "display_data",
          "data": {
            "image/png": "[encoded data removed]",
            "text/plain": [
              "<PIL.Image.Image image mode=L size=512x512 at 0x7F71FC12A2E8>"
            ]
          },
          "metadata": {
            "tags": []
          }
        }
      ]
    }
  ]
}