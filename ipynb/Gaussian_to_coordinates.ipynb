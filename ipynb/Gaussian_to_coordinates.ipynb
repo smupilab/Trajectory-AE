{
  "nbformat": 4,
  "nbformat_minor": 0,
  "metadata": {
    "colab": {
      "name": "Gaussian_to_coordinates.ipynb",
      "provenance": []
    },
    "kernelspec": {
      "name": "python3",
      "display_name": "Python 3"
    }
  },
  "cells": [
    {
      "cell_type": "code",
      "metadata": {
        "id": "HPfZ5B8U_4GL"
      },
      "source": [
        "#빈 캔버스 만들기\n",
        "def init() : \n",
        "  blank = np.zeros([512,512],dtype=np.uint8)\n",
        "  blank.fill(0)\n",
        "  blank = cv2.resize(blank,(512,512))\n",
        "  \n",
        "  return blank\n",
        "  \n",
        "def drawNp(img):\n",
        "  blank = init()\n",
        "  #print(img.shape[0])\n",
        "  for i in range(0,img.shape[0]):\n",
        "    for j in range(0,img.shape[1]):\n",
        "      if img[i][j] == 1 :\n",
        "        blank[i][j] = 255\n",
        "\n",
        "  return blank"
      ],
      "execution_count": 5,
      "outputs": []
    },
    {
      "cell_type": "code",
      "metadata": {
        "id": "PyWjchXlAA0a"
      },
      "source": [
        "\n",
        "def coorMaxMin(file):\n",
        "  minX, minY = (file.loc[0][0],file.loc[0][1])\n",
        "  maxX, maxY = (file.loc[0][0],file.loc[0][1])\n",
        "  for i in range(0,file.shape[0]):\n",
        "    x = file.loc[i][0]\n",
        "    y = file.loc[i][1]\n",
        "    if x > maxX :\n",
        "      maxX = x\n",
        "    if x < minX :\n",
        "      minX = x\n",
        "    if y > maxY :\n",
        "      maxY = y\n",
        "    if y < minY :\n",
        "      minY = y\n",
        "  return minX, minY, maxX, maxY"
      ],
      "execution_count": 8,
      "outputs": []
    },
    {
      "cell_type": "code",
      "metadata": {
        "colab": {
          "base_uri": "https://localhost:8080/"
        },
        "id": "KKRfznSxCakT",
        "outputId": "186c65a4-ac80-4092-b491-0890c4e9ddb3"
      },
      "source": [
        "list_test = [[1,2]\n",
        "               ,[1,2]\n",
        "               ,[1,2]]  \n",
        "  \n",
        "print(np.shape(list_test))\n",
        "noise = np.random.normal(0.001,0.0001,(5,2))\n",
        "noise = np.random.normal(0.,0.005,(csv_file.shape[0],2))\n",
        "print(noise)"
      ],
      "execution_count": 23,
      "outputs": [
        {
          "output_type": "stream",
          "text": [
            "(3, 2)\n",
            "[[0.00887346 0.00801631]\n",
            " [0.01138967 0.00992597]\n",
            " [0.00898935 0.00828465]\n",
            " [0.01053049 0.00992463]\n",
            " [0.00990363 0.00935945]]\n"
          ],
          "name": "stdout"
        }
      ]
    },
    {
      "cell_type": "code",
      "metadata": {
        "id": "e6QmCvSI_2IN"
      },
      "source": [
        "def map2Image_noise(minX,minY,maxX,maxY,csv_file):\n",
        "\n",
        "  inputImage = np.zeros([512,512], dtype=np.uint8)\n",
        "\n",
        "  dicisionList = [1,-1]\n",
        "\n",
        "  noise = np.random.normal(0.,0.005,(csv_file.shape[0],2))\n",
        "\n",
        "  for i in range(0,csv_file.shape[0]):\n",
        "      D = random.choice(dicisionList)\n",
        "      x = csv_file.loc[i][0]-(noise[i][0]*D)\n",
        "      \n",
        "      y = csv_file.loc[i][1]-(noise[i][1]*D)\n",
        "\n",
        "      print(\"x: \",noise[i][0],\"y: \",noise[i][1])\n",
        "      mapX = int(round(np.interp(x,[minX,maxX],[0,500])))\n",
        "      mapY = int(round(np.interp(y,[minY,maxY], [0,500])))\n",
        "      inputImage[mapX][mapY] = 1\n",
        "\n",
        "\n",
        "\n",
        "  outputImage = drawNp(inputImage)\n",
        "\n",
        "  rotImage = np.rot90(outputImage)\n",
        "  cv2_imshow(rotImage)\n",
        "  return rotImage"
      ],
      "execution_count": 41,
      "outputs": []
    },
    {
      "cell_type": "code",
      "metadata": {
        "id": "sHhpD41wOjfn"
      },
      "source": [
        "def map2Image_noise(minX,minY,maxX,maxY,csv_file):\n",
        "\n",
        "  inputImage = np.zeros([512,512], dtype=np.uint8)\n",
        "\n",
        "  randomList = set()\n",
        "  while len(randomList) < int(csv_file.shape[0]/7):\n",
        "    randomList.add(random.randint(0,csv_file.shape[0]))\n",
        "\n",
        "  randomList=list(randomList)\n",
        "  dicisionList = [1,-1]\n",
        "\n",
        "  noise = np.random.normal(0.,0.005,(csv_file.shape[0],2))\n",
        "\n",
        "  for i in range(0,csv_file.shape[0]):\n",
        "\n",
        "    try:\n",
        "      randomList.index(i)\n",
        "      # r = \n",
        "      #r = random.uniform((minX-maxX)/30,(minX-maxX)/10)\n",
        "      D = random.choice(dicisionList)\n",
        "\n",
        "      x = csv_file.loc[i][0]-(noise[i][0]*D)\n",
        "      y = csv_file.loc[i][1]-(noise[i][0]*D)\n",
        "\n",
        "      mapX = int(round(np.interp(x,[minX,maxX],[0,500])))\n",
        "      mapY = int(round(np.interp(y,[minY,maxY], [0,500])))\n",
        "      inputImage[mapX][mapY] = 1\n",
        "\n",
        "    except:\n",
        "      x = csv_file.loc[i][0]\n",
        "      y = csv_file.loc[i][1]\n",
        "\n",
        "      mapX = int(round(np.interp(x,[minX,maxX],[0,500])))\n",
        "      mapY = int(round(np.interp(y,[minY,maxY], [0,500])))\n",
        "      inputImage[mapX][mapY] = 1\n",
        "\n",
        "\n",
        "  outputImage = drawNp(inputImage)\n",
        "\n",
        "  rotImage = np.rot90(outputImage)\n",
        "  cv2_imshow(rotImage)\n",
        "  return rotImage"
      ],
      "execution_count": 44,
      "outputs": []
    },
    {
      "cell_type": "code",
      "metadata": {
        "id": "CnAye9nv_la1"
      },
      "source": [
        "import cv2 \n",
        "from google.colab.patches import cv2_imshow\n",
        "import numpy as np\n",
        "import os\n",
        "import pandas as pd\n",
        "import glob\n",
        "import random"
      ],
      "execution_count": 2,
      "outputs": []
    },
    {
      "cell_type": "code",
      "metadata": {
        "id": "A3E7ML6u_jnF"
      },
      "source": [
        "############################\n",
        "######## Image Load ########\n",
        "############################\n",
        "\n",
        "import os, cv2, glob\n",
        "import numpy as np\n",
        "\n",
        "saveDir = \"/content/drive/My Drive/WayPoint/FullData_Image/432-Image/Test-Image-noise/Reconstruct/\"\n",
        "#dataDir = \"/content/drive/My Drive/WayPoint/FullData_Image/432-Image/\"\n",
        "\n",
        "dataDir = \"/content/drive/My Drive/WayPoint/직접찍은데이터/\"\n"
      ],
      "execution_count": 12,
      "outputs": []
    },
    {
      "cell_type": "code",
      "metadata": {
        "id": "h-UA2GoH_UJH"
      },
      "source": [
        "SIZE = 512\n",
        "def GetImage( path ):\n",
        "\timg = cv2.imread( path, 1 )\n",
        "\tresized = cv2.resize( img, ( SIZE, SIZE ), 3)\n",
        "\tconverted = cv2.cvtColor(resized, cv2.COLOR_BGR2GRAY)\n",
        "\tconverted = np.expand_dims(converted, axis=-1)\n",
        "\treturn converted\n",
        "\n",
        "X_trainDir = dataDir\n",
        "Y_trainDir = dataDir + 'Val/'# + 'Val/'\n"
      ],
      "execution_count": 32,
      "outputs": []
    },
    {
      "cell_type": "code",
      "metadata": {
        "colab": {
          "base_uri": "https://localhost:8080/",
          "height": 1000
        },
        "id": "UCaA15IE_q-1",
        "outputId": "cea8a335-b9ab-4a91-9ae7-23a6d0ab9a39"
      },
      "source": [
        "X_train, Y_train = [ ], [ ]\n",
        "\n",
        "os.chdir( X_trainDir )\n",
        "#X_trainFiles = glob.glob( '*png' )\n",
        "X_trainFiles = glob.glob( '*csv' )\n",
        "X_trainFiles = np.sort(X_trainFiles)\n",
        "#print(X_trainFiles)\n",
        "\n",
        "for f in X_trainFiles:\n",
        "\tcsv_file = pd.read_csv(f, names=[\"lat\",\"long\",\"num\"], header=None)\n",
        "\tminX,minY,maxX,maxY = coorMaxMin(csv_file)\n",
        "\tresultImage = map2Image_noise(minX,minY,maxX,maxY,csv_file)\n",
        "\n",
        "\t#X_train.append( GetImage( f ) )\n",
        "\tX_train.append(resultImage)\n"
      ],
      "execution_count": 45,
      "outputs": [
        {
          "output_type": "display_data",
          "data": {
            "image/png": "[encoded data removed]",
            "text/plain": [
              "<PIL.Image.Image image mode=L size=512x512 at 0x7F8E2F498F28>"
            ]
          },
          "metadata": {
            "tags": []
          }
        },
        {
          "output_type": "display_data",
          "data": {
            "image/png": "[encoded data removed]",
            "text/plain": [
              "<PIL.Image.Image image mode=L size=512x512 at 0x7F8E2F4985F8>"
            ]
          },
          "metadata": {
            "tags": []
          }
        },
        {
          "output_type": "display_data",
          "data": {
            "image/png": "[encoded data removed]",
            "text/plain": [
              "<PIL.Image.Image image mode=L size=512x512 at 0x7F8E2F498FD0>"
            ]
          },
          "metadata": {
            "tags": []
          }
        },
        {
          "output_type": "display_data",
          "data": {
            "image/png": "[encoded data removed]",
            "text/plain": [
              "<PIL.Image.Image image mode=L size=512x512 at 0x7F8E2F4981D0>"
            ]
          },
          "metadata": {
            "tags": []
          }
        },
        {
          "output_type": "display_data",
          "data": {
            "image/png": "[encoded data removed]",
            "text/plain": [
              "<PIL.Image.Image image mode=L size=512x512 at 0x7F8E2F498208>"
            ]
          },
          "metadata": {
            "tags": []
          }
        },
        {
          "output_type": "display_data",
          "data": {
            "image/png": "[encoded data removed]",
            "text/plain": [
              "<PIL.Image.Image image mode=L size=512x512 at 0x7F8E2F498208>"
            ]
          },
          "metadata": {
            "tags": []
          }
        },
        {
          "output_type": "display_data",
          "data": {
            "image/png": "[encoded data removed]",
            "text/plain": [
              "<PIL.Image.Image image mode=L size=512x512 at 0x7F8E2F498668>"
            ]
          },
          "metadata": {
            "tags": []
          }
        },
        {
          "output_type": "display_data",
          "data": {
            "image/png": "[encoded data removed]",
            "text/plain": [
              "<PIL.Image.Image image mode=L size=512x512 at 0x7F8E2F4988D0>"
            ]
          },
          "metadata": {
            "tags": []
          }
        },
        {
          "output_type": "display_data",
          "data": {
            "image/png": "[encoded data removed]",
            "text/plain": [
              "<PIL.Image.Image image mode=L size=512x512 at 0x7F8E2F4983C8>"
            ]
          },
          "metadata": {
            "tags": []
          }
        },
        {
          "output_type": "display_data",
          "data": {
            "image/png": "[encoded data removed]",
            "text/plain": [
              "<PIL.Image.Image image mode=L size=512x512 at 0x7F8E2F498F28>"
            ]
          },
          "metadata": {
            "tags": []
          }
        },
        {
          "output_type": "display_data",
          "data": {
            "image/png": "[encoded data removed]",
            "text/plain": [
              "<PIL.Image.Image image mode=L size=512x512 at 0x7F8E2F498E48>"
            ]
          },
          "metadata": {
            "tags": []
          }
        },
        {
          "output_type": "display_data",
          "data": {
            "image/png": "[encoded data removed]",
            "text/plain": [
              "<PIL.Image.Image image mode=L size=512x512 at 0x7F8E2F498208>"
            ]
          },
          "metadata": {
            "tags": []
          }
        },
        {
          "output_type": "display_data",
          "data": {
            "image/png": "[encoded data removed]",
            "text/plain": [
              "<PIL.Image.Image image mode=L size=512x512 at 0x7F8E2F4985F8>"
            ]
          },
          "metadata": {
            "tags": []
          }
        },
        {
          "output_type": "display_data",
          "data": {
            "image/png": "[encoded data removed]",
            "text/plain": [
              "<PIL.Image.Image image mode=L size=512x512 at 0x7F8E2F4985C0>"
            ]
          },
          "metadata": {
            "tags": []
          }
        },
        {
          "output_type": "display_data",
          "data": {
            "image/png": "[encoded data removed]",
            "text/plain": [
              "<PIL.Image.Image image mode=L size=512x512 at 0x7F8E2F4981D0>"
            ]
          },
          "metadata": {
            "tags": []
          }
        },
        {
          "output_type": "display_data",
          "data": {
            "image/png": "[encoded data removed]",
            "text/plain": [
              "<PIL.Image.Image image mode=L size=512x512 at 0x7F8E2F498FD0>"
            ]
          },
          "metadata": {
            "tags": []
          }
        },
        {
          "output_type": "display_data",
          "data": {
            "image/png": "[encoded data removed]",
            "text/plain": [
              "<PIL.Image.Image image mode=L size=512x512 at 0x7F8E2F498160>"
            ]
          },
          "metadata": {
            "tags": []
          }
        },
        {
          "output_type": "display_data",
          "data": {
            "image/png": "[encoded data removed]",
            "text/plain": [
              "<PIL.Image.Image image mode=L size=512x512 at 0x7F8E2F498668>"
            ]
          },
          "metadata": {
            "tags": []
          }
        },
        {
          "output_type": "display_data",
          "data": {
            "image/png": "[encoded data removed]",
            "text/plain": [
              "<PIL.Image.Image image mode=L size=512x512 at 0x7F8E2F4988D0>"
            ]
          },
          "metadata": {
            "tags": []
          }
        },
        {
          "output_type": "display_data",
          "data": {
            "image/png": "[encoded data removed]",
            "text/plain": [
              "<PIL.Image.Image image mode=L size=512x512 at 0x7F8E2F4983C8>"
            ]
          },
          "metadata": {
            "tags": []
          }
        },
        {
          "output_type": "display_data",
          "data": {
            "image/png": "[encoded data removed]",
            "text/plain": [
              "<PIL.Image.Image image mode=L size=512x512 at 0x7F8E2F498F28>"
            ]
          },
          "metadata": {
            "tags": []
          }
        },
        {
          "output_type": "display_data",
          "data": {
            "image/png": "[encoded data removed]",
            "text/plain": [
              "<PIL.Image.Image image mode=L size=512x512 at 0x7F8E2F498E48>"
            ]
          },
          "metadata": {
            "tags": []
          }
        },
        {
          "output_type": "display_data",
          "data": {
            "image/png": "[encoded data removed]",
            "text/plain": [
              "<PIL.Image.Image image mode=L size=512x512 at 0x7F8E2F498208>"
            ]
          },
          "metadata": {
            "tags": []
          }
        },
        {
          "output_type": "display_data",
          "data": {
            "image/png": "[encoded data removed]",
            "text/plain": [
              "<PIL.Image.Image image mode=L size=512x512 at 0x7F8E2F4985F8>"
            ]
          },
          "metadata": {
            "tags": []
          }
        },
        {
          "output_type": "display_data",
          "data": {
            "image/png": "[encoded data removed]",
            "text/plain": [
              "<PIL.Image.Image image mode=L size=512x512 at 0x7F8E2F4985C0>"
            ]
          },
          "metadata": {
            "tags": []
          }
        },
        {
          "output_type": "display_data",
          "data": {
            "image/png": "[encoded data removed]",
            "text/plain": [
              "<PIL.Image.Image image mode=L size=512x512 at 0x7F8E2F4981D0>"
            ]
          },
          "metadata": {
            "tags": []
          }
        },
        {
          "output_type": "display_data",
          "data": {
            "image/png": "[encoded data removed]",
            "text/plain": [
              "<PIL.Image.Image image mode=L size=512x512 at 0x7F8E2F498FD0>"
            ]
          },
          "metadata": {
            "tags": []
          }
        },
        {
          "output_type": "display_data",
          "data": {
            "image/png": "[encoded data removed]",
            "text/plain": [
              "<PIL.Image.Image image mode=L size=512x512 at 0x7F8E2F498160>"
            ]
          },
          "metadata": {
            "tags": []
          }
        },
        {
          "output_type": "display_data",
          "data": {
            "image/png": "[encoded data removed]",
            "text/plain": [
              "<PIL.Image.Image image mode=L size=512x512 at 0x7F8E2F498668>"
            ]
          },
          "metadata": {
            "tags": []
          }
        },
        {
          "output_type": "display_data",
          "data": {
            "image/png": "[encoded data removed]",
            "text/plain": [
              "<PIL.Image.Image image mode=L size=512x512 at 0x7F8E2F4988D0>"
            ]
          },
          "metadata": {
            "tags": []
          }
        },
        {
          "output_type": "display_data",
          "data": {
            "image/png": "[encoded data removed]",
            "text/plain": [
              "<PIL.Image.Image image mode=L size=512x512 at 0x7F8E2F4983C8>"
            ]
          },
          "metadata": {
            "tags": []
          }
        },
        {
          "output_type": "display_data",
          "data": {
            "image/png": "[encoded data removed]",
            "text/plain": [
              "<PIL.Image.Image image mode=L size=512x512 at 0x7F8E2F498F28>"
            ]
          },
          "metadata": {
            "tags": []
          }
        },
        {
          "output_type": "display_data",
          "data": {
            "image/png": "[encoded data removed]",
            "text/plain": [
              "<PIL.Image.Image image mode=L size=512x512 at 0x7F8E2F498E48>"
            ]
          },
          "metadata": {
            "tags": []
          }
        },
        {
          "output_type": "display_data",
          "data": {
            "image/png": "[encoded data removed]",
            "text/plain": [
              "<PIL.Image.Image image mode=L size=512x512 at 0x7F8E2F498208>"
            ]
          },
          "metadata": {
            "tags": []
          }
        },
        {
          "output_type": "display_data",
          "data": {
            "image/png": "[encoded data removed]",
            "text/plain": [
              "<PIL.Image.Image image mode=L size=512x512 at 0x7F8E2F4985F8>"
            ]
          },
          "metadata": {
            "tags": []
          }
        },
        {
          "output_type": "display_data",
          "data": {
            "image/png": "[encoded data removed]",
            "text/plain": [
              "<PIL.Image.Image image mode=L size=512x512 at 0x7F8E2F4985C0>"
            ]
          },
          "metadata": {
            "tags": []
          }
        },
        {
          "output_type": "display_data",
          "data": {
            "image/png": "[encoded data removed]",
            "text/plain": [
              "<PIL.Image.Image image mode=L size=512x512 at 0x7F8E2F4981D0>"
            ]
          },
          "metadata": {
            "tags": []
          }
        },
        {
          "output_type": "display_data",
          "data": {
            "image/png": "[encoded data removed]",
            "text/plain": [
              "<PIL.Image.Image image mode=L size=512x512 at 0x7F8E2F498FD0>"
            ]
          },
          "metadata": {
            "tags": []
          }
        },
        {
          "output_type": "display_data",
          "data": {
            "image/png": "[encoded data removed]",
            "text/plain": [
              "<PIL.Image.Image image mode=L size=512x512 at 0x7F8E2F498160>"
            ]
          },
          "metadata": {
            "tags": []
          }
        },
        {
          "output_type": "display_data",
          "data": {
            "image/png": "[encoded data removed]",
            "text/plain": [
              "<PIL.Image.Image image mode=L size=512x512 at 0x7F8E2F498668>"
            ]
          },
          "metadata": {
            "tags": []
          }
        },
        {
          "output_type": "display_data",
          "data": {
            "image/png": "[encoded data removed]",
            "text/plain": [
              "<PIL.Image.Image image mode=L size=512x512 at 0x7F8E2F4988D0>"
            ]
          },
          "metadata": {
            "tags": []
          }
        },
        {
          "output_type": "display_data",
          "data": {
            "image/png": "[encoded data removed]",
            "text/plain": [
              "<PIL.Image.Image image mode=L size=512x512 at 0x7F8E2F4983C8>"
            ]
          },
          "metadata": {
            "tags": []
          }
        },
        {
          "output_type": "display_data",
          "data": {
            "image/png": "[encoded data removed]",
            "text/plain": [
              "<PIL.Image.Image image mode=L size=512x512 at 0x7F8E2F498F28>"
            ]
          },
          "metadata": {
            "tags": []
          }
        },
        {
          "output_type": "display_data",
          "data": {
            "image/png": "[encoded data removed]",
            "text/plain": [
              "<PIL.Image.Image image mode=L size=512x512 at 0x7F8E2F498E48>"
            ]
          },
          "metadata": {
            "tags": []
          }
        },
        {
          "output_type": "display_data",
          "data": {
            "image/png": "[encoded data removed]",
            "text/plain": [
              "<PIL.Image.Image image mode=L size=512x512 at 0x7F8E2F498208>"
            ]
          },
          "metadata": {
            "tags": []
          }
        },
        {
          "output_type": "display_data",
          "data": {
            "image/png": "[encoded data removed]",
            "text/plain": [
              "<PIL.Image.Image image mode=L size=512x512 at 0x7F8E2F4985F8>"
            ]
          },
          "metadata": {
            "tags": []
          }
        },
        {
          "output_type": "display_data",
          "data": {
            "image/png": "[encoded data removed]",
            "text/plain": [
              "<PIL.Image.Image image mode=L size=512x512 at 0x7F8E2F4985C0>"
            ]
          },
          "metadata": {
            "tags": []
          }
        },
        {
          "output_type": "display_data",
          "data": {
            "image/png": "[encoded data removed]",
            "text/plain": [
              "<PIL.Image.Image image mode=L size=512x512 at 0x7F8E2F4981D0>"
            ]
          },
          "metadata": {
            "tags": []
          }
        },
        {
          "output_type": "display_data",
          "data": {
            "image/png": "[encoded data removed]",
            "text/plain": [
              "<PIL.Image.Image image mode=L size=512x512 at 0x7F8E2F498FD0>"
            ]
          },
          "metadata": {
            "tags": []
          }
        },
        {
          "output_type": "display_data",
          "data": {
            "image/png": "[encoded data removed]",
            "text/plain": [
              "<PIL.Image.Image image mode=L size=512x512 at 0x7F8E2F498160>"
            ]
          },
          "metadata": {
            "tags": []
          }
        },
        {
          "output_type": "display_data",
          "data": {
            "image/png": "[encoded data removed]",
            "text/plain": [
              "<PIL.Image.Image image mode=L size=512x512 at 0x7F8E2F498668>"
            ]
          },
          "metadata": {
            "tags": []
          }
        },
        {
          "output_type": "display_data",
          "data": {
            "image/png": "[encoded data removed]",
            "text/plain": [
              "<PIL.Image.Image image mode=L size=512x512 at 0x7F8E2F4988D0>"
            ]
          },
          "metadata": {
            "tags": []
          }
        },
        {
          "output_type": "display_data",
          "data": {
            "image/png": "[encoded data removed]",
            "text/plain": [
              "<PIL.Image.Image image mode=L size=512x512 at 0x7F8E2F4983C8>"
            ]
          },
          "metadata": {
            "tags": []
          }
        },
        {
          "output_type": "display_data",
          "data": {
            "image/png": "[encoded data removed]",
            "text/plain": [
              "<PIL.Image.Image image mode=L size=512x512 at 0x7F8E2F498F28>"
            ]
          },
          "metadata": {
            "tags": []
          }
        },
        {
          "output_type": "display_data",
          "data": {
            "image/png": "[encoded data removed]",
            "text/plain": [
              "<PIL.Image.Image image mode=L size=512x512 at 0x7F8E2F498E48>"
            ]
          },
          "metadata": {
            "tags": []
          }
        },
        {
          "output_type": "display_data",
          "data": {
            "image/png": "[encoded data removed]",
            "text/plain": [
              "<PIL.Image.Image image mode=L size=512x512 at 0x7F8E2F498208>"
            ]
          },
          "metadata": {
            "tags": []
          }
        }
      ]
    },
    {
      "cell_type": "code",
      "metadata": {
        "colab": {
          "base_uri": "https://localhost:8080/"
        },
        "id": "OZoSfwz2_s3c",
        "outputId": "e384443c-b2b0-407b-f210-d0b7979df990"
      },
      "source": [
        "print(np.shape(X_train))"
      ],
      "execution_count": 26,
      "outputs": [
        {
          "output_type": "stream",
          "text": [
            "(56, 512, 512)\n"
          ],
          "name": "stdout"
        }
      ]
    }
  ]
}