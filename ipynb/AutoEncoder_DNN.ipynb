{
  "nbformat": 4,
  "nbformat_minor": 0,
  "metadata": {
    "kernelspec": {
      "display_name": "Python 3",
      "language": "python",
      "name": "python3"
    },
    "language_info": {
      "codemirror_mode": {
        "name": "ipython",
        "version": 3
      },
      "file_extension": ".py",
      "mimetype": "text/x-python",
      "name": "python",
      "nbconvert_exporter": "python",
      "pygments_lexer": "ipython3",
      "version": "3.7.4"
    },
    "colab": {
      "name": "AutoEncoder_DNN.ipynb",
      "provenance": [],
      "collapsed_sections": [],
      "include_colab_link": true
    },
    "accelerator": "GPU"
  },
  "cells": [
    {
      "cell_type": "markdown",
      "metadata": {
        "id": "view-in-github",
        "colab_type": "text"
      },
      "source": [
        "<a href=\"https://colab.research.google.com/github/Taejin1221/MachineLearning/blob/master/TrajectoryAugmentation/AutoEncoder_DNN.ipynb\" target=\"_parent\"><img src=\"https://colab.research.google.com/assets/colab-badge.svg\" alt=\"Open In Colab\"/></a>"
      ]
    },
    {
      "cell_type": "code",
      "metadata": {
        "id": "GNq38BMhbWWO",
        "colab_type": "code",
        "colab": {}
      },
      "source": [
        "import tensorflow as tf\n",
        "from tensorflow import keras\n",
        "from tensorflow.keras import layers"
      ],
      "execution_count": 1,
      "outputs": []
    },
    {
      "cell_type": "code",
      "metadata": {
        "id": "B8h5_57ibWWS",
        "colab_type": "code",
        "colab": {
          "base_uri": "https://localhost:8080/",
          "height": 71
        },
        "outputId": "1c007677-403a-4409-8c1e-93011e448ec3"
      },
      "source": [
        "(x_train, y_train), (x_test, y_test) = tf.keras.datasets.mnist.load_data()\n",
        "x_train = x_train.reshape( ( -1, 784 ) )\n",
        "x_test = x_test.reshape( ( -1, 784 ) )\n",
        "\n",
        "x_train.shape, x_test.shape"
      ],
      "execution_count": 2,
      "outputs": [
        {
          "output_type": "stream",
          "text": [
            "Downloading data from https://storage.googleapis.com/tensorflow/tf-keras-datasets/mnist.npz\n",
            "11493376/11490434 [==============================] - 0s 0us/step\n"
          ],
          "name": "stdout"
        },
        {
          "output_type": "execute_result",
          "data": {
            "text/plain": [
              "((60000, 784), (10000, 784))"
            ]
          },
          "metadata": {
            "tags": []
          },
          "execution_count": 2
        }
      ]
    },
    {
      "cell_type": "code",
      "metadata": {
        "id": "6xHNbXG4bWWZ",
        "colab_type": "code",
        "colab": {}
      },
      "source": [
        "# hyper parameters\n",
        "n_input = 784\n",
        "n_hidden1 = 300\n",
        "n_hidden2 = 150\n",
        "n_hidden3 = 300\n",
        "n_output = 784"
      ],
      "execution_count": 3,
      "outputs": []
    },
    {
      "cell_type": "code",
      "metadata": {
        "id": "GuUIZoQubWWb",
        "colab_type": "code",
        "colab": {}
      },
      "source": [
        "model = keras.Sequential()\n",
        "model.add( layers.Dense( n_input, 'sigmoid', input_shape = ( 784, ), name = 'Encoder' ) )\n",
        "model.add( layers.Dense( n_hidden1, 'sigmoid', name = 'Hidden1' ) )\n",
        "model.add( layers.Dense( n_hidden2, 'sigmoid', name = 'Hidden2' ) )\n",
        "model.add( layers.Dense( n_hidden3, 'sigmoid', name = 'Hidden3' ) )\n",
        "model.add( layers.Dense( n_output, name = 'Decoder' ) )"
      ],
      "execution_count": 4,
      "outputs": []
    },
    {
      "cell_type": "code",
      "metadata": {
        "id": "vzqz-VkjbWWe",
        "colab_type": "code",
        "colab": {
          "base_uri": "https://localhost:8080/",
          "height": 341
        },
        "outputId": "8faf1518-cb5d-4831-b084-bc3c90579ec0"
      },
      "source": [
        "model.compile( optimizer = keras.optimizers.SGD(), loss = 'MSE' )\n",
        "model.summary()"
      ],
      "execution_count": 5,
      "outputs": [
        {
          "output_type": "stream",
          "text": [
            "Model: \"sequential\"\n",
            "_________________________________________________________________\n",
            "Layer (type)                 Output Shape              Param #   \n",
            "=================================================================\n",
            "Encoder (Dense)              (None, 784)               615440    \n",
            "_________________________________________________________________\n",
            "Hidden1 (Dense)              (None, 300)               235500    \n",
            "_________________________________________________________________\n",
            "Hidden2 (Dense)              (None, 150)               45150     \n",
            "_________________________________________________________________\n",
            "Hidden3 (Dense)              (None, 300)               45300     \n",
            "_________________________________________________________________\n",
            "Decoder (Dense)              (None, 784)               235984    \n",
            "=================================================================\n",
            "Total params: 1,177,374\n",
            "Trainable params: 1,177,374\n",
            "Non-trainable params: 0\n",
            "_________________________________________________________________\n"
          ],
          "name": "stdout"
        }
      ]
    },
    {
      "cell_type": "code",
      "metadata": {
        "scrolled": false,
        "id": "lJbEwGj0bWWg",
        "colab_type": "code",
        "colab": {
          "base_uri": "https://localhost:8080/",
          "height": 395
        },
        "outputId": "941d2787-2e40-41c2-bf16-bc9c7a950159"
      },
      "source": [
        "model.fit( x_train, x_train, epochs = 10 )"
      ],
      "execution_count": 6,
      "outputs": [
        {
          "output_type": "stream",
          "text": [
            "Epoch 1/10\n",
            "1875/1875 [==============================] - 3s 1ms/step - loss: 4489.2622\n",
            "Epoch 2/10\n",
            "1875/1875 [==============================] - 3s 1ms/step - loss: 4373.5903\n",
            "Epoch 3/10\n",
            "1875/1875 [==============================] - 3s 1ms/step - loss: 4369.8701\n",
            "Epoch 4/10\n",
            "1875/1875 [==============================] - 3s 1ms/step - loss: 4370.2222\n",
            "Epoch 5/10\n",
            "1875/1875 [==============================] - 3s 1ms/step - loss: 4365.8359\n",
            "Epoch 6/10\n",
            "1875/1875 [==============================] - 3s 1ms/step - loss: 4365.2939\n",
            "Epoch 7/10\n",
            "1875/1875 [==============================] - 3s 1ms/step - loss: 4364.4951\n",
            "Epoch 8/10\n",
            "1875/1875 [==============================] - 3s 1ms/step - loss: 4373.5337\n",
            "Epoch 9/10\n",
            "1875/1875 [==============================] - 3s 1ms/step - loss: 4367.3530\n",
            "Epoch 10/10\n",
            "1875/1875 [==============================] - 3s 1ms/step - loss: 4371.0786\n"
          ],
          "name": "stdout"
        },
        {
          "output_type": "execute_result",
          "data": {
            "text/plain": [
              "<tensorflow.python.keras.callbacks.History at 0x7fb45007b630>"
            ]
          },
          "metadata": {
            "tags": []
          },
          "execution_count": 6
        }
      ]
    },
    {
      "cell_type": "code",
      "metadata": {
        "id": "SoWe3XU1cUeF",
        "colab_type": "code",
        "colab": {
          "base_uri": "https://localhost:8080/",
          "height": 268
        },
        "outputId": "e080e234-d745-47f5-e370-cc5548bced4c"
      },
      "source": [
        "%matplotlib inline\n",
        "import matplotlib.pyplot as plt\n",
        "\n",
        "n_test_digits = 2\n",
        "\n",
        "outputs_val = model.predict( x_test[:2] )\n",
        "fig = plt.figure(figsize=(10, 4))\n",
        "for digit_index in range(n_test_digits):\n",
        "    plt.subplot( n_test_digits, 2, digit_index * 2 + 1 )\n",
        "    plt.imshow( x_test[digit_index].reshape( [28, 28] ), cmap = \"Greys\", interpolation=\"nearest\" )\n",
        "\n",
        "    plt.subplot( n_test_digits, 2, digit_index * 2 + 2 )\n",
        "    plt.imshow( outputs_val[digit_index].reshape( [28, 28] ), cmap = \"Greys\", interpolation=\"nearest\")"
      ],
      "execution_count": 7,
      "outputs": [
        {
          "output_type": "display_data",
          "data": {
            "image/png": "[encoded data removed]",
            "text/plain": [
              "<Figure size 720x288 with 4 Axes>"
            ]
          },
          "metadata": {
            "tags": [],
            "needs_background": "light"
          }
        }
      ]
    }
  ]
}