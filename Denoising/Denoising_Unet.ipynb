{
  "nbformat": 4,
  "nbformat_minor": 0,
  "metadata": {
    "colab": {
      "name": "Unet.ipynb",
      "provenance": [],
      "collapsed_sections": []
    },
    "kernelspec": {
      "name": "python3",
      "display_name": "Python 3"
    },
    "accelerator": "GPU"
  },
  "cells": [
    {
      "cell_type": "code",
      "metadata": {
        "id": "8_SQQfcF1ip3"
      },
      "source": [
        "import cv2 \n",
        "from google.colab.patches import cv2_imshow\n",
        "import numpy as np\n",
        "import os\n",
        "import pandas as pd\n",
        "import glob\n",
        "import random"
      ],
      "execution_count": 1,
      "outputs": []
    },
    {
      "cell_type": "code",
      "metadata": {
        "id": "d1ECH_Stz8jN"
      },
      "source": [
        "#빈 캔버스 만들기\n",
        "def init() : \n",
        "  blank = np.zeros([512,512],dtype=np.uint8)\n",
        "  blank.fill(0)\n",
        "  blank = cv2.resize(blank,(512,512))\n",
        "  \n",
        "  return blank\n",
        "  \n",
        "def drawNp(img):\n",
        "  blank = init()\n",
        "  #print(img.shape[0])\n",
        "  for i in range(0,img.shape[0]):\n",
        "    for j in range(0,img.shape[1]):\n",
        "      if img[i][j] == 1 :\n",
        "        blank[i][j] = 255\n",
        "\n",
        "  return blank"
      ],
      "execution_count": 2,
      "outputs": []
    },
    {
      "cell_type": "code",
      "metadata": {
        "id": "l8AXY8iO0OvE"
      },
      "source": [
        "def map2Image(minX,minY,maxX,maxY,csv_file):\n",
        "\n",
        "  inputImage = np.zeros([512,512], dtype=np.uint8)\n",
        "\n",
        "  for i in range(0,csv_file.shape[0]):\n",
        "    x = csv_file.loc[i][0]\n",
        "    y = csv_file.loc[i][1]\n",
        "\n",
        "    mapX = int(round(np.interp(x,[minX,maxX],[0,500])))\n",
        "    mapY = int(round(np.interp(y,[minY,maxY],[0,500])))\n",
        "    inputImage[mapX][mapY] = 1\n",
        "\n",
        "  outputImage = drawNp(inputImage)\n",
        "\n",
        "  rotImage = np.rot90(outputImage)\n",
        "\n",
        "  return rotImage\n",
        "\n",
        "def coorMaxMin(file):\n",
        "  minX, minY = (file.loc[0][0],file.loc[0][1])\n",
        "  maxX, maxY = (file.loc[0][0],file.loc[0][1])\n",
        "  for i in range(0,file.shape[0]):\n",
        "    x = file.loc[i][0]\n",
        "    y = file.loc[i][1]\n",
        "    if x > maxX :\n",
        "      maxX = x\n",
        "    if x < minX :\n",
        "      minX = x\n",
        "    if y > maxY :\n",
        "      maxY = y\n",
        "    if y < minY :\n",
        "      minY = y\n",
        "  return minX, minY, maxX, maxY\n"
      ],
      "execution_count": 3,
      "outputs": []
    },
    {
      "cell_type": "code",
      "metadata": {
        "id": "xe9pjyBFMjPO"
      },
      "source": [
        "def map2Image_noise(minX,minY,maxX,maxY,csv_file):\n",
        "\n",
        "  inputImage = np.zeros([512,512], dtype=np.uint8)\n",
        "\n",
        "  randomList = set()\n",
        "  while len(randomList) < int(csv_file.shape[0]/7):\n",
        "    randomList.add(random.randint(0,csv_file.shape[0]))\n",
        "\n",
        "  randomList=list(randomList)\n",
        "  dicisionList = [1,-1]\n",
        "\n",
        "  for i in range(0,csv_file.shape[0]):\n",
        "\n",
        "    try:\n",
        "      randomList.index(i)\n",
        "      \n",
        "      r = random.uniform((minX-maxX)/40,(minX-maxX)/20)\n",
        "      D = random.choice(dicisionList)\n",
        "\n",
        "      x = csv_file.loc[i][0]-(D*r)\n",
        "      y = csv_file.loc[i][1]-(D*r)\n",
        "\n",
        "      mapX = int(round(np.interp(x,[minX,maxX],[0,500])))\n",
        "      mapY = int(round(np.interp(y,[minY,maxY], [0,500])))\n",
        "      inputImage[mapX][mapY] = 1\n",
        "\n",
        "    except:\n",
        "      x = csv_file.loc[i][0]\n",
        "      y = csv_file.loc[i][1]\n",
        "\n",
        "      mapX = int(round(np.interp(x,[minX,maxX],[0,500])))\n",
        "      mapY = int(round(np.interp(y,[minY,maxY], [0,500])))\n",
        "      inputImage[mapX][mapY] = 1\n",
        "\n",
        "\n",
        "  outputImage = drawNp(inputImage)\n",
        "\n",
        "  rotImage = np.rot90(outputImage)\n",
        "\n",
        "  return rotImage"
      ],
      "execution_count": 4,
      "outputs": []
    },
    {
      "cell_type": "code",
      "metadata": {
        "id": "ZA46KGd2AdH2"
      },
      "source": [
        "def PrecisionAndRecall(decodeImage,OriginalImage,csvFile,Threshold):\n",
        "\n",
        "  blank = np.zeros([512,512],dtype=np.uint8)\n",
        "  blank.fill(0)\n",
        "  blank = cv2.resize(blank,(512,512),1)\n",
        "\n",
        "  for x in range(0,512):\n",
        "    for y in range(0,512):\n",
        "      if decodeImage[x][y] > Threshold :\n",
        "      \n",
        "        blank[x][y] = OriginalImage[x][y] * 255\n",
        "\n",
        "  inputImage = np.zeros([512,512], dtype=np.uint8)\n",
        "  blankRot = np.rot90(blank)\n",
        "  blankRot = np.rot90(blankRot)\n",
        "  blankRot = np.rot90(blankRot)\n",
        "  minX,minY,maxX,maxY = coorMaxMin(csvFile)\n",
        "  FN = TP = TN = FP = 0\n",
        "  for i in range(0,csvFile.shape[0]):\n",
        "    x = csv_file.loc[i][0]\n",
        "    y = csv_file.loc[i][1]\n",
        "\n",
        "    mapX = int(round(np.interp(x,[minX,maxX],[0,500])))\n",
        "    mapY = int(round(np.interp(y,[minY,maxY],[0,500])))\n",
        "    inputImage[mapX][mapY] = 1\n",
        "\n",
        "    if inputImage[mapX][mapY]==1 and blankRot[mapX][mapY] == 255:\n",
        "      #print(i,csvFile.loc[i][3])\n",
        "      if csvFile.loc[i][3] == False:\n",
        "        FN = FN + 1\n",
        "      else : \n",
        "        TN = TN + 1\n",
        "    else:\n",
        "      #print(i,\"erased : \",csv_file.loc[i][3])\n",
        "      if csvFile.loc[i][3] == True:\n",
        "        TP = TP + 1\n",
        "      else:\n",
        "        FP = FP + 1\n",
        "\n",
        "\n",
        "  outputImage = drawNp(inputImage)\n",
        "\n",
        "  rotImage = np.rot90(outputImage)\n",
        "  #print(blank)\n",
        "  cv2_imshow(blank)\n",
        "  cv2_imshow(rotImage)\n",
        "\n",
        "  print(\"FN : \",FN,\"TN : \",TN,\"TP : \",TP,\"FP : \",FP)\n",
        "\n",
        "  return FN,TN,TP,FP\n",
        "\n"
      ],
      "execution_count": 5,
      "outputs": []
    },
    {
      "cell_type": "code",
      "metadata": {
        "id": "m0nZb6kK0PlK"
      },
      "source": [
        "############################\n",
        "######## Image Load ########\n",
        "############################\n",
        "\n",
        "import os, cv2, glob\n",
        "import numpy as np\n",
        "\n",
        "saveDir = \"/content/drive/My Drive/WayPoint/FullData_Image/432-Image/Test-Image-noise/Reconstruct/\"\n",
        "#dataDir = \"/content/drive/My Drive/WayPoint/FullData_Image/432-Image/\"\n",
        "\n",
        "dataDir = \"/content/drive/My Drive/WayPoint/직접찍은데이터/\"\n"
      ],
      "execution_count": 6,
      "outputs": []
    },
    {
      "cell_type": "code",
      "metadata": {
        "id": "ATUQYVR-0wa_"
      },
      "source": [
        "SIZE = 512\n",
        "def GetImage( path ):\n",
        "\timg = cv2.imread( path, 1 )\n",
        "\tresized = cv2.resize( img, ( SIZE, SIZE ), 3)\n",
        "\tconverted = cv2.cvtColor(resized, cv2.COLOR_BGR2GRAY)\n",
        "\tconverted = np.expand_dims(converted, axis=-1)\n",
        "\treturn converted\n",
        "\n",
        "X_trainDir = dataDir\n",
        "Y_trainDir = dataDir + 'Noise/'# + 'Val/'\n"
      ],
      "execution_count": 7,
      "outputs": []
    },
    {
      "cell_type": "code",
      "metadata": {
        "id": "-27cQD6F09tn"
      },
      "source": [
        "X_train, Y_train = [ ], [ ]\n",
        "\n",
        "os.chdir( X_trainDir )\n",
        "#X_trainFiles = glob.glob( '*png' )\n",
        "X_trainFiles = glob.glob( '*csv' )\n",
        "X_trainFiles = np.sort(X_trainFiles)\n",
        "#print(X_trainFiles)\n",
        "\n",
        "for f in X_trainFiles:\n",
        "\tcsv_file = pd.read_csv(f, names=[\"lat\",\"long\",\"num\"], header=None)\n",
        "\tminX,minY,maxX,maxY = coorMaxMin(csv_file)\n",
        "\tresultImage = map2Image_noise(minX,minY,maxX,maxY,csv_file)\n",
        "\n",
        "\t#X_train.append( GetImage( f ) )\n",
        "\tX_train.append(resultImage)\n",
        "\n",
        "os.chdir( Y_trainDir )\n",
        "#Y_trainFiles = glob.glob( '*png' )\n",
        "Y_trainFiles = glob.glob( '*csv' )\n",
        "Y_trainFiles = np.sort(Y_trainFiles)\n",
        "#print(Y_trainFiles)\n",
        "for f in Y_trainFiles:\n",
        "\tcsv_file = pd.read_csv(f, names=[\"lat\",\"long\",\"num\",\"Noise\"], header=None,skiprows=1)\n",
        "\tminX,minY,maxX,maxY = coorMaxMin(csv_file)\n",
        "\n",
        "\tresultImage = map2Image(minX,minY,maxX,maxY,csv_file)\n",
        " \n",
        "\t#Y_train.append( GetImage( f ) )\n",
        "\tY_train.append(resultImage)\n"
      ],
      "execution_count": 27,
      "outputs": []
    },
    {
      "cell_type": "code",
      "metadata": {
        "id": "BqPbB1oD2WDP",
        "colab": {
          "base_uri": "https://localhost:8080/"
        },
        "outputId": "d662ebb9-e8b9-427c-b96e-5f136ef62892"
      },
      "source": [
        "print(np.shape(X_train))\n",
        "print(np.shape(Y_train))"
      ],
      "execution_count": 9,
      "outputs": [
        {
          "output_type": "stream",
          "text": [
            "(56, 512, 512)\n",
            "(56, 512, 512)\n"
          ],
          "name": "stdout"
        }
      ]
    },
    {
      "cell_type": "code",
      "metadata": {
        "id": "03-MDcwX0_4Q"
      },
      "source": [
        "## Load Test Data ##\n",
        "testDir = dataDir + 'Val/Noise/'\n",
        "\n",
        "X_test = [ ]\n",
        "\n",
        "os.chdir( testDir )\n",
        "testFiles = glob.glob( '*csv' )\n",
        "for f in testFiles:\n",
        "\tcsv_file = pd.read_csv(f, names=[\"lat\",\"long\",\"num\",\"Noise\"], header=None, skiprows=1)\n",
        "\tminX,minY,maxX,maxY = coorMaxMin(csv_file)\n",
        "\n",
        "\tresultImage = map2Image(minX,minY,maxX,maxY,csv_file)\n",
        "\tX_test.append(resultImage)"
      ],
      "execution_count": 10,
      "outputs": []
    },
    {
      "cell_type": "code",
      "metadata": {
        "id": "q4wgWP2k18C0",
        "colab": {
          "base_uri": "https://localhost:8080/"
        },
        "outputId": "9e255f65-9a94-4ca2-d96b-ee12d51e6d1c"
      },
      "source": [
        "## Resize Images for CNN ##\n",
        "X_train, Y_train = np.array( X_train ), np.array( Y_train )\n",
        "X_test = np.array( X_test )\n",
        "\n",
        "X_train = X_train.astype( 'float32' ) / 255.\n",
        "Y_train = Y_train.astype( 'float32' ) / 255.\n",
        "X_test = X_test.astype( 'float32' ) / 255.\n",
        "\n",
        "print( X_train.shape, Y_train.shape, X_test.shape )\n",
        "\n",
        "X_train = np.reshape( X_train, ( len( X_train ), SIZE, SIZE, 1 ) )\n",
        "Y_train = np.reshape( Y_train, ( len( Y_train ), SIZE, SIZE, 1 ) )\n",
        "X_test = np.reshape( X_test, ( len( X_test ), SIZE, SIZE, 1 ) )\n",
        "\n",
        "print( 'train shape (X, Y): ({},{})'.format( X_train.shape, Y_train.shape ) )\n",
        "print( 'test shape (X): ({})'.format( X_test.shape ) )"
      ],
      "execution_count": 11,
      "outputs": [
        {
          "output_type": "stream",
          "text": [
            "(56, 512, 512) (56, 512, 512) (10, 512, 512)\n",
            "train shape (X, Y): ((56, 512, 512, 1),(56, 512, 512, 1))\n",
            "test shape (X): ((10, 512, 512, 1))\n"
          ],
          "name": "stdout"
        }
      ]
    },
    {
      "cell_type": "code",
      "metadata": {
        "id": "mp4TFyC63y8P"
      },
      "source": [
        "#############################\n",
        "###### Construct Model ######\n",
        "#############################\n",
        "\n",
        "import tensorflow as tf\n",
        "from tensorflow import keras\n",
        "from tensorflow.keras import layers\n",
        "from keras.layers import Input, Conv2D, MaxPooling2D, UpSampling2D, Conv2DTranspose, concatenate\n",
        "\n"
      ],
      "execution_count": 12,
      "outputs": []
    },
    {
      "cell_type": "code",
      "metadata": {
        "id": "q3Gu0XeM4bJw"
      },
      "source": [
        " ## Hyper Parameter ##\n",
        "acti, pad = 'relu', 'same'\n",
        "\n",
        "## Input Image ##\n",
        "input_img = layers.Input(shape=(512, 512, 1))\n",
        "\n",
        "# Encoding #\n",
        "conv1 = Conv2D( 128, ( 3, 3 ), activation = 'relu', padding = 'same' )( input_img )\n",
        "pool1 = MaxPooling2D( ( 2, 2 ), padding = 'same' )( conv1 )\n",
        "\n",
        "conv2 = Conv2D( 64, ( 3, 3 ),  activation = 'relu', padding = 'same' )( pool1 )\n",
        "pool2 = MaxPooling2D( ( 2, 2 ), padding = 'same' )( conv2 )\n",
        "\n",
        "conv3 = Conv2D( 32, ( 3, 3 ), activation = 'relu', padding = 'same' )( pool2 )\n",
        "pool3 = MaxPooling2D( ( 2, 2 ), padding = 'same' )( conv3 )\n",
        "\n",
        "\n",
        "# Decoding #\n",
        "conv4 = Conv2D( 32, ( 3, 3 ), activation = 'relu', padding = 'same' )( pool3 )\n",
        "up1 = UpSampling2D( ( 2, 2 ) )( conv4 )\n",
        "\n",
        "merge1 = concatenate([conv3,up1])\n",
        "conv5 = Conv2D( 64, ( 3, 3 ), activation = 'relu', padding = 'same' )( merge1 )\n",
        "up2 = UpSampling2D( ( 2, 2 ) )( conv5 )\n",
        "\n",
        "#merge2 = concatenate([conv2,up2])\n",
        "conv6 = Conv2D( 128, ( 3, 3 ), activation = 'relu', padding = 'same' )( up2 )\n",
        "up3 = UpSampling2D( ( 2, 2 ) )( conv6 )\n",
        "\n",
        "\n",
        "decoded = Conv2D( 1, ( 3, 3 ), activation = 'sigmoid', padding = 'same' )( up3 )"
      ],
      "execution_count": 13,
      "outputs": []
    },
    {
      "cell_type": "code",
      "metadata": {
        "id": "APBl4yDl4q2c",
        "colab": {
          "base_uri": "https://localhost:8080/"
        },
        "outputId": "1f9de928-2261-4493-cab7-3ba85bb3c777"
      },
      "source": [
        "## Compile\n",
        "Unet = keras.Model(input_img, decoded)\n",
        "Unet.summary()\n",
        "\n",
        "Unet.compile( optimizer = 'adam', loss = 'binary_crossentropy' )\n"
      ],
      "execution_count": 14,
      "outputs": [
        {
          "output_type": "stream",
          "text": [
            "Model: \"functional_1\"\n",
            "__________________________________________________________________________________________________\n",
            "Layer (type)                    Output Shape         Param #     Connected to                     \n",
            "==================================================================================================\n",
            "input_1 (InputLayer)            [(None, 512, 512, 1) 0                                            \n",
            "__________________________________________________________________________________________________\n",
            "conv2d (Conv2D)                 (None, 512, 512, 128 1280        input_1[0][0]                    \n",
            "__________________________________________________________________________________________________\n",
            "max_pooling2d (MaxPooling2D)    (None, 256, 256, 128 0           conv2d[0][0]                     \n",
            "__________________________________________________________________________________________________\n",
            "conv2d_1 (Conv2D)               (None, 256, 256, 64) 73792       max_pooling2d[0][0]              \n",
            "__________________________________________________________________________________________________\n",
            "max_pooling2d_1 (MaxPooling2D)  (None, 128, 128, 64) 0           conv2d_1[0][0]                   \n",
            "__________________________________________________________________________________________________\n",
            "conv2d_2 (Conv2D)               (None, 128, 128, 32) 18464       max_pooling2d_1[0][0]            \n",
            "__________________________________________________________________________________________________\n",
            "max_pooling2d_2 (MaxPooling2D)  (None, 64, 64, 32)   0           conv2d_2[0][0]                   \n",
            "__________________________________________________________________________________________________\n",
            "conv2d_3 (Conv2D)               (None, 64, 64, 32)   9248        max_pooling2d_2[0][0]            \n",
            "__________________________________________________________________________________________________\n",
            "up_sampling2d (UpSampling2D)    (None, 128, 128, 32) 0           conv2d_3[0][0]                   \n",
            "__________________________________________________________________________________________________\n",
            "concatenate (Concatenate)       (None, 128, 128, 64) 0           conv2d_2[0][0]                   \n",
            "                                                                 up_sampling2d[0][0]              \n",
            "__________________________________________________________________________________________________\n",
            "conv2d_4 (Conv2D)               (None, 128, 128, 64) 36928       concatenate[0][0]                \n",
            "__________________________________________________________________________________________________\n",
            "up_sampling2d_1 (UpSampling2D)  (None, 256, 256, 64) 0           conv2d_4[0][0]                   \n",
            "__________________________________________________________________________________________________\n",
            "conv2d_5 (Conv2D)               (None, 256, 256, 128 73856       up_sampling2d_1[0][0]            \n",
            "__________________________________________________________________________________________________\n",
            "up_sampling2d_2 (UpSampling2D)  (None, 512, 512, 128 0           conv2d_5[0][0]                   \n",
            "__________________________________________________________________________________________________\n",
            "conv2d_6 (Conv2D)               (None, 512, 512, 1)  1153        up_sampling2d_2[0][0]            \n",
            "==================================================================================================\n",
            "Total params: 214,721\n",
            "Trainable params: 214,721\n",
            "Non-trainable params: 0\n",
            "__________________________________________________________________________________________________\n"
          ],
          "name": "stdout"
        }
      ]
    },
    {
      "cell_type": "code",
      "metadata": {
        "id": "9_vm7-n1406I",
        "colab": {
          "base_uri": "https://localhost:8080/"
        },
        "outputId": "3caf2cdc-36cd-43da-d710-2e7ee91cb6ad"
      },
      "source": [
        "EPOCH = 30\n",
        "BATCH = 10\n",
        "SHUFFLE = True\n",
        "\n",
        "history = Unet.fit( Y_train, X_train, epochs = EPOCH, batch_size = BATCH, shuffle = SHUFFLE )\n"
      ],
      "execution_count": 15,
      "outputs": [
        {
          "output_type": "stream",
          "text": [
            "Epoch 1/30\n",
            "6/6 [==============================] - 2s 297ms/step - loss: 0.5916\n",
            "Epoch 2/30\n",
            "6/6 [==============================] - 1s 182ms/step - loss: 0.0524\n",
            "Epoch 3/30\n",
            "6/6 [==============================] - 1s 183ms/step - loss: 0.0899\n",
            "Epoch 4/30\n",
            "6/6 [==============================] - 1s 181ms/step - loss: 0.0532\n",
            "Epoch 5/30\n",
            "6/6 [==============================] - 1s 182ms/step - loss: 0.0177\n",
            "Epoch 6/30\n",
            "6/6 [==============================] - 1s 182ms/step - loss: 0.0146\n",
            "Epoch 7/30\n",
            "6/6 [==============================] - 1s 182ms/step - loss: 0.0123\n",
            "Epoch 8/30\n",
            "6/6 [==============================] - 1s 184ms/step - loss: 0.0111\n",
            "Epoch 9/30\n",
            "6/6 [==============================] - 1s 182ms/step - loss: 0.0108\n",
            "Epoch 10/30\n",
            "6/6 [==============================] - 1s 184ms/step - loss: 0.0095\n",
            "Epoch 11/30\n",
            "6/6 [==============================] - 1s 181ms/step - loss: 0.0090\n",
            "Epoch 12/30\n",
            "6/6 [==============================] - 1s 182ms/step - loss: 0.0086\n",
            "Epoch 13/30\n",
            "6/6 [==============================] - 1s 183ms/step - loss: 0.0083\n",
            "Epoch 14/30\n",
            "6/6 [==============================] - 1s 183ms/step - loss: 0.0079\n",
            "Epoch 15/30\n",
            "6/6 [==============================] - 1s 183ms/step - loss: 0.0077\n",
            "Epoch 16/30\n",
            "6/6 [==============================] - 1s 183ms/step - loss: 0.0074\n",
            "Epoch 17/30\n",
            "6/6 [==============================] - 1s 185ms/step - loss: 0.0072\n",
            "Epoch 18/30\n",
            "6/6 [==============================] - 1s 182ms/step - loss: 0.0070\n",
            "Epoch 19/30\n",
            "6/6 [==============================] - 1s 181ms/step - loss: 0.0067\n",
            "Epoch 20/30\n",
            "6/6 [==============================] - 1s 181ms/step - loss: 0.0064\n",
            "Epoch 21/30\n",
            "6/6 [==============================] - 1s 182ms/step - loss: 0.0063\n",
            "Epoch 22/30\n",
            "6/6 [==============================] - 1s 183ms/step - loss: 0.0062\n",
            "Epoch 23/30\n",
            "6/6 [==============================] - 1s 182ms/step - loss: 0.0061\n",
            "Epoch 24/30\n",
            "6/6 [==============================] - 1s 183ms/step - loss: 0.0060\n",
            "Epoch 25/30\n",
            "6/6 [==============================] - 1s 181ms/step - loss: 0.0060\n",
            "Epoch 26/30\n",
            "6/6 [==============================] - 1s 182ms/step - loss: 0.0059\n",
            "Epoch 27/30\n",
            "6/6 [==============================] - 1s 184ms/step - loss: 0.0059\n",
            "Epoch 28/30\n",
            "6/6 [==============================] - 1s 181ms/step - loss: 0.0059\n",
            "Epoch 29/30\n",
            "6/6 [==============================] - 1s 183ms/step - loss: 0.0059\n",
            "Epoch 30/30\n",
            "6/6 [==============================] - 1s 181ms/step - loss: 0.0059\n"
          ],
          "name": "stdout"
        }
      ]
    },
    {
      "cell_type": "code",
      "metadata": {
        "id": "pNBCURHV5aQ6"
      },
      "source": [
        "decoded_img = Unet.predict( X_test )"
      ],
      "execution_count": 16,
      "outputs": []
    },
    {
      "cell_type": "code",
      "metadata": {
        "id": "tmJ5u-WxWlaM",
        "colab": {
          "base_uri": "https://localhost:8080/"
        },
        "outputId": "e7292c19-1103-40f3-9bef-f529f1643cec"
      },
      "source": [
        "print(np.shape(decoded_img))"
      ],
      "execution_count": 17,
      "outputs": [
        {
          "output_type": "stream",
          "text": [
            "(10, 512, 512, 1)\n"
          ],
          "name": "stdout"
        }
      ]
    },
    {
      "cell_type": "code",
      "metadata": {
        "id": "psGePCCd5SCc",
        "colab": {
          "base_uri": "https://localhost:8080/",
          "height": 248
        },
        "outputId": "807434ef-aee2-40d0-8cc1-bcfda1eaea33"
      },
      "source": [
        "import matplotlib.pyplot as plt\n",
        "\n",
        "os.chdir( saveDir )\n",
        "n = 10\n",
        "plt.figure( figsize = ( 20, 4 ) )\n",
        "for i in range( n ):\n",
        "\tax = plt.subplot( 2, n, i + 1 )\n",
        "\tplt.imshow( X_test[i].reshape( SIZE, SIZE) )\n",
        "\tplt.gray()\n",
        "\n",
        "\tax.get_xaxis().set_visible( False )\n",
        "\tax.get_yaxis().set_visible( False )\n",
        "\n",
        "\tax = plt.subplot( 2, n, n + i + 1 )\n",
        "\tplt.imshow( decoded_img[i].reshape( SIZE, SIZE))\n",
        "\tplt.gray()\n",
        "\n",
        "\tax.get_xaxis().set_visible( False )\n",
        "\tax.get_yaxis().set_visible( False )\n",
        "\n",
        "plt.show()"
      ],
      "execution_count": 18,
      "outputs": [
        {
          "output_type": "display_data",
          "data": {
            "image/png": "[encoded data removed]",
            "text/plain": [
              "<Figure size 1440x288 with 20 Axes>"
            ]
          },
          "metadata": {
            "tags": [],
            "needs_background": "light"
          }
        }
      ]
    },
    {
      "cell_type": "code",
      "metadata": {
        "id": "8Z2hEeTBOvPO"
      },
      "source": [
        "import numpy as np\n",
        "blank = np.zeros([512,512],dtype=np.uint8)\n",
        "blank.fill(255)\n",
        "blank = cv2.resize(blank,(512,512),1)"
      ],
      "execution_count": 19,
      "outputs": []
    },
    {
      "cell_type": "code",
      "metadata": {
        "id": "tXynDydOO13R",
        "colab": {
          "base_uri": "https://localhost:8080/",
          "height": 1000
        },
        "outputId": "ebebd6bc-4ba6-473d-a10d-39925872f1e1"
      },
      "source": [
        "from google.colab.patches import cv2_imshow\n",
        "\n",
        "n = 10\n",
        "for i in range( n ):\n",
        "  resized = X_test[i].reshape(SIZE, SIZE)\n",
        "  #print(resized*255)\n",
        "  for x in range(0,512):\n",
        "    for y in range(0,512):\n",
        "      blank[x][y] = resized[x][y] * 255\n",
        "\n",
        "  cv2_imshow(blank)\n",
        "  #print(\" \")"
      ],
      "execution_count": 28,
      "outputs": [
        {
          "output_type": "display_data",
          "data": {
            "image/png": "[encoded data removed]",
            "text/plain": [
              "<PIL.Image.Image image mode=L size=512x512 at 0x7FC0D0FD14A8>"
            ]
          },
          "metadata": {
            "tags": []
          }
        },
        {
          "output_type": "display_data",
          "data": {
            "image/png": "[encoded data removed]",
            "text/plain": [
              "<PIL.Image.Image image mode=L size=512x512 at 0x7FC0D0FD1FD0>"
            ]
          },
          "metadata": {
            "tags": []
          }
        },
        {
          "output_type": "display_data",
          "data": {
            "image/png": "[encoded data removed]",
            "text/plain": [
              "<PIL.Image.Image image mode=L size=512x512 at 0x7FC0D0FD14A8>"
            ]
          },
          "metadata": {
            "tags": []
          }
        },
        {
          "output_type": "display_data",
          "data": {
            "image/png": "[encoded data removed]",
            "text/plain": [
              "<PIL.Image.Image image mode=L size=512x512 at 0x7FC0D0FD1FD0>"
            ]
          },
          "metadata": {
            "tags": []
          }
        },
        {
          "output_type": "display_data",
          "data": {
            "image/png": "[encoded data removed]",
            "text/plain": [
              "<PIL.Image.Image image mode=L size=512x512 at 0x7FC0D0FD14A8>"
            ]
          },
          "metadata": {
            "tags": []
          }
        },
        {
          "output_type": "display_data",
          "data": {
            "image/png": "[encoded data removed]",
            "text/plain": [
              "<PIL.Image.Image image mode=L size=512x512 at 0x7FC0D0FD1FD0>"
            ]
          },
          "metadata": {
            "tags": []
          }
        },
        {
          "output_type": "display_data",
          "data": {
            "image/png": "[encoded data removed]",
            "text/plain": [
              "<PIL.Image.Image image mode=L size=512x512 at 0x7FC0D0FD14A8>"
            ]
          },
          "metadata": {
            "tags": []
          }
        },
        {
          "output_type": "display_data",
          "data": {
            "image/png": "[encoded data removed]",
            "text/plain": [
              "<PIL.Image.Image image mode=L size=512x512 at 0x7FC0D0FD1FD0>"
            ]
          },
          "metadata": {
            "tags": []
          }
        },
        {
          "output_type": "display_data",
          "data": {
            "image/png": "[encoded data removed]",
            "text/plain": [
              "<PIL.Image.Image image mode=L size=512x512 at 0x7FC0D0FD14A8>"
            ]
          },
          "metadata": {
            "tags": []
          }
        },
        {
          "output_type": "display_data",
          "data": {
            "image/png": "[encoded data removed]",
            "text/plain": [
              "<PIL.Image.Image image mode=L size=512x512 at 0x7FC0D0FD1FD0>"
            ]
          },
          "metadata": {
            "tags": []
          }
        }
      ]
    },
    {
      "cell_type": "code",
      "metadata": {
        "id": "Poi7C0VSQ8B3",
        "colab": {
          "base_uri": "https://localhost:8080/",
          "height": 86
        },
        "outputId": "5f651c1c-40dd-44b2-d4d2-352d6508be10"
      },
      "source": [
        "\"\"\"\n",
        "from google.colab.patches import cv2_imshow\n",
        "\n",
        "\n",
        "blank = np.zeros([512,512],dtype=np.uint8)\n",
        "blank.fill(0)\n",
        "blank = cv2.resize(blank,(512,512),1)\n",
        "\n",
        "n = 10\n",
        "for i in range( n ):\n",
        "  resized = decoded_img[i].reshape(SIZE, SIZE)\n",
        "  X_test_image = X_test[i].reshape(SIZE,SIZE)\n",
        "  print(resized)\n",
        "  for x in range(0,512):\n",
        "    for y in range(0,512):\n",
        "      if resized[x][y] > 0.009 :\n",
        "      \n",
        "        blank[x][y] = X_test_image[x][y] * 255\n",
        "        \n",
        "\n",
        "  cv2_imshow(blank)\n",
        "  blank.fill(0)\n",
        "\"\"\""
      ],
      "execution_count": 26,
      "outputs": [
        {
          "output_type": "execute_result",
          "data": {
            "application/vnd.google.colaboratory.intrinsic+json": {
              "type": "string"
            },
            "text/plain": [
              "'\\nfrom google.colab.patches import cv2_imshow\\n\\n\\nblank = np.zeros([512,512],dtype=np.uint8)\\nblank.fill(0)\\nblank = cv2.resize(blank,(512,512),1)\\n\\nn = 10\\nfor i in range( n ):\\n  resized = decoded_img[i].reshape(SIZE, SIZE)\\n  X_test_image = X_test[i].reshape(SIZE,SIZE)\\n  print(resized)\\n  for x in range(0,512):\\n    for y in range(0,512):\\n      if resized[x][y] > 0.009 :\\n      \\n        blank[x][y] = X_test_image[x][y] * 255\\n        \\n\\n  cv2_imshow(blank)\\n  blank.fill(0)\\n'"
            ]
          },
          "metadata": {
            "tags": []
          },
          "execution_count": 26
        }
      ]
    },
    {
      "cell_type": "code",
      "metadata": {
        "id": "YU_yKt9EXCV1",
        "colab": {
          "base_uri": "https://localhost:8080/",
          "height": 529
        },
        "outputId": "cf559abe-1e18-4109-d075-bc1aed76650f"
      },
      "source": [
        "\n",
        "blank = np.zeros([512,512],dtype=np.uint8)\n",
        "blank.fill(0)\n",
        "blank = cv2.resize(blank,(512,512),1)\n",
        "\n",
        "hit = []\n",
        "resized = decoded_img[0].reshape(SIZE, SIZE)\n",
        "X_test_image = X_test[0].reshape(SIZE,SIZE)\n",
        "#print(resized)\n",
        "for x in range(0,512):\n",
        "  for y in range(0,512):\n",
        "    if resized[x][y] > 0.009:\n",
        "      hit.append(resized[x][y])\n",
        "      \n",
        "      \n",
        "      blank[x][y] = X_test_image[x][y] * 255\n",
        "\n",
        "cv2_imshow(blank)     "
      ],
      "execution_count": 30,
      "outputs": [
        {
          "output_type": "display_data",
          "data": {
            "image/png": "[encoded data removed]",
            "text/plain": [
              "<PIL.Image.Image image mode=L size=512x512 at 0x7FC0D0F7D048>"
            ]
          },
          "metadata": {
            "tags": []
          }
        }
      ]
    },
    {
      "cell_type": "code",
      "metadata": {
        "id": "M9GOEPZqaSQ-",
        "colab": {
          "base_uri": "https://localhost:8080/"
        },
        "outputId": "4bb41f4c-1039-4508-da81-570c85abefbd"
      },
      "source": [
        "os.chdir( testDir )\n",
        "testFiles = glob.glob( '*csv' )\n",
        "\n",
        "for f in testFiles[0:3]:\n",
        "  print(testFiles[0])\n",
        "  csv_file = pd.read_csv(f, names=[\"lat\",\"long\",\"num\",\"Noise\"], header=None, skiprows=1)\n",
        "  #print(csv_file)"
      ],
      "execution_count": 29,
      "outputs": [
        {
          "output_type": "stream",
          "text": [
            "20160411100630_100_OA3620_noise.csv\n",
            "20160411100630_100_OA3620_noise.csv\n",
            "20160411100630_100_OA3620_noise.csv\n"
          ],
          "name": "stdout"
        }
      ]
    },
    {
      "cell_type": "code",
      "metadata": {
        "id": "SFnKAGAYtVK7",
        "colab": {
          "base_uri": "https://localhost:8080/",
          "height": 1000
        },
        "outputId": "ee2d5af7-76d6-4c6e-9af0-c8a8a1f85b07"
      },
      "source": [
        "for i in range(0,3):\n",
        "  csv_file = pd.read_csv(testFiles[i], names=[\"lat\",\"long\",\"num\",\"Noise\"], header=None, skiprows=1)\n",
        "  FN,TN,TP,FP = PrecisionAndRecall(decoded_img[i].reshape(SIZE,SIZE),X_test[i].reshape(SIZE,SIZE),csv_file,0.0103)"
      ],
      "execution_count": 25,
      "outputs": [
        {
          "output_type": "display_data",
          "data": {
            "image/png": "[encoded data removed]",
            "text/plain": [
              "<PIL.Image.Image image mode=L size=512x512 at 0x7FC178C6FA90>"
            ]
          },
          "metadata": {
            "tags": []
          }
        },
        {
          "output_type": "display_data",
          "data": {
            "image/png": "[encoded data removed]",
            "text/plain": [
              "<PIL.Image.Image image mode=L size=512x512 at 0x7FC1301A5E48>"
            ]
          },
          "metadata": {
            "tags": []
          }
        },
        {
          "output_type": "stream",
          "text": [
            "FN :  175 TN :  6 TP :  32 FP :  65\n"
          ],
          "name": "stdout"
        },
        {
          "output_type": "display_data",
          "data": {
            "image/png": "[encoded data removed]",
            "text/plain": [
              "<PIL.Image.Image image mode=L size=512x512 at 0x7FC178C6F668>"
            ]
          },
          "metadata": {
            "tags": []
          }
        },
        {
          "output_type": "display_data",
          "data": {
            "image/png": "[encoded data removed]",
            "text/plain": [
              "<PIL.Image.Image image mode=L size=512x512 at 0x7FC1301A5E48>"
            ]
          },
          "metadata": {
            "tags": []
          }
        },
        {
          "output_type": "stream",
          "text": [
            "FN :  219 TN :  7 TP :  34 FP :  34\n"
          ],
          "name": "stdout"
        },
        {
          "output_type": "display_data",
          "data": {
            "image/png": "[encoded data removed]",
            "text/plain": [
              "<PIL.Image.Image image mode=L size=512x512 at 0x7FC178C6FA90>"
            ]
          },
          "metadata": {
            "tags": []
          }
        },
        {
          "output_type": "display_data",
          "data": {
            "image/png": "[encoded data removed]",
            "text/plain": [
              "<PIL.Image.Image image mode=L size=512x512 at 0x7FC1301A5E48>"
            ]
          },
          "metadata": {
            "tags": []
          }
        },
        {
          "output_type": "stream",
          "text": [
            "FN :  358 TN :  21 TP :  38 FP :  2\n"
          ],
          "name": "stdout"
        }
      ]
    },
    {
      "cell_type": "code",
      "metadata": {
        "id": "c8835dBFvdkO"
      },
      "source": [
        ""
      ],
      "execution_count": 25,
      "outputs": []
    }
  ]
}