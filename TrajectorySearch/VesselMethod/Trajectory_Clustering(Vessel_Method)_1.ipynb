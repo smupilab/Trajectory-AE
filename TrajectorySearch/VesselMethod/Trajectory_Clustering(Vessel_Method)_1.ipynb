{
 "cells": [
  {
   "cell_type": "markdown",
   "metadata": {
    "colab_type": "text",
    "id": "view-in-github"
   },
   "source": [
    "<a href=\"https://colab.research.google.com/github/Taejin1221/Lab_Experiment/blob/main/Trajectory_Clustering/Trajectory_Clustering_16.ipynb\" target=\"_parent\"><img src=\"https://colab.research.google.com/assets/colab-badge.svg\" alt=\"Open In Colab\"/></a>"
   ]
  },
  {
   "cell_type": "markdown",
   "metadata": {
    "id": "cKU6FnEmY7fH"
   },
   "source": [
    "# Import modules"
   ]
  },
  {
   "cell_type": "code",
   "execution_count": 1,
   "metadata": {
    "id": "CtN6Kze-_XI0"
   },
   "outputs": [],
   "source": [
    "import os, cv2, glob, time\n",
    "import numpy as np\n",
    "import pandas as pd\n",
    "\n",
    "'''\n",
    "If you want to know this file,\n",
    "refer to https://github.com/smupilab/Trajectory-AE/blob/master/utils/convertImage.py\n",
    "'''\n",
    "import convertImage as utils\n",
    "import matplotlib.pyplot as plt"
   ]
  },
  {
   "cell_type": "markdown",
   "metadata": {
    "id": "o50o01S-ltzx"
   },
   "source": [
    "# Set Constants"
   ]
  },
  {
   "cell_type": "code",
   "execution_count": 2,
   "metadata": {
    "colab": {
     "base_uri": "https://localhost:8080/",
     "height": 51
    },
    "id": "Rmyk0hcfBIl8",
    "outputId": "22d2633f-4d58-4a68-c04c-562fd9247a79"
   },
   "outputs": [
    {
     "data": {
      "text/plain": [
       "<Figure size 432x288 with 0 Axes>"
      ]
     },
     "metadata": {},
     "output_type": "display_data"
    }
   ],
   "source": [
    "# Constants\n",
    "WIDTH, HEIGHT = 128, 128\n",
    "\n",
    "EXPERIMENT_DATA = {\n",
    "    'name' : 'Trajectory_Clusetring(Vessel_Method)',\n",
    "    'date' : '02-16-2022',\n",
    "    'description' : 'Vessel method의 모델 훈련'\n",
    "    }\n",
    "\n",
    "ROOT_DIR = os.getcwd()\n",
    "os.chdir(ROOT_DIR)\n",
    "\n",
    "GEOLIFE_DIR = os.path.join('C:\\\\', 'Dataset', 'Geolife')\n",
    "DATA_DIR = os.path.join(GEOLIFE_DIR, 'Data')\n",
    "IMAGE_DIR = os.path.join(GEOLIFE_DIR, 'Image_Files')\n",
    "\n",
    "if ( 'Results' not in os.listdir() ):\n",
    "    os.mkdir( 'Results' )\n",
    "RESULT_DIR = os.path.join( ROOT_DIR, 'Results')\n",
    "\n",
    "plt.gray()"
   ]
  },
  {
   "cell_type": "markdown",
   "metadata": {
    "id": "tN2e3qmxZHb9"
   },
   "source": [
    "# Load and Preprocessing Data"
   ]
  },
  {
   "cell_type": "code",
   "execution_count": 3,
   "metadata": {},
   "outputs": [],
   "source": [
    "os.chdir(IMAGE_DIR)\n",
    "file_names = sorted(glob.glob('*png'))"
   ]
  },
  {
   "cell_type": "code",
   "execution_count": 4,
   "metadata": {},
   "outputs": [],
   "source": [
    "train_images = []\n",
    "for file in file_names:\n",
    "    src = cv2.imread(file, cv2.IMREAD_GRAYSCALE)\n",
    "    dst = cv2.resize(src, dsize=(0, 0), fx=0.5, fy=0.5, interpolation=cv2.INTER_LINEAR)\n",
    "    train_images.append(dst)"
   ]
  },
  {
   "cell_type": "code",
   "execution_count": 5,
   "metadata": {
    "colab": {
     "base_uri": "https://localhost:8080/",
     "height": 273
    },
    "id": "3nZQrimBuknh",
    "outputId": "edde7d0b-a81c-4212-9606-c60b4c289246"
   },
   "outputs": [
    {
     "data": {
      "image/png": "[encoded data removed]",
      "text/plain": [
       "<Figure size 432x288 with 1 Axes>"
      ]
     },
     "metadata": {
      "needs_background": "light"
     },
     "output_type": "display_data"
    },
    {
     "name": "stdout",
     "output_type": "stream",
     "text": [
      "(128, 128)\n"
     ]
    }
   ],
   "source": [
    "plt.imshow(train_images[0])\n",
    "plt.show()\n",
    "print(train_images[0].shape)"
   ]
  },
  {
   "cell_type": "code",
   "execution_count": 6,
   "metadata": {
    "id": "W4jqhOghcnAW"
   },
   "outputs": [],
   "source": [
    "X_train = np.array( train_images ).astype( 'float32' ) / 255.\n",
    "X_train = np.reshape( X_train, ( -1, HEIGHT, WIDTH, 1 ) )"
   ]
  },
  {
   "cell_type": "code",
   "execution_count": 7,
   "metadata": {
    "colab": {
     "base_uri": "https://localhost:8080/"
    },
    "id": "ZmcQe3t0X3Qh",
    "outputId": "229e7bb4-cf3a-4439-b6de-eb5430030273"
   },
   "outputs": [
    {
     "name": "stdout",
     "output_type": "stream",
     "text": [
      "(18670, 128, 128, 1)\n"
     ]
    }
   ],
   "source": [
    "print( X_train.shape )"
   ]
  },
  {
   "cell_type": "markdown",
   "metadata": {
    "id": "cCQYEkCQBTAU"
   },
   "source": [
    "# Construct AE Model"
   ]
  },
  {
   "cell_type": "code",
   "execution_count": 8,
   "metadata": {
    "id": "_MukGTR36NZ1"
   },
   "outputs": [],
   "source": [
    "import tensorflow as tf\n",
    "from tensorflow import keras\n",
    "from tensorflow.keras import layers"
   ]
  },
  {
   "cell_type": "code",
   "execution_count": 9,
   "metadata": {
    "id": "zP7waEK-Bdp-"
   },
   "outputs": [],
   "source": [
    "af, pd = 'relu', 'same' # activation function and padding value\n",
    "\n",
    "encode_input = layers.Input( ( HEIGHT, WIDTH, 1 ) )\n",
    "x = layers.Conv2D( 32, ( 3, 3 ), activation = af, padding = pd )( encode_input )\n",
    "x = layers.MaxPooling2D( ( 2, 2 ), padding = pd )( x )\n",
    "\n",
    "x = layers.Conv2D( 32, ( 3, 3 ), activation = af, padding = pd )( x )\n",
    "x = layers.MaxPooling2D( ( 2, 2 ), padding = pd )( x )\n",
    "\n",
    "x = layers.Conv2D( 16, ( 3, 3 ), activation = af, padding = pd )( x )\n",
    "x = layers.MaxPooling2D( ( 2, 2 ), padding = pd )( x )\n",
    "\n",
    "x = layers.Conv2D( 16, ( 3, 3 ), activation = af, padding = pd )( x )\n",
    "x = layers.MaxPooling2D( ( 2, 2 ), padding = pd )( x )\n",
    "\n",
    "feature_map_shape = x.shape\n",
    "flatten_size = feature_map_shape[1] * feature_map_shape[2] * feature_map_shape[3]\n",
    "\n",
    "x = layers.Flatten()( x )\n",
    "encode_output = layers.Dense( flatten_size , activation = af )( x )"
   ]
  },
  {
   "cell_type": "code",
   "execution_count": 10,
   "metadata": {
    "colab": {
     "base_uri": "https://localhost:8080/"
    },
    "id": "1ANsf7CcYO2o",
    "outputId": "b1282d0c-b6fc-4ddb-ec31-c13cf08b253e"
   },
   "outputs": [
    {
     "name": "stdout",
     "output_type": "stream",
     "text": [
      "Model: \"Encoder\"\n",
      "_________________________________________________________________\n",
      "Layer (type)                 Output Shape              Param #   \n",
      "=================================================================\n",
      "input_1 (InputLayer)         [(None, 128, 128, 1)]     0         \n",
      "_________________________________________________________________\n",
      "conv2d (Conv2D)              (None, 128, 128, 32)      320       \n",
      "_________________________________________________________________\n",
      "max_pooling2d (MaxPooling2D) (None, 64, 64, 32)        0         \n",
      "_________________________________________________________________\n",
      "conv2d_1 (Conv2D)            (None, 64, 64, 32)        9248      \n",
      "_________________________________________________________________\n",
      "max_pooling2d_1 (MaxPooling2 (None, 32, 32, 32)        0         \n",
      "_________________________________________________________________\n",
      "conv2d_2 (Conv2D)            (None, 32, 32, 16)        4624      \n",
      "_________________________________________________________________\n",
      "max_pooling2d_2 (MaxPooling2 (None, 16, 16, 16)        0         \n",
      "_________________________________________________________________\n",
      "conv2d_3 (Conv2D)            (None, 16, 16, 16)        2320      \n",
      "_________________________________________________________________\n",
      "max_pooling2d_3 (MaxPooling2 (None, 8, 8, 16)          0         \n",
      "_________________________________________________________________\n",
      "flatten (Flatten)            (None, 1024)              0         \n",
      "_________________________________________________________________\n",
      "dense (Dense)                (None, 1024)              1049600   \n",
      "=================================================================\n",
      "Total params: 1,066,112\n",
      "Trainable params: 1,066,112\n",
      "Non-trainable params: 0\n",
      "_________________________________________________________________\n"
     ]
    }
   ],
   "source": [
    "encoder = keras.Model( encode_input, encode_output, name = 'Encoder' )\n",
    "encoder.summary()"
   ]
  },
  {
   "cell_type": "code",
   "execution_count": 11,
   "metadata": {
    "id": "G8QIjjHdGJr7"
   },
   "outputs": [],
   "source": [
    "decode_input = layers.Input( ( flatten_size ) )\n",
    "\n",
    "x = layers.Dense( flatten_size, activation = af )( decode_input )\n",
    "x = layers.Reshape( feature_map_shape[1:] )( x )\n",
    "\n",
    "x = layers.Conv2DTranspose( 16, ( 3, 3 ), activation = af, padding = pd )( x )\n",
    "x = layers.UpSampling2D( ( 2, 2 ) )( x )\n",
    "\n",
    "x = layers.Conv2DTranspose( 16, ( 3, 3 ), activation = af, padding = pd )( x )\n",
    "x = layers.UpSampling2D( ( 2, 2 ) )( x )\n",
    "\n",
    "x = layers.Conv2DTranspose( 32, ( 3, 3 ), activation = af, padding = pd )( x )\n",
    "x = layers.UpSampling2D( ( 2, 2 ) )( x )\n",
    "\n",
    "x = layers.Conv2DTranspose( 32, ( 3, 3 ), activation = af, padding = pd )( x )\n",
    "x = layers.UpSampling2D( ( 2, 2 ) )( x )\n",
    "\n",
    "decode_output = layers.Conv2DTranspose( 1, ( 3, 3 ), activation = af, padding = pd )( x )"
   ]
  },
  {
   "cell_type": "code",
   "execution_count": 12,
   "metadata": {
    "colab": {
     "base_uri": "https://localhost:8080/"
    },
    "id": "FUqkCF1lYRKq",
    "outputId": "b2aef122-eab0-4174-9da5-b50f28076430"
   },
   "outputs": [
    {
     "name": "stdout",
     "output_type": "stream",
     "text": [
      "Model: \"Decoder\"\n",
      "_________________________________________________________________\n",
      "Layer (type)                 Output Shape              Param #   \n",
      "=================================================================\n",
      "input_2 (InputLayer)         [(None, 1024)]            0         \n",
      "_________________________________________________________________\n",
      "dense_1 (Dense)              (None, 1024)              1049600   \n",
      "_________________________________________________________________\n",
      "reshape (Reshape)            (None, 8, 8, 16)          0         \n",
      "_________________________________________________________________\n",
      "conv2d_transpose (Conv2DTran (None, 8, 8, 16)          2320      \n",
      "_________________________________________________________________\n",
      "up_sampling2d (UpSampling2D) (None, 16, 16, 16)        0         \n",
      "_________________________________________________________________\n",
      "conv2d_transpose_1 (Conv2DTr (None, 16, 16, 16)        2320      \n",
      "_________________________________________________________________\n",
      "up_sampling2d_1 (UpSampling2 (None, 32, 32, 16)        0         \n",
      "_________________________________________________________________\n",
      "conv2d_transpose_2 (Conv2DTr (None, 32, 32, 32)        4640      \n",
      "_________________________________________________________________\n",
      "up_sampling2d_2 (UpSampling2 (None, 64, 64, 32)        0         \n",
      "_________________________________________________________________\n",
      "conv2d_transpose_3 (Conv2DTr (None, 64, 64, 32)        9248      \n",
      "_________________________________________________________________\n",
      "up_sampling2d_3 (UpSampling2 (None, 128, 128, 32)      0         \n",
      "_________________________________________________________________\n",
      "conv2d_transpose_4 (Conv2DTr (None, 128, 128, 1)       289       \n",
      "=================================================================\n",
      "Total params: 1,068,417\n",
      "Trainable params: 1,068,417\n",
      "Non-trainable params: 0\n",
      "_________________________________________________________________\n"
     ]
    }
   ],
   "source": [
    "decoder = keras.Model( decode_input, decode_output, name = 'Decoder' )\n",
    "decoder.summary()"
   ]
  },
  {
   "cell_type": "code",
   "execution_count": 13,
   "metadata": {
    "colab": {
     "base_uri": "https://localhost:8080/"
    },
    "id": "2kqJNpvAIB8S",
    "outputId": "198e0a7c-3a6b-4178-a008-cfee051cd091"
   },
   "outputs": [
    {
     "name": "stdout",
     "output_type": "stream",
     "text": [
      "Model: \"Auto_Encoder\"\n",
      "_________________________________________________________________\n",
      "Layer (type)                 Output Shape              Param #   \n",
      "=================================================================\n",
      "input_1 (InputLayer)         [(None, 128, 128, 1)]     0         \n",
      "_________________________________________________________________\n",
      "Encoder (Functional)         (None, 1024)              1066112   \n",
      "_________________________________________________________________\n",
      "Decoder (Functional)         (None, 128, 128, 1)       1068417   \n",
      "=================================================================\n",
      "Total params: 2,134,529\n",
      "Trainable params: 2,134,529\n",
      "Non-trainable params: 0\n",
      "_________________________________________________________________\n"
     ]
    }
   ],
   "source": [
    "auto_encoder = keras.Model( encode_input, decoder( encoder( encode_input ) ), name = 'Auto_Encoder' )\n",
    "auto_encoder.summary()"
   ]
  },
  {
   "cell_type": "markdown",
   "metadata": {
    "id": "evGKTc6PZDAV"
   },
   "source": [
    "# Traing Model"
   ]
  },
  {
   "cell_type": "code",
   "execution_count": 14,
   "metadata": {
    "id": "u8fJD0ikLYYK"
   },
   "outputs": [],
   "source": [
    "auto_encoder.compile( 'adam', loss = 'mse' )"
   ]
  },
  {
   "cell_type": "code",
   "execution_count": 15,
   "metadata": {
    "id": "gsy7Y_vIWGE3"
   },
   "outputs": [],
   "source": [
    "EPOCH = 300\n",
    "BATCH = 256"
   ]
  },
  {
   "cell_type": "code",
   "execution_count": 16,
   "metadata": {
    "id": "1JtFUWBXQApB"
   },
   "outputs": [
    {
     "name": "stdout",
     "output_type": "stream",
     "text": [
      "Epoch 1/300\n",
      "73/73 [==============================] - 20s 166ms/step - loss: 0.0027\n",
      "Epoch 2/300\n",
      "73/73 [==============================] - 11s 148ms/step - loss: 0.0025\n",
      "Epoch 3/300\n",
      "73/73 [==============================] - 11s 148ms/step - loss: 0.0024\n",
      "Epoch 4/300\n",
      "73/73 [==============================] - 11s 148ms/step - loss: 0.0023\n",
      "Epoch 5/300\n",
      "73/73 [==============================] - 11s 148ms/step - loss: 0.0022\n",
      "Epoch 6/300\n",
      "73/73 [==============================] - 11s 149ms/step - loss: 0.0021\n",
      "Epoch 7/300\n",
      "73/73 [==============================] - 11s 149ms/step - loss: 0.0021\n",
      "Epoch 8/300\n",
      "73/73 [==============================] - 11s 149ms/step - loss: 0.0020\n",
      "Epoch 9/300\n",
      "73/73 [==============================] - 11s 150ms/step - loss: 0.0020\n",
      "Epoch 10/300\n",
      "73/73 [==============================] - 11s 150ms/step - loss: 0.0020\n",
      "Epoch 11/300\n",
      "73/73 [==============================] - 11s 150ms/step - loss: 0.0019\n",
      "Epoch 12/300\n",
      "73/73 [==============================] - 11s 150ms/step - loss: 0.0019\n",
      "Epoch 13/300\n",
      "73/73 [==============================] - 11s 150ms/step - loss: 0.0019\n",
      "Epoch 14/300\n",
      "73/73 [==============================] - 11s 150ms/step - loss: 0.0019\n",
      "Epoch 15/300\n",
      "73/73 [==============================] - 11s 150ms/step - loss: 0.0019\n",
      "Epoch 16/300\n",
      "73/73 [==============================] - 11s 151ms/step - loss: 0.0019\n",
      "Epoch 17/300\n",
      "73/73 [==============================] - 11s 151ms/step - loss: 0.0018\n",
      "Epoch 18/300\n",
      "73/73 [==============================] - 11s 150ms/step - loss: 0.0018\n",
      "Epoch 19/300\n",
      "73/73 [==============================] - 11s 151ms/step - loss: 0.0018\n",
      "Epoch 20/300\n",
      "73/73 [==============================] - 11s 151ms/step - loss: 0.0018\n",
      "Epoch 21/300\n",
      "73/73 [==============================] - 11s 151ms/step - loss: 0.0018\n",
      "Epoch 22/300\n",
      "73/73 [==============================] - 11s 151ms/step - loss: 0.0018\n",
      "Epoch 23/300\n",
      "73/73 [==============================] - 11s 151ms/step - loss: 0.0018\n",
      "Epoch 24/300\n",
      "73/73 [==============================] - 11s 153ms/step - loss: 0.0017\n",
      "Epoch 25/300\n",
      "73/73 [==============================] - 11s 153ms/step - loss: 0.0017\n",
      "Epoch 26/300\n",
      "73/73 [==============================] - 11s 154ms/step - loss: 0.0017\n",
      "Epoch 27/300\n",
      "73/73 [==============================] - 11s 154ms/step - loss: 0.0017\n",
      "Epoch 28/300\n",
      "73/73 [==============================] - 11s 154ms/step - loss: 0.0017\n",
      "Epoch 29/300\n",
      "73/73 [==============================] - 11s 154ms/step - loss: 0.0017\n",
      "Epoch 30/300\n",
      "73/73 [==============================] - 11s 154ms/step - loss: 0.0017\n",
      "Epoch 31/300\n",
      "73/73 [==============================] - 11s 155ms/step - loss: 0.0017\n",
      "Epoch 32/300\n",
      "73/73 [==============================] - 11s 154ms/step - loss: 0.0017\n",
      "Epoch 33/300\n",
      "73/73 [==============================] - 11s 153ms/step - loss: 0.0017\n",
      "Epoch 34/300\n",
      "73/73 [==============================] - 11s 154ms/step - loss: 0.0017\n",
      "Epoch 35/300\n",
      "73/73 [==============================] - 11s 153ms/step - loss: 0.0017\n",
      "Epoch 36/300\n",
      "73/73 [==============================] - 11s 153ms/step - loss: 0.0016\n",
      "Epoch 37/300\n",
      "73/73 [==============================] - 11s 154ms/step - loss: 0.0016\n",
      "Epoch 38/300\n",
      "73/73 [==============================] - 11s 153ms/step - loss: 0.0016\n",
      "Epoch 39/300\n",
      "73/73 [==============================] - 11s 152ms/step - loss: 0.0016\n",
      "Epoch 40/300\n",
      "73/73 [==============================] - 11s 152ms/step - loss: 0.0016\n",
      "Epoch 41/300\n",
      "73/73 [==============================] - 11s 152ms/step - loss: 0.0016\n",
      "Epoch 42/300\n",
      "73/73 [==============================] - 11s 153ms/step - loss: 0.0016\n",
      "Epoch 43/300\n",
      "73/73 [==============================] - 11s 152ms/step - loss: 0.0016\n",
      "Epoch 44/300\n",
      "73/73 [==============================] - 11s 152ms/step - loss: 0.0016\n",
      "Epoch 45/300\n",
      "73/73 [==============================] - 11s 152ms/step - loss: 0.0016\n",
      "Epoch 46/300\n",
      "73/73 [==============================] - 11s 152ms/step - loss: 0.0016\n",
      "Epoch 47/300\n",
      "73/73 [==============================] - 11s 152ms/step - loss: 0.0016\n",
      "Epoch 48/300\n",
      "73/73 [==============================] - 11s 152ms/step - loss: 0.0016\n",
      "Epoch 49/300\n",
      "73/73 [==============================] - 11s 152ms/step - loss: 0.0016\n",
      "Epoch 50/300\n",
      "73/73 [==============================] - 11s 151ms/step - loss: 0.0016\n",
      "Epoch 51/300\n",
      "73/73 [==============================] - 11s 152ms/step - loss: 0.0016\n",
      "Epoch 52/300\n",
      "73/73 [==============================] - 11s 152ms/step - loss: 0.0015\n",
      "Epoch 53/300\n",
      "73/73 [==============================] - 11s 152ms/step - loss: 0.0015\n",
      "Epoch 54/300\n",
      "73/73 [==============================] - 11s 152ms/step - loss: 0.0015\n",
      "Epoch 55/300\n",
      "73/73 [==============================] - 11s 153ms/step - loss: 0.0015\n",
      "Epoch 56/300\n",
      "73/73 [==============================] - 11s 149ms/step - loss: 0.0015\n",
      "Epoch 57/300\n",
      "73/73 [==============================] - 11s 148ms/step - loss: 0.0015\n",
      "Epoch 58/300\n",
      "73/73 [==============================] - 11s 148ms/step - loss: 0.0015\n",
      "Epoch 59/300\n",
      "73/73 [==============================] - 11s 148ms/step - loss: 0.0015\n",
      "Epoch 60/300\n",
      "73/73 [==============================] - 11s 148ms/step - loss: 0.0015\n",
      "Epoch 61/300\n",
      "73/73 [==============================] - 11s 148ms/step - loss: 0.0015\n",
      "Epoch 62/300\n",
      "73/73 [==============================] - 11s 148ms/step - loss: 0.0015\n",
      "Epoch 63/300\n",
      "73/73 [==============================] - 11s 148ms/step - loss: 0.0015\n",
      "Epoch 64/300\n",
      "73/73 [==============================] - 11s 148ms/step - loss: 0.0015\n",
      "Epoch 65/300\n",
      "73/73 [==============================] - 11s 148ms/step - loss: 0.0015\n",
      "Epoch 66/300\n",
      "73/73 [==============================] - 11s 148ms/step - loss: 0.0015\n",
      "Epoch 67/300\n",
      "73/73 [==============================] - 11s 148ms/step - loss: 0.0015\n",
      "Epoch 68/300\n",
      "73/73 [==============================] - 11s 148ms/step - loss: 0.0015\n",
      "Epoch 69/300\n",
      "73/73 [==============================] - 11s 148ms/step - loss: 0.0015\n",
      "Epoch 70/300\n",
      "73/73 [==============================] - 11s 148ms/step - loss: 0.0015\n",
      "Epoch 71/300\n",
      "73/73 [==============================] - 11s 148ms/step - loss: 0.0015\n",
      "Epoch 72/300\n",
      "73/73 [==============================] - 11s 148ms/step - loss: 0.0015\n",
      "Epoch 73/300\n",
      "73/73 [==============================] - 11s 148ms/step - loss: 0.0015\n",
      "Epoch 74/300\n",
      "73/73 [==============================] - 11s 149ms/step - loss: 0.0015\n",
      "Epoch 75/300\n",
      "73/73 [==============================] - 11s 148ms/step - loss: 0.0014\n",
      "Epoch 76/300\n",
      "73/73 [==============================] - 11s 148ms/step - loss: 0.0014\n",
      "Epoch 77/300\n",
      "73/73 [==============================] - 11s 148ms/step - loss: 0.0014\n",
      "Epoch 78/300\n",
      "73/73 [==============================] - 11s 148ms/step - loss: 0.0015\n",
      "Epoch 79/300\n",
      "73/73 [==============================] - 11s 148ms/step - loss: 0.0014\n",
      "Epoch 80/300\n",
      "73/73 [==============================] - 11s 148ms/step - loss: 0.0014\n",
      "Epoch 81/300\n",
      "73/73 [==============================] - 11s 148ms/step - loss: 0.0014\n",
      "Epoch 82/300\n",
      "73/73 [==============================] - 11s 148ms/step - loss: 0.0014\n",
      "Epoch 83/300\n",
      "73/73 [==============================] - 11s 148ms/step - loss: 0.0014\n",
      "Epoch 84/300\n",
      "73/73 [==============================] - 11s 148ms/step - loss: 0.0014\n",
      "Epoch 85/300\n",
      "73/73 [==============================] - 11s 148ms/step - loss: 0.0014\n",
      "Epoch 86/300\n",
      "73/73 [==============================] - 11s 148ms/step - loss: 0.0014\n",
      "Epoch 87/300\n",
      "73/73 [==============================] - 11s 148ms/step - loss: 0.0014\n",
      "Epoch 88/300\n",
      "73/73 [==============================] - 11s 148ms/step - loss: 0.0014\n",
      "Epoch 89/300\n",
      "73/73 [==============================] - 11s 148ms/step - loss: 0.0014\n",
      "Epoch 90/300\n",
      "73/73 [==============================] - 11s 148ms/step - loss: 0.0014\n",
      "Epoch 91/300\n",
      "73/73 [==============================] - 11s 148ms/step - loss: 0.0014\n",
      "Epoch 92/300\n",
      "73/73 [==============================] - 11s 148ms/step - loss: 0.0014\n",
      "Epoch 93/300\n",
      "73/73 [==============================] - 11s 148ms/step - loss: 0.0014\n",
      "Epoch 94/300\n",
      "73/73 [==============================] - 11s 148ms/step - loss: 0.0014\n",
      "Epoch 95/300\n",
      "73/73 [==============================] - 11s 149ms/step - loss: 0.0014\n",
      "Epoch 96/300\n",
      "73/73 [==============================] - 11s 148ms/step - loss: 0.0014\n",
      "Epoch 97/300\n",
      "73/73 [==============================] - 11s 148ms/step - loss: 0.0014\n",
      "Epoch 98/300\n",
      "73/73 [==============================] - 11s 148ms/step - loss: 0.0014\n",
      "Epoch 99/300\n",
      "73/73 [==============================] - 11s 148ms/step - loss: 0.0014\n",
      "Epoch 100/300\n",
      "73/73 [==============================] - 11s 148ms/step - loss: 0.0014\n",
      "Epoch 101/300\n",
      "73/73 [==============================] - 11s 148ms/step - loss: 0.0014\n",
      "Epoch 102/300\n",
      "73/73 [==============================] - 11s 148ms/step - loss: 0.0014\n",
      "Epoch 103/300\n",
      "73/73 [==============================] - 11s 148ms/step - loss: 0.0014\n",
      "Epoch 104/300\n",
      "73/73 [==============================] - 11s 148ms/step - loss: 0.0014\n",
      "Epoch 105/300\n",
      "73/73 [==============================] - 11s 148ms/step - loss: 0.0014\n",
      "Epoch 106/300\n",
      "73/73 [==============================] - 11s 148ms/step - loss: 0.0014\n",
      "Epoch 107/300\n",
      "73/73 [==============================] - 11s 148ms/step - loss: 0.0014\n",
      "Epoch 108/300\n",
      "73/73 [==============================] - 11s 148ms/step - loss: 0.0014\n",
      "Epoch 109/300\n",
      "73/73 [==============================] - 11s 148ms/step - loss: 0.0014\n",
      "Epoch 110/300\n",
      "73/73 [==============================] - 11s 148ms/step - loss: 0.0014\n",
      "Epoch 111/300\n",
      "73/73 [==============================] - 11s 148ms/step - loss: 0.0014\n",
      "Epoch 112/300\n",
      "73/73 [==============================] - 11s 148ms/step - loss: 0.0014\n",
      "Epoch 113/300\n",
      "73/73 [==============================] - 11s 149ms/step - loss: 0.0014\n",
      "Epoch 114/300\n",
      "73/73 [==============================] - 11s 148ms/step - loss: 0.0013\n",
      "Epoch 115/300\n",
      "73/73 [==============================] - 11s 148ms/step - loss: 0.0013\n",
      "Epoch 116/300\n",
      "73/73 [==============================] - 11s 148ms/step - loss: 0.0013\n",
      "Epoch 117/300\n",
      "73/73 [==============================] - 11s 148ms/step - loss: 0.0013\n",
      "Epoch 118/300\n",
      "73/73 [==============================] - 11s 148ms/step - loss: 0.0013\n",
      "Epoch 119/300\n",
      "73/73 [==============================] - 11s 148ms/step - loss: 0.0013\n",
      "Epoch 120/300\n",
      "73/73 [==============================] - 11s 148ms/step - loss: 0.0013\n",
      "Epoch 121/300\n",
      "73/73 [==============================] - 11s 148ms/step - loss: 0.0013\n",
      "Epoch 122/300\n",
      "73/73 [==============================] - 11s 148ms/step - loss: 0.0014\n",
      "Epoch 123/300\n",
      "73/73 [==============================] - 11s 148ms/step - loss: 0.0013\n",
      "Epoch 124/300\n",
      "73/73 [==============================] - 11s 148ms/step - loss: 0.0013\n",
      "Epoch 125/300\n",
      "73/73 [==============================] - 11s 148ms/step - loss: 0.0013\n",
      "Epoch 126/300\n",
      "73/73 [==============================] - 11s 148ms/step - loss: 0.0013\n",
      "Epoch 127/300\n",
      "73/73 [==============================] - 11s 148ms/step - loss: 0.0013\n",
      "Epoch 128/300\n",
      "73/73 [==============================] - 11s 148ms/step - loss: 0.0013\n",
      "Epoch 129/300\n",
      "73/73 [==============================] - 11s 148ms/step - loss: 0.0013\n",
      "Epoch 130/300\n",
      "73/73 [==============================] - 11s 148ms/step - loss: 0.0013\n",
      "Epoch 131/300\n",
      "73/73 [==============================] - 11s 147ms/step - loss: 0.0013\n",
      "Epoch 132/300\n",
      "73/73 [==============================] - 11s 148ms/step - loss: 0.0013\n",
      "Epoch 133/300\n",
      "73/73 [==============================] - 11s 148ms/step - loss: 0.0013\n",
      "Epoch 134/300\n",
      "73/73 [==============================] - 11s 148ms/step - loss: 0.0013\n",
      "Epoch 135/300\n",
      "73/73 [==============================] - 11s 147ms/step - loss: 0.0013\n",
      "Epoch 136/300\n",
      "73/73 [==============================] - 11s 148ms/step - loss: 0.0013\n",
      "Epoch 137/300\n",
      "73/73 [==============================] - 11s 148ms/step - loss: 0.0013\n",
      "Epoch 138/300\n",
      "73/73 [==============================] - 11s 148ms/step - loss: 0.0013\n",
      "Epoch 139/300\n",
      "73/73 [==============================] - 11s 148ms/step - loss: 0.0013\n",
      "Epoch 140/300\n",
      "73/73 [==============================] - 11s 148ms/step - loss: 0.0013\n",
      "Epoch 141/300\n",
      "73/73 [==============================] - 11s 148ms/step - loss: 0.0013\n",
      "Epoch 142/300\n",
      "73/73 [==============================] - 11s 148ms/step - loss: 0.0013\n",
      "Epoch 143/300\n",
      "73/73 [==============================] - 11s 147ms/step - loss: 0.0013\n",
      "Epoch 144/300\n",
      "73/73 [==============================] - 11s 147ms/step - loss: 0.0013\n",
      "Epoch 145/300\n",
      "73/73 [==============================] - 11s 148ms/step - loss: 0.0013\n",
      "Epoch 146/300\n",
      "73/73 [==============================] - 11s 148ms/step - loss: 0.0013\n",
      "Epoch 147/300\n",
      "73/73 [==============================] - 11s 148ms/step - loss: 0.0013\n",
      "Epoch 148/300\n",
      "73/73 [==============================] - 11s 148ms/step - loss: 0.0013\n",
      "Epoch 149/300\n",
      "73/73 [==============================] - 11s 148ms/step - loss: 0.0013\n",
      "Epoch 150/300\n",
      "73/73 [==============================] - 11s 148ms/step - loss: 0.0013\n",
      "Epoch 151/300\n",
      "73/73 [==============================] - 11s 148ms/step - loss: 0.0013\n",
      "Epoch 152/300\n",
      "73/73 [==============================] - 11s 148ms/step - loss: 0.0013\n",
      "Epoch 153/300\n",
      "73/73 [==============================] - 11s 148ms/step - loss: 0.0013\n",
      "Epoch 154/300\n",
      "73/73 [==============================] - 11s 148ms/step - loss: 0.0013\n",
      "Epoch 155/300\n",
      "73/73 [==============================] - 11s 148ms/step - loss: 0.0013\n",
      "Epoch 156/300\n",
      "73/73 [==============================] - 11s 148ms/step - loss: 0.0013\n",
      "Epoch 157/300\n",
      "73/73 [==============================] - 11s 148ms/step - loss: 0.0013\n",
      "Epoch 158/300\n",
      "73/73 [==============================] - 11s 148ms/step - loss: 0.0013\n",
      "Epoch 159/300\n",
      "73/73 [==============================] - 11s 148ms/step - loss: 0.0013\n",
      "Epoch 160/300\n",
      "73/73 [==============================] - 11s 148ms/step - loss: 0.0013\n",
      "Epoch 161/300\n",
      "73/73 [==============================] - 11s 148ms/step - loss: 0.0013\n",
      "Epoch 162/300\n",
      "73/73 [==============================] - 11s 148ms/step - loss: 0.0013\n",
      "Epoch 163/300\n",
      "73/73 [==============================] - 11s 147ms/step - loss: 0.0013\n",
      "Epoch 164/300\n",
      "73/73 [==============================] - 11s 148ms/step - loss: 0.0013\n",
      "Epoch 165/300\n",
      "73/73 [==============================] - 11s 147ms/step - loss: 0.0013\n",
      "Epoch 166/300\n",
      "73/73 [==============================] - 11s 148ms/step - loss: 0.0013\n",
      "Epoch 167/300\n",
      "73/73 [==============================] - 11s 148ms/step - loss: 0.0013\n",
      "Epoch 168/300\n",
      "73/73 [==============================] - 11s 148ms/step - loss: 0.0013\n",
      "Epoch 169/300\n",
      "73/73 [==============================] - 11s 148ms/step - loss: 0.0012\n",
      "Epoch 170/300\n",
      "73/73 [==============================] - 11s 148ms/step - loss: 0.0012\n",
      "Epoch 171/300\n",
      "73/73 [==============================] - 11s 149ms/step - loss: 0.0013\n",
      "Epoch 172/300\n",
      "73/73 [==============================] - 11s 149ms/step - loss: 0.0012\n",
      "Epoch 173/300\n",
      "73/73 [==============================] - 11s 148ms/step - loss: 0.0012\n",
      "Epoch 174/300\n",
      "73/73 [==============================] - 11s 148ms/step - loss: 0.0013\n",
      "Epoch 175/300\n",
      "73/73 [==============================] - 11s 148ms/step - loss: 0.0012\n",
      "Epoch 176/300\n",
      "73/73 [==============================] - 11s 148ms/step - loss: 0.0012\n",
      "Epoch 177/300\n",
      "73/73 [==============================] - 11s 148ms/step - loss: 0.0012\n",
      "Epoch 178/300\n",
      "73/73 [==============================] - 11s 148ms/step - loss: 0.0012\n",
      "Epoch 179/300\n",
      "73/73 [==============================] - 11s 149ms/step - loss: 0.0012\n",
      "Epoch 180/300\n",
      "73/73 [==============================] - 11s 149ms/step - loss: 0.0012\n",
      "Epoch 181/300\n",
      "73/73 [==============================] - 11s 148ms/step - loss: 0.0012\n",
      "Epoch 182/300\n",
      "73/73 [==============================] - 11s 148ms/step - loss: 0.0012\n",
      "Epoch 183/300\n",
      "73/73 [==============================] - 11s 148ms/step - loss: 0.0012\n",
      "Epoch 184/300\n",
      "73/73 [==============================] - 11s 148ms/step - loss: 0.0012\n",
      "Epoch 185/300\n",
      "73/73 [==============================] - 11s 149ms/step - loss: 0.0012\n",
      "Epoch 186/300\n",
      "73/73 [==============================] - 11s 149ms/step - loss: 0.0012\n",
      "Epoch 187/300\n",
      "73/73 [==============================] - 11s 148ms/step - loss: 0.0012\n",
      "Epoch 188/300\n",
      "73/73 [==============================] - 11s 148ms/step - loss: 0.0012\n",
      "Epoch 189/300\n",
      "73/73 [==============================] - 11s 148ms/step - loss: 0.0012\n",
      "Epoch 190/300\n",
      "73/73 [==============================] - 11s 148ms/step - loss: 0.0012\n",
      "Epoch 191/300\n",
      "73/73 [==============================] - 11s 148ms/step - loss: 0.0012\n",
      "Epoch 192/300\n",
      "73/73 [==============================] - 11s 148ms/step - loss: 0.0012\n",
      "Epoch 193/300\n",
      "73/73 [==============================] - 11s 148ms/step - loss: 0.0012\n",
      "Epoch 194/300\n",
      "73/73 [==============================] - 11s 148ms/step - loss: 0.0012\n",
      "Epoch 195/300\n",
      "73/73 [==============================] - 11s 148ms/step - loss: 0.0012\n",
      "Epoch 196/300\n",
      "73/73 [==============================] - 11s 148ms/step - loss: 0.0012\n",
      "Epoch 197/300\n",
      "73/73 [==============================] - 11s 149ms/step - loss: 0.0012\n",
      "Epoch 198/300\n",
      "73/73 [==============================] - 11s 149ms/step - loss: 0.0012\n",
      "Epoch 199/300\n",
      "73/73 [==============================] - 11s 149ms/step - loss: 0.0012\n",
      "Epoch 200/300\n",
      "73/73 [==============================] - 11s 149ms/step - loss: 0.0012\n",
      "Epoch 201/300\n",
      "73/73 [==============================] - 11s 148ms/step - loss: 0.0012\n",
      "Epoch 202/300\n",
      "73/73 [==============================] - 11s 148ms/step - loss: 0.0012\n",
      "Epoch 203/300\n",
      "73/73 [==============================] - 11s 149ms/step - loss: 0.0012\n",
      "Epoch 204/300\n",
      "73/73 [==============================] - 11s 148ms/step - loss: 0.0012\n",
      "Epoch 205/300\n",
      "73/73 [==============================] - 11s 149ms/step - loss: 0.0012\n",
      "Epoch 206/300\n",
      "73/73 [==============================] - 11s 148ms/step - loss: 0.0012\n",
      "Epoch 207/300\n",
      "73/73 [==============================] - 11s 149ms/step - loss: 0.0012\n",
      "Epoch 208/300\n",
      "73/73 [==============================] - 11s 149ms/step - loss: 0.0012\n",
      "Epoch 209/300\n",
      "73/73 [==============================] - 11s 148ms/step - loss: 0.0012\n",
      "Epoch 210/300\n",
      "73/73 [==============================] - 11s 148ms/step - loss: 0.0012\n",
      "Epoch 211/300\n",
      "73/73 [==============================] - 11s 148ms/step - loss: 0.0012\n",
      "Epoch 212/300\n",
      "73/73 [==============================] - 11s 148ms/step - loss: 0.0012\n",
      "Epoch 213/300\n",
      "73/73 [==============================] - 11s 148ms/step - loss: 0.0012\n",
      "Epoch 214/300\n",
      "73/73 [==============================] - 11s 149ms/step - loss: 0.0012\n",
      "Epoch 215/300\n",
      "73/73 [==============================] - 11s 149ms/step - loss: 0.0012\n",
      "Epoch 216/300\n",
      "73/73 [==============================] - 11s 149ms/step - loss: 0.0012\n",
      "Epoch 217/300\n",
      "73/73 [==============================] - 11s 149ms/step - loss: 0.0012\n",
      "Epoch 218/300\n",
      "73/73 [==============================] - 11s 149ms/step - loss: 0.0012\n",
      "Epoch 219/300\n",
      "73/73 [==============================] - 11s 149ms/step - loss: 0.0012\n",
      "Epoch 220/300\n",
      "73/73 [==============================] - 11s 149ms/step - loss: 0.0012\n",
      "Epoch 221/300\n",
      "73/73 [==============================] - 11s 148ms/step - loss: 0.0012\n",
      "Epoch 222/300\n",
      "73/73 [==============================] - 11s 149ms/step - loss: 0.0012\n",
      "Epoch 223/300\n",
      "73/73 [==============================] - 11s 149ms/step - loss: 0.0012\n",
      "Epoch 224/300\n",
      "73/73 [==============================] - 11s 148ms/step - loss: 0.0012\n",
      "Epoch 225/300\n",
      "73/73 [==============================] - 11s 148ms/step - loss: 0.0012\n",
      "Epoch 226/300\n",
      "73/73 [==============================] - 11s 148ms/step - loss: 0.0012\n",
      "Epoch 227/300\n",
      "73/73 [==============================] - 11s 148ms/step - loss: 0.0012\n",
      "Epoch 228/300\n",
      "73/73 [==============================] - 11s 148ms/step - loss: 0.0012\n",
      "Epoch 229/300\n",
      "73/73 [==============================] - 11s 148ms/step - loss: 0.0012\n",
      "Epoch 230/300\n",
      "73/73 [==============================] - 11s 148ms/step - loss: 0.0012\n",
      "Epoch 231/300\n",
      "73/73 [==============================] - 11s 148ms/step - loss: 0.0012\n",
      "Epoch 232/300\n",
      "73/73 [==============================] - 11s 148ms/step - loss: 0.0012\n",
      "Epoch 233/300\n",
      "73/73 [==============================] - 11s 148ms/step - loss: 0.0012\n",
      "Epoch 234/300\n",
      "73/73 [==============================] - 11s 148ms/step - loss: 0.0012\n",
      "Epoch 235/300\n",
      "73/73 [==============================] - 11s 148ms/step - loss: 0.0012\n",
      "Epoch 236/300\n",
      "73/73 [==============================] - 11s 148ms/step - loss: 0.0012\n",
      "Epoch 237/300\n",
      "73/73 [==============================] - 11s 148ms/step - loss: 0.0012\n",
      "Epoch 238/300\n",
      "73/73 [==============================] - 11s 148ms/step - loss: 0.0012\n",
      "Epoch 239/300\n",
      "73/73 [==============================] - 11s 148ms/step - loss: 0.0012\n",
      "Epoch 240/300\n",
      "73/73 [==============================] - 11s 157ms/step - loss: 0.0012\n",
      "Epoch 241/300\n",
      "73/73 [==============================] - 11s 154ms/step - loss: 0.0012\n",
      "Epoch 242/300\n",
      "73/73 [==============================] - 11s 152ms/step - loss: 0.0012\n",
      "Epoch 243/300\n",
      "73/73 [==============================] - 11s 152ms/step - loss: 0.0012\n",
      "Epoch 244/300\n",
      "73/73 [==============================] - 11s 152ms/step - loss: 0.0012\n",
      "Epoch 245/300\n",
      "73/73 [==============================] - 11s 152ms/step - loss: 0.0012\n",
      "Epoch 246/300\n",
      "73/73 [==============================] - 11s 152ms/step - loss: 0.0012\n",
      "Epoch 247/300\n",
      "73/73 [==============================] - 11s 152ms/step - loss: 0.0012\n",
      "Epoch 248/300\n",
      "73/73 [==============================] - 11s 152ms/step - loss: 0.0012\n",
      "Epoch 249/300\n",
      "73/73 [==============================] - 11s 152ms/step - loss: 0.0012\n",
      "Epoch 250/300\n",
      "73/73 [==============================] - 11s 152ms/step - loss: 0.0012\n",
      "Epoch 251/300\n",
      "73/73 [==============================] - 11s 152ms/step - loss: 0.0012\n",
      "Epoch 252/300\n",
      "73/73 [==============================] - 11s 152ms/step - loss: 0.0012\n",
      "Epoch 253/300\n",
      "73/73 [==============================] - 11s 152ms/step - loss: 0.0012\n",
      "Epoch 254/300\n",
      "73/73 [==============================] - 11s 152ms/step - loss: 0.0012\n",
      "Epoch 255/300\n",
      "73/73 [==============================] - 11s 152ms/step - loss: 0.0012\n",
      "Epoch 256/300\n",
      "73/73 [==============================] - 11s 152ms/step - loss: 0.0012\n",
      "Epoch 257/300\n",
      "73/73 [==============================] - 11s 152ms/step - loss: 0.0012\n",
      "Epoch 258/300\n",
      "73/73 [==============================] - 11s 152ms/step - loss: 0.0012\n",
      "Epoch 259/300\n",
      "73/73 [==============================] - 11s 152ms/step - loss: 0.0012\n",
      "Epoch 260/300\n",
      "73/73 [==============================] - 11s 152ms/step - loss: 0.0012\n",
      "Epoch 261/300\n",
      "73/73 [==============================] - 11s 152ms/step - loss: 0.0012\n",
      "Epoch 262/300\n",
      "73/73 [==============================] - 11s 152ms/step - loss: 0.0012\n",
      "Epoch 263/300\n",
      "73/73 [==============================] - 11s 152ms/step - loss: 0.0012\n",
      "Epoch 264/300\n",
      "73/73 [==============================] - 11s 152ms/step - loss: 0.0011\n",
      "Epoch 265/300\n",
      "73/73 [==============================] - 11s 153ms/step - loss: 0.0011\n",
      "Epoch 266/300\n",
      "73/73 [==============================] - 11s 153ms/step - loss: 0.0011\n",
      "Epoch 267/300\n",
      "73/73 [==============================] - 11s 153ms/step - loss: 0.0011\n",
      "Epoch 268/300\n",
      "73/73 [==============================] - 11s 152ms/step - loss: 0.0011\n",
      "Epoch 269/300\n",
      "73/73 [==============================] - 11s 152ms/step - loss: 0.0011\n",
      "Epoch 270/300\n",
      "73/73 [==============================] - 11s 151ms/step - loss: 0.0011\n",
      "Epoch 271/300\n",
      "73/73 [==============================] - 11s 151ms/step - loss: 0.0012\n",
      "Epoch 272/300\n",
      "73/73 [==============================] - 11s 151ms/step - loss: 0.0011\n",
      "Epoch 273/300\n",
      "73/73 [==============================] - 11s 151ms/step - loss: 0.0011\n",
      "Epoch 274/300\n",
      "73/73 [==============================] - 11s 151ms/step - loss: 0.0011\n",
      "Epoch 275/300\n",
      "73/73 [==============================] - 11s 151ms/step - loss: 0.0011\n",
      "Epoch 276/300\n",
      "73/73 [==============================] - 11s 151ms/step - loss: 0.0011\n",
      "Epoch 277/300\n",
      "73/73 [==============================] - 11s 151ms/step - loss: 0.0011\n",
      "Epoch 278/300\n",
      "73/73 [==============================] - 11s 151ms/step - loss: 0.0011\n",
      "Epoch 279/300\n",
      "73/73 [==============================] - 11s 151ms/step - loss: 0.0011\n",
      "Epoch 280/300\n",
      "73/73 [==============================] - 11s 151ms/step - loss: 0.0011\n",
      "Epoch 281/300\n",
      "73/73 [==============================] - 11s 151ms/step - loss: 0.0011\n",
      "Epoch 282/300\n",
      "73/73 [==============================] - 11s 151ms/step - loss: 0.0011\n",
      "Epoch 283/300\n",
      "73/73 [==============================] - 11s 151ms/step - loss: 0.0011\n",
      "Epoch 284/300\n",
      "73/73 [==============================] - 11s 151ms/step - loss: 0.0011\n",
      "Epoch 285/300\n",
      "73/73 [==============================] - 11s 151ms/step - loss: 0.0011\n",
      "Epoch 286/300\n",
      "73/73 [==============================] - 11s 151ms/step - loss: 0.0011\n",
      "Epoch 287/300\n",
      "73/73 [==============================] - 11s 151ms/step - loss: 0.0012\n",
      "Epoch 288/300\n",
      "73/73 [==============================] - 11s 151ms/step - loss: 0.0011\n",
      "Epoch 289/300\n",
      "73/73 [==============================] - 11s 151ms/step - loss: 0.0011\n",
      "Epoch 290/300\n",
      "73/73 [==============================] - 11s 151ms/step - loss: 0.0011\n",
      "Epoch 291/300\n",
      "73/73 [==============================] - 11s 151ms/step - loss: 0.0011\n",
      "Epoch 292/300\n",
      "73/73 [==============================] - 11s 151ms/step - loss: 0.0011\n",
      "Epoch 293/300\n",
      "73/73 [==============================] - 11s 151ms/step - loss: 0.0011\n",
      "Epoch 294/300\n",
      "73/73 [==============================] - 11s 151ms/step - loss: 0.0011\n",
      "Epoch 295/300\n",
      "73/73 [==============================] - 11s 152ms/step - loss: 0.0011\n",
      "Epoch 296/300\n",
      "73/73 [==============================] - 11s 148ms/step - loss: 0.0011\n",
      "Epoch 297/300\n",
      "73/73 [==============================] - 11s 148ms/step - loss: 0.0011\n",
      "Epoch 298/300\n",
      "73/73 [==============================] - 11s 148ms/step - loss: 0.0011\n",
      "Epoch 299/300\n",
      "73/73 [==============================] - 11s 148ms/step - loss: 0.0011\n",
      "Epoch 300/300\n",
      "73/73 [==============================] - 11s 147ms/step - loss: 0.0011\n"
     ]
    }
   ],
   "source": [
    "history = auto_encoder.fit( X_train, X_train, epochs = EPOCH, batch_size = BATCH  )"
   ]
  },
  {
   "cell_type": "markdown",
   "metadata": {
    "id": "RIZdFM_NZEkP"
   },
   "source": [
    "# Test Model"
   ]
  },
  {
   "cell_type": "code",
   "execution_count": 18,
   "metadata": {
    "id": "_BJVEDNFKQJL"
   },
   "outputs": [
    {
     "name": "stdout",
     "output_type": "stream",
     "text": [
      "WARNING:tensorflow:Compiled the loaded model, but the compiled metrics have yet to be built. `model.compile_metrics` will be empty until you train or evaluate the model.\n",
      "WARNING:tensorflow:Compiled the loaded model, but the compiled metrics have yet to be built. `model.compile_metrics` will be empty until you train or evaluate the model.\n"
     ]
    }
   ],
   "source": [
    "os.chdir( RESULT_DIR )\n",
    "\n",
    "new_result_dir = f\"{EXPERIMENT_DATA['name']}_{EXPERIMENT_DATA['date']}_Data\"\n",
    "os.mkdir( new_result_dir )\n",
    "os.chdir( new_result_dir )\n",
    "\n",
    "encoder.save('encoder.h5')\n",
    "decoder.save('decoder.h5')\n",
    "auto_encoder.save('auto_encoder.h5')\n",
    "\n",
    "with open( 'Description.txt', 'w' ) as f:\n",
    "    f.write( EXPERIMENT_DATA['description'] )"
   ]
  },
  {
   "cell_type": "markdown",
   "metadata": {},
   "source": [
    "## Check Reconstruction"
   ]
  },
  {
   "cell_type": "code",
   "execution_count": 22,
   "metadata": {},
   "outputs": [
    {
     "name": "stdout",
     "output_type": "stream",
     "text": [
      "Trajectory_Clusetring(Vessel_Method)_Reconstruction(02-16-2022).png\n"
     ]
    },
    {
     "data": {
      "text/plain": [
       "<Figure size 432x288 with 0 Axes>"
      ]
     },
     "metadata": {},
     "output_type": "display_data"
    },
    {
     "data": {
      "image/png": "[encoded data removed]",
      "text/plain": [
       "<Figure size 11520x2304 with 20 Axes>"
      ]
     },
     "metadata": {
      "needs_background": "light"
     },
     "output_type": "display_data"
    }
   ],
   "source": [
    "n = 10\n",
    "decoded_img = auto_encoder(X_train[:n])\n",
    "\n",
    "plt.gray()\n",
    "\n",
    "fig, ax = plt.subplots( 2, n, sharex = True, sharey = True, figsize = ( 160, 32 ) )\n",
    "for i in range( n ):\n",
    "    ax[0][i].imshow( X_train[i].reshape( HEIGHT, WIDTH ) )\n",
    "    ax[1][i].imshow( tf.reshape( decoded_img[i], ( HEIGHT, WIDTH ) ) )\n",
    "\n",
    "result_name = (EXPERIMENT_DATA['name'] + '_'\n",
    "    + 'Reconstruction' + '('\n",
    "    + EXPERIMENT_DATA['date'] + ').png')\n",
    "print( result_name )\n",
    "\n",
    "plt.savefig( result_name, dpi = 100 )\n",
    "plt.show()"
   ]
  }
 ],
 "metadata": {
  "accelerator": "GPU",
  "colab": {
   "authorship_tag": "ABX9TyO5xGngAUpHeRi8s/W7TW7e",
   "collapsed_sections": [],
   "include_colab_link": true,
   "mount_file_id": "1-NXO5VFyOpZpe4_IfU-y1nyC8H5ezAYj",
   "name": "Trajectory_Clustering_16.ipynb",
   "provenance": [],
   "toc_visible": true
  },
  "kernelspec": {
   "display_name": "Python 3",
   "language": "python",
   "name": "python3"
  },
  "language_info": {
   "codemirror_mode": {
    "name": "ipython",
    "version": 3
   },
   "file_extension": ".py",
   "mimetype": "text/x-python",
   "name": "python",
   "nbconvert_exporter": "python",
   "pygments_lexer": "ipython3",
   "version": "3.8.8"
  }
 },
 "nbformat": 4,
 "nbformat_minor": 4
}
