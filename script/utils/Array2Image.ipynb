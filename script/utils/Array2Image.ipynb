{
 "cells": [
  {
   "cell_type": "code",
   "execution_count": null,
   "metadata": {
    "id": "-TXDOfTcTC9a"
   },
   "outputs": [],
   "source": [
    "import cv2 \n",
    "from google.colab.patches import cv2_imshow\n",
    "import numpy as np\n",
    "import os\n",
    "import pandas as pd\n",
    "import glob\n",
    "import random"
   ]
  },
  {
   "cell_type": "code",
   "execution_count": null,
   "metadata": {
    "id": "qT7LtcJKT5tq"
   },
   "outputs": [],
   "source": [
    "#빈 캔버스 만들기\n",
    "def init() : \n",
    "  blank = np.zeros([512,512],dtype=np.uint8)\n",
    "  blank.fill(255)\n",
    "  blank = cv2.resize(blank,(512,512))\n",
    "  \n",
    "  return blank"
   ]
  },
  {
   "cell_type": "code",
   "execution_count": null,
   "metadata": {
    "id": "sHZEQk5AWROi"
   },
   "outputs": [],
   "source": [
    "def drawNp(img):\n",
    "  blank = init()\n",
    "  #print(img.shape[0])\n",
    "  for i in range(0,img.shape[0]):\n",
    "    for j in range(0,img.shape[1]):\n",
    "      if img[i][j] == 1 :\n",
    "        blank[i][j] = 0\n",
    "\n",
    "  return blank"
   ]
  },
  {
   "cell_type": "code",
   "execution_count": null,
   "metadata": {
    "id": "EJVe1GBspp-t"
   },
   "outputs": [],
   "source": [
    "def coorMaxMin(file):\n",
    "  minX, minY = (file.loc[0][0],file.loc[0][1])\n",
    "  maxX, maxY = (file.loc[0][0],file.loc[0][1])\n",
    "  for i in range(0,file.shape[0]):\n",
    "    x = file.loc[i][0]\n",
    "    y = file.loc[i][1]\n",
    "    if x > maxX :\n",
    "      maxX = x\n",
    "    if x < minX :\n",
    "      minX = x\n",
    "    if y > maxY :\n",
    "      maxY = y\n",
    "    if y < minY :\n",
    "      minY = y\n",
    "\n",
    "  return minX, minY, maxX, maxY"
   ]
  },
  {
   "cell_type": "code",
   "execution_count": null,
   "metadata": {
    "id": "-nXFFd6r2YLu"
   },
   "outputs": [],
   "source": [
    "def map2Image(minX,minY,maxX,maxY,csv_file):\n",
    "\n",
    "  inputImage = np.zeros([512,512], dtype=np.uint8)\n",
    "\n",
    "  for i in range(0,csv_file.shape[0]):\n",
    "    x = csv_file.loc[i][0]\n",
    "    y = csv_file.loc[i][1]\n",
    "\n",
    "    mapX = int(round(np.interp(x,[minX,maxX],[0,500])))\n",
    "    mapY = int(round(np.interp(y,[minY,maxY],[0,500])))\n",
    "    inputImage[mapX][mapY] = 1\n",
    "\n",
    "  outputImage = drawNp(inputImage)\n",
    "\n",
    "  rotImage = np.rot90(outputImage)\n",
    "\n",
    "  return rotImage"
   ]
  },
  {
   "cell_type": "code",
   "execution_count": 28,
   "metadata": {
    "id": "xWWDTNDGCPjI"
   },
   "outputs": [],
   "source": [
    "def map2Image_noise(minX,minY,maxX,maxY,csv_file,fileName):\n",
    "\n",
    "  inputImage = np.zeros([512,512], dtype=np.uint8)\n",
    "\n",
    "  randomList = set()\n",
    "  while len(randomList) < int(csv_file.shape[0]/7):\n",
    "    randomList.add(random.randint(0,csv_file.shape[0]))\n",
    "  print(fileName)\n",
    "  newName = fileName+\"_noise.csv\"\n",
    "  print(newName)\n",
    "\n",
    "  data = {\"lat\":[],\"long\":[],\"num\":[],\"Noise\":[]}\n",
    "\n",
    "  randomList=list(randomList)\n",
    "  dicisionList = [1,-1]\n",
    "  for i in range(0,csv_file.shape[0]):\n",
    "\n",
    "    try:\n",
    "      randomList.index(i)\n",
    "      \n",
    "      r = random.uniform((minX-maxX)/40,(minX-maxX)/20)\n",
    "      D = random.choice(dicisionList)\n",
    "\n",
    "      x = csv_file.loc[i][0]-(D*r)\n",
    "      y = csv_file.loc[i][1]-(D*r)\n",
    "\n",
    "      mapX = int(round(np.interp(x,[minX,maxX],[0,500])))\n",
    "      mapY = int(round(np.interp(y,[minY,maxY], [0,500])))\n",
    "      inputImage[mapX][mapY] = 1\n",
    "      data[\"lat\"].append(x)\n",
    "      data[\"long\"].append(y)\n",
    "      data[\"num\"].append(i)\n",
    "      data[\"Noise\"].append(True)\n",
    "\n",
    "    except:\n",
    "      x = csv_file.loc[i][0]\n",
    "      y = csv_file.loc[i][1]\n",
    "\n",
    "      mapX = int(round(np.interp(x,[minX,maxX],[0,500])))\n",
    "      mapY = int(round(np.interp(y,[minY,maxY], [0,500])))\n",
    "      inputImage[mapX][mapY] = 1\n",
    "      data[\"lat\"].append(x)\n",
    "      data[\"long\"].append(y)\n",
    "      data[\"num\"].append(i)\n",
    "      data[\"Noise\"].append(False)\n",
    "\n",
    "\n",
    "  outputImage = drawNp(inputImage)\n",
    "\n",
    "  rotImage = np.rot90(outputImage)\n",
    "  print(data)\n",
    "\n",
    "  dataFrame = pd.DataFrame(data)\n",
    "\n",
    "  print(dataFrame)\n",
    "\n",
    "  dataFrame.to_csv(newName,index=False)\n",
    "\n",
    "  return rotImage"
   ]
  },
  {
   "cell_type": "code",
   "execution_count": null,
   "metadata": {
    "colab": {
     "base_uri": "https://localhost:8080/",
     "height": 1000
    },
    "id": "O5D04YpdnE1Y",
    "outputId": "77f03504-cbce-4f8f-cbb1-b59630210015"
   },
   "outputs": [],
   "source": [
    "os.chdir(\"/content/drive/My Drive/WayPoint/직접찍은데이터/\")\n",
    "#os.chdir(\"/content/drive/My Drive/WayPoint/201607/\")\n",
    "\n",
    "files = glob.glob(\"*csv\")\n",
    "\n",
    "for myFile in files:\n",
    "  csv_file = pd.read_csv(myFile, names=[\"lat\",\"long\",\"num\"], header=None)\n",
    "  \n",
    "  minX, minY, maxX, maxY = coorMaxMin(csv_file)\n",
    "  print(minX-maxX)\n",
    "  resultImage = map2Image_noise(minX,minY,maxX,maxY,csv_file,myFile[:-4])\n",
    "\n",
    "  cv2_imshow(resultImage)\n",
    "\n",
    "\n"
   ]
  },
  {
   "cell_type": "code",
   "execution_count": null,
   "metadata": {
    "colab": {
     "base_uri": "https://localhost:8080/",
     "height": 546
    },
    "id": "Ow86p6GFtZNK",
    "outputId": "52eed13e-ccd0-447b-8b06-18559df20e3e"
   },
   "outputs": [
    {
     "name": "stdout",
     "output_type": "stream",
     "text": [
      "512\n"
     ]
    },
    {
     "data": {
      "image/png": "[encoded data removed]",
      "text/plain": [
       "<PIL.Image.Image image mode=L size=512x512 at 0x7F975C03D6A0>"
      ]
     },
     "metadata": {
      "tags": []
     },
     "output_type": "display_data"
    }
   ],
   "source": [
    "resultImage = map2Image(minX,minY,maxX,maxY,csv_file)\n",
    "\n",
    "cv2_imshow(resultImage)\n"
   ]
  },
  {
   "cell_type": "code",
   "execution_count": null,
   "metadata": {
    "id": "sZj5HAoT5aLs"
   },
   "outputs": [],
   "source": []
  }
 ],
 "metadata": {
  "colab": {
   "collapsed_sections": [],
   "name": "Array2Image.ipynb",
   "provenance": [],
   "toc_visible": true
  },
  "kernelspec": {
   "display_name": "Python 3",
   "language": "python",
   "name": "python3"
  },
  "language_info": {
   "codemirror_mode": {
    "name": "ipython",
    "version": 3
   },
   "file_extension": ".py",
   "mimetype": "text/x-python",
   "name": "python",
   "nbconvert_exporter": "python",
   "pygments_lexer": "ipython3",
   "version": "3.7.4"
  }
 },
 "nbformat": 4,
 "nbformat_minor": 1
}
